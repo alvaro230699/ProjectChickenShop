{
 "cells": [
  {
   "cell_type": "code",
   "execution_count": 120,
   "metadata": {},
   "outputs": [],
   "source": [
    "import numpy as np\n",
    "import pandas as pd\n",
    "import matplotlib.pyplot as plt\n",
    "import seaborn as sns\n",
    "%matplotlib inline"
   ]
  },
  {
   "cell_type": "code",
   "execution_count": 121,
   "metadata": {},
   "outputs": [],
   "source": [
    "VPollos=pd.read_excel('DatosVentaPollo.xlsx')"
   ]
  },
  {
   "cell_type": "code",
   "execution_count": 122,
   "metadata": {},
   "outputs": [
    {
     "data": {
      "text/plain": [
       "Index(['Day', 'WeekDay', 'NroDay', 'Máx Temperature(°C)',\n",
       "       'Mín Temperature(°C)', 'Difference Temperature', 'Feriado',\n",
       "       'Pollos Enteros', '1/2 Pollo', '1/4 Pollo', '1/8 pollo',\n",
       "       'Pollos Vendidos'],\n",
       "      dtype='object')"
      ]
     },
     "execution_count": 122,
     "metadata": {},
     "output_type": "execute_result"
    }
   ],
   "source": [
    "VPollos.columns"
   ]
  },
  {
   "cell_type": "code",
   "execution_count": 123,
   "metadata": {},
   "outputs": [],
   "source": [
    "VPollos.drop(['Day','Pollos Enteros', '1/2 Pollo', '1/4 Pollo', '1/8 pollo','Máx Temperature(°C)'],axis=1,inplace=True)"
   ]
  },
  {
   "cell_type": "code",
   "execution_count": 124,
   "metadata": {},
   "outputs": [],
   "source": [
    "VPollos=VPollos[VPollos['Pollos Vendidos']!=0]"
   ]
  },
  {
   "cell_type": "code",
   "execution_count": 125,
   "metadata": {},
   "outputs": [
    {
     "data": {
      "text/html": [
       "<div>\n",
       "<style scoped>\n",
       "    .dataframe tbody tr th:only-of-type {\n",
       "        vertical-align: middle;\n",
       "    }\n",
       "\n",
       "    .dataframe tbody tr th {\n",
       "        vertical-align: top;\n",
       "    }\n",
       "\n",
       "    .dataframe thead th {\n",
       "        text-align: right;\n",
       "    }\n",
       "</style>\n",
       "<table border=\"1\" class=\"dataframe\">\n",
       "  <thead>\n",
       "    <tr style=\"text-align: right;\">\n",
       "      <th></th>\n",
       "      <th>WeekDay</th>\n",
       "      <th>NroDay</th>\n",
       "      <th>Mín Temperature(°C)</th>\n",
       "      <th>Difference Temperature</th>\n",
       "      <th>Feriado</th>\n",
       "      <th>Pollos Vendidos</th>\n",
       "    </tr>\n",
       "  </thead>\n",
       "  <tbody>\n",
       "    <tr>\n",
       "      <td>0</td>\n",
       "      <td>3</td>\n",
       "      <td>17</td>\n",
       "      <td>20</td>\n",
       "      <td>6</td>\n",
       "      <td>0</td>\n",
       "      <td>126</td>\n",
       "    </tr>\n",
       "    <tr>\n",
       "      <td>1</td>\n",
       "      <td>4</td>\n",
       "      <td>18</td>\n",
       "      <td>19</td>\n",
       "      <td>6</td>\n",
       "      <td>0</td>\n",
       "      <td>120</td>\n",
       "    </tr>\n",
       "    <tr>\n",
       "      <td>2</td>\n",
       "      <td>5</td>\n",
       "      <td>19</td>\n",
       "      <td>20</td>\n",
       "      <td>4</td>\n",
       "      <td>0</td>\n",
       "      <td>110</td>\n",
       "    </tr>\n",
       "    <tr>\n",
       "      <td>3</td>\n",
       "      <td>6</td>\n",
       "      <td>20</td>\n",
       "      <td>19</td>\n",
       "      <td>5</td>\n",
       "      <td>0</td>\n",
       "      <td>144</td>\n",
       "    </tr>\n",
       "    <tr>\n",
       "      <td>4</td>\n",
       "      <td>7</td>\n",
       "      <td>21</td>\n",
       "      <td>20</td>\n",
       "      <td>4</td>\n",
       "      <td>0</td>\n",
       "      <td>166</td>\n",
       "    </tr>\n",
       "    <tr>\n",
       "      <td>...</td>\n",
       "      <td>...</td>\n",
       "      <td>...</td>\n",
       "      <td>...</td>\n",
       "      <td>...</td>\n",
       "      <td>...</td>\n",
       "      <td>...</td>\n",
       "    </tr>\n",
       "    <tr>\n",
       "      <td>84</td>\n",
       "      <td>3</td>\n",
       "      <td>10</td>\n",
       "      <td>22</td>\n",
       "      <td>5</td>\n",
       "      <td>0</td>\n",
       "      <td>78</td>\n",
       "    </tr>\n",
       "    <tr>\n",
       "      <td>85</td>\n",
       "      <td>4</td>\n",
       "      <td>11</td>\n",
       "      <td>21</td>\n",
       "      <td>9</td>\n",
       "      <td>0</td>\n",
       "      <td>78</td>\n",
       "    </tr>\n",
       "    <tr>\n",
       "      <td>86</td>\n",
       "      <td>5</td>\n",
       "      <td>12</td>\n",
       "      <td>23</td>\n",
       "      <td>6</td>\n",
       "      <td>0</td>\n",
       "      <td>112</td>\n",
       "    </tr>\n",
       "    <tr>\n",
       "      <td>87</td>\n",
       "      <td>6</td>\n",
       "      <td>13</td>\n",
       "      <td>23</td>\n",
       "      <td>5</td>\n",
       "      <td>0</td>\n",
       "      <td>76</td>\n",
       "    </tr>\n",
       "    <tr>\n",
       "      <td>88</td>\n",
       "      <td>7</td>\n",
       "      <td>14</td>\n",
       "      <td>22</td>\n",
       "      <td>5</td>\n",
       "      <td>0</td>\n",
       "      <td>190</td>\n",
       "    </tr>\n",
       "  </tbody>\n",
       "</table>\n",
       "<p>83 rows × 6 columns</p>\n",
       "</div>"
      ],
      "text/plain": [
       "    WeekDay  NroDay  Mín Temperature(°C)  Difference Temperature  Feriado  \\\n",
       "0         3      17                   20                       6        0   \n",
       "1         4      18                   19                       6        0   \n",
       "2         5      19                   20                       4        0   \n",
       "3         6      20                   19                       5        0   \n",
       "4         7      21                   20                       4        0   \n",
       "..      ...     ...                  ...                     ...      ...   \n",
       "84        3      10                   22                       5        0   \n",
       "85        4      11                   21                       9        0   \n",
       "86        5      12                   23                       6        0   \n",
       "87        6      13                   23                       5        0   \n",
       "88        7      14                   22                       5        0   \n",
       "\n",
       "    Pollos Vendidos  \n",
       "0               126  \n",
       "1               120  \n",
       "2               110  \n",
       "3               144  \n",
       "4               166  \n",
       "..              ...  \n",
       "84               78  \n",
       "85               78  \n",
       "86              112  \n",
       "87               76  \n",
       "88              190  \n",
       "\n",
       "[83 rows x 6 columns]"
      ]
     },
     "execution_count": 125,
     "metadata": {},
     "output_type": "execute_result"
    }
   ],
   "source": [
    "VPollos.head(85)"
   ]
  },
  {
   "cell_type": "code",
   "execution_count": 126,
   "metadata": {},
   "outputs": [
    {
     "data": {
      "text/plain": [
       "<matplotlib.axes._subplots.AxesSubplot at 0x1ba35a39608>"
      ]
     },
     "execution_count": 126,
     "metadata": {},
     "output_type": "execute_result"
    },
    {
     "data": {
      "image/png": "[encoded data removed]",
      "text/plain": [
       "<Figure size 432x288 with 1 Axes>"
      ]
     },
     "metadata": {},
     "output_type": "display_data"
    }
   ],
   "source": [
    "sns.set_style('darkgrid')\n",
    "sns.distplot(VPollos['Pollos Vendidos'],kde=False,bins=30)"
   ]
  },
  {
   "cell_type": "code",
   "execution_count": 127,
   "metadata": {},
   "outputs": [
    {
     "data": {
      "text/plain": [
       "<seaborn.axisgrid.PairGrid at 0x1ba3395a508>"
      ]
     },
     "execution_count": 127,
     "metadata": {},
     "output_type": "execute_result"
    },
    {
     "data": {
      "image/png": "[encoded data removed]",
      "text/plain": [
       "<Figure size 1080x1080 with 42 Axes>"
      ]
     },
     "metadata": {},
     "output_type": "display_data"
    }
   ],
   "source": [
    "sns.pairplot(VPollos)"
   ]
  },
  {
   "cell_type": "code",
   "execution_count": 128,
   "metadata": {
    "scrolled": true
   },
   "outputs": [
    {
     "data": {
      "text/plain": [
       "<matplotlib.axes._subplots.AxesSubplot at 0x1ba366a2bc8>"
      ]
     },
     "execution_count": 128,
     "metadata": {},
     "output_type": "execute_result"
    },
    {
     "data": {
      "image/png": "[encoded data removed]",
      "text/plain": [
       "<Figure size 1800x720 with 1 Axes>"
      ]
     },
     "metadata": {},
     "output_type": "display_data"
    }
   ],
   "source": [
    "plt.figure(figsize=(25,10))\n",
    "sns.scatterplot('NroDay','Pollos Vendidos',data=VPollos)"
   ]
  },
  {
   "cell_type": "code",
   "execution_count": 129,
   "metadata": {},
   "outputs": [
    {
     "data": {
      "text/plain": [
       "<matplotlib.axes._subplots.AxesSubplot at 0x1ba36d11b88>"
      ]
     },
     "execution_count": 129,
     "metadata": {},
     "output_type": "execute_result"
    },
    {
     "data": {
      "image/png": "[encoded data removed]",
      "text/plain": [
       "<Figure size 432x288 with 1 Axes>"
      ]
     },
     "metadata": {},
     "output_type": "display_data"
    }
   ],
   "source": [
    "sns.scatterplot('WeekDay','Pollos Vendidos',data=VPollos)"
   ]
  },
  {
   "cell_type": "code",
   "execution_count": 130,
   "metadata": {
    "scrolled": true
   },
   "outputs": [
    {
     "data": {
      "text/plain": [
       "<matplotlib.axes._subplots.AxesSubplot at 0x1ba36d81808>"
      ]
     },
     "execution_count": 130,
     "metadata": {},
     "output_type": "execute_result"
    },
    {
     "data": {
      "image/png": "[encoded data removed]",
      "text/plain": [
       "<Figure size 432x288 with 1 Axes>"
      ]
     },
     "metadata": {},
     "output_type": "display_data"
    }
   ],
   "source": [
    "sns.distplot(VPollos[VPollos['WeekDay']==7]['Pollos Vendidos'],bins=20)"
   ]
  },
  {
   "cell_type": "code",
   "execution_count": 12,
   "metadata": {},
   "outputs": [
    {
     "data": {
      "text/html": [
       "        <script type=\"text/javascript\">\n",
       "        window.PlotlyConfig = {MathJaxConfig: 'local'};\n",
       "        if (window.MathJax) {MathJax.Hub.Config({SVG: {font: \"STIX-Web\"}});}\n",
       "        if (typeof require !== 'undefined') {\n",
       "        require.undef(\"plotly\");\n",
       "        requirejs.config({\n",
       "            paths: {\n",
       "                'plotly': ['https://cdn.plot.ly/plotly-latest.min']\n",
       "            }\n",
       "        });\n",
       "        require(['plotly'], function(Plotly) {\n",
       "            window._Plotly = Plotly;\n",
       "        });\n",
       "        }\n",
       "        </script>\n",
       "        "
      ]
     },
     "metadata": {},
     "output_type": "display_data"
    }
   ],
   "source": [
    "import cufflinks as cf\n",
    "cf.go_offline()"
   ]
  },
  {
   "cell_type": "code",
   "execution_count": 13,
   "metadata": {
    "scrolled": true
   },
   "outputs": [
    {
     "data": {
      "application/vnd.plotly.v1+json": {
       "config": {
        "linkText": "Export to plot.ly",
        "plotlyServerURL": "https://plot.ly",
        "showLink": true
       },
       "data": [
        {
         "histfunc": "count",
         "histnorm": "",
         "marker": {
          "color": "rgba(255, 153, 51, 1.0)",
          "line": {
           "color": "#4D5663",
           "width": 1.3
          }
         },
         "name": "Pollos Vendidos",
         "nbinsx": 20,
         "opacity": 0.8,
         "orientation": "v",
         "type": "histogram",
         "x": [
          166,
          112,
          76,
          120,
          94,
          128,
          144,
          174,
          165,
          141,
          198
         ]
        }
       ],
       "layout": {
        "barmode": "overlay",
        "legend": {
         "bgcolor": "#F5F6F9",
         "font": {
          "color": "#4D5663"
         }
        },
        "paper_bgcolor": "#F5F6F9",
        "plot_bgcolor": "#F5F6F9",
        "template": {
         "data": {
          "bar": [
           {
            "error_x": {
             "color": "#2a3f5f"
            },
            "error_y": {
             "color": "#2a3f5f"
            },
            "marker": {
             "line": {
              "color": "#E5ECF6",
              "width": 0.5
             }
            },
            "type": "bar"
           }
          ],
          "barpolar": [
           {
            "marker": {
             "line": {
              "color": "#E5ECF6",
              "width": 0.5
             }
            },
            "type": "barpolar"
           }
          ],
          "carpet": [
           {
            "aaxis": {
             "endlinecolor": "#2a3f5f",
             "gridcolor": "white",
             "linecolor": "white",
             "minorgridcolor": "white",
             "startlinecolor": "#2a3f5f"
            },
            "baxis": {
             "endlinecolor": "#2a3f5f",
             "gridcolor": "white",
             "linecolor": "white",
             "minorgridcolor": "white",
             "startlinecolor": "#2a3f5f"
            },
            "type": "carpet"
           }
          ],
          "choropleth": [
           {
            "colorbar": {
             "outlinewidth": 0,
             "ticks": ""
            },
            "type": "choropleth"
           }
          ],
          "contour": [
           {
            "colorbar": {
             "outlinewidth": 0,
             "ticks": ""
            },
            "colorscale": [
             [
              0,
              "#0d0887"
             ],
             [
              0.1111111111111111,
              "#46039f"
             ],
             [
              0.2222222222222222,
              "#7201a8"
             ],
             [
              0.3333333333333333,
              "#9c179e"
             ],
             [
              0.4444444444444444,
              "#bd3786"
             ],
             [
              0.5555555555555556,
              "#d8576b"
             ],
             [
              0.6666666666666666,
              "#ed7953"
             ],
             [
              0.7777777777777778,
              "#fb9f3a"
             ],
             [
              0.8888888888888888,
              "#fdca26"
             ],
             [
              1,
              "#f0f921"
             ]
            ],
            "type": "contour"
           }
          ],
          "contourcarpet": [
           {
            "colorbar": {
             "outlinewidth": 0,
             "ticks": ""
            },
            "type": "contourcarpet"
           }
          ],
          "heatmap": [
           {
            "colorbar": {
             "outlinewidth": 0,
             "ticks": ""
            },
            "colorscale": [
             [
              0,
              "#0d0887"
             ],
             [
              0.1111111111111111,
              "#46039f"
             ],
             [
              0.2222222222222222,
              "#7201a8"
             ],
             [
              0.3333333333333333,
              "#9c179e"
             ],
             [
              0.4444444444444444,
              "#bd3786"
             ],
             [
              0.5555555555555556,
              "#d8576b"
             ],
             [
              0.6666666666666666,
              "#ed7953"
             ],
             [
              0.7777777777777778,
              "#fb9f3a"
             ],
             [
              0.8888888888888888,
              "#fdca26"
             ],
             [
              1,
              "#f0f921"
             ]
            ],
            "type": "heatmap"
           }
          ],
          "heatmapgl": [
           {
            "colorbar": {
             "outlinewidth": 0,
             "ticks": ""
            },
            "colorscale": [
             [
              0,
              "#0d0887"
             ],
             [
              0.1111111111111111,
              "#46039f"
             ],
             [
              0.2222222222222222,
              "#7201a8"
             ],
             [
              0.3333333333333333,
              "#9c179e"
             ],
             [
              0.4444444444444444,
              "#bd3786"
             ],
             [
              0.5555555555555556,
              "#d8576b"
             ],
             [
              0.6666666666666666,
              "#ed7953"
             ],
             [
              0.7777777777777778,
              "#fb9f3a"
             ],
             [
              0.8888888888888888,
              "#fdca26"
             ],
             [
              1,
              "#f0f921"
             ]
            ],
            "type": "heatmapgl"
           }
          ],
          "histogram": [
           {
            "marker": {
             "colorbar": {
              "outlinewidth": 0,
              "ticks": ""
             }
            },
            "type": "histogram"
           }
          ],
          "histogram2d": [
           {
            "colorbar": {
             "outlinewidth": 0,
             "ticks": ""
            },
            "colorscale": [
             [
              0,
              "#0d0887"
             ],
             [
              0.1111111111111111,
              "#46039f"
             ],
             [
              0.2222222222222222,
              "#7201a8"
             ],
             [
              0.3333333333333333,
              "#9c179e"
             ],
             [
              0.4444444444444444,
              "#bd3786"
             ],
             [
              0.5555555555555556,
              "#d8576b"
             ],
             [
              0.6666666666666666,
              "#ed7953"
             ],
             [
              0.7777777777777778,
              "#fb9f3a"
             ],
             [
              0.8888888888888888,
              "#fdca26"
             ],
             [
              1,
              "#f0f921"
             ]
            ],
            "type": "histogram2d"
           }
          ],
          "histogram2dcontour": [
           {
            "colorbar": {
             "outlinewidth": 0,
             "ticks": ""
            },
            "colorscale": [
             [
              0,
              "#0d0887"
             ],
             [
              0.1111111111111111,
              "#46039f"
             ],
             [
              0.2222222222222222,
              "#7201a8"
             ],
             [
              0.3333333333333333,
              "#9c179e"
             ],
             [
              0.4444444444444444,
              "#bd3786"
             ],
             [
              0.5555555555555556,
              "#d8576b"
             ],
             [
              0.6666666666666666,
              "#ed7953"
             ],
             [
              0.7777777777777778,
              "#fb9f3a"
             ],
             [
              0.8888888888888888,
              "#fdca26"
             ],
             [
              1,
              "#f0f921"
             ]
            ],
            "type": "histogram2dcontour"
           }
          ],
          "mesh3d": [
           {
            "colorbar": {
             "outlinewidth": 0,
             "ticks": ""
            },
            "type": "mesh3d"
           }
          ],
          "parcoords": [
           {
            "line": {
             "colorbar": {
              "outlinewidth": 0,
              "ticks": ""
             }
            },
            "type": "parcoords"
           }
          ],
          "pie": [
           {
            "automargin": true,
            "type": "pie"
           }
          ],
          "scatter": [
           {
            "marker": {
             "colorbar": {
              "outlinewidth": 0,
              "ticks": ""
             }
            },
            "type": "scatter"
           }
          ],
          "scatter3d": [
           {
            "line": {
             "colorbar": {
              "outlinewidth": 0,
              "ticks": ""
             }
            },
            "marker": {
             "colorbar": {
              "outlinewidth": 0,
              "ticks": ""
             }
            },
            "type": "scatter3d"
           }
          ],
          "scattercarpet": [
           {
            "marker": {
             "colorbar": {
              "outlinewidth": 0,
              "ticks": ""
             }
            },
            "type": "scattercarpet"
           }
          ],
          "scattergeo": [
           {
            "marker": {
             "colorbar": {
              "outlinewidth": 0,
              "ticks": ""
             }
            },
            "type": "scattergeo"
           }
          ],
          "scattergl": [
           {
            "marker": {
             "colorbar": {
              "outlinewidth": 0,
              "ticks": ""
             }
            },
            "type": "scattergl"
           }
          ],
          "scattermapbox": [
           {
            "marker": {
             "colorbar": {
              "outlinewidth": 0,
              "ticks": ""
             }
            },
            "type": "scattermapbox"
           }
          ],
          "scatterpolar": [
           {
            "marker": {
             "colorbar": {
              "outlinewidth": 0,
              "ticks": ""
             }
            },
            "type": "scatterpolar"
           }
          ],
          "scatterpolargl": [
           {
            "marker": {
             "colorbar": {
              "outlinewidth": 0,
              "ticks": ""
             }
            },
            "type": "scatterpolargl"
           }
          ],
          "scatterternary": [
           {
            "marker": {
             "colorbar": {
              "outlinewidth": 0,
              "ticks": ""
             }
            },
            "type": "scatterternary"
           }
          ],
          "surface": [
           {
            "colorbar": {
             "outlinewidth": 0,
             "ticks": ""
            },
            "colorscale": [
             [
              0,
              "#0d0887"
             ],
             [
              0.1111111111111111,
              "#46039f"
             ],
             [
              0.2222222222222222,
              "#7201a8"
             ],
             [
              0.3333333333333333,
              "#9c179e"
             ],
             [
              0.4444444444444444,
              "#bd3786"
             ],
             [
              0.5555555555555556,
              "#d8576b"
             ],
             [
              0.6666666666666666,
              "#ed7953"
             ],
             [
              0.7777777777777778,
              "#fb9f3a"
             ],
             [
              0.8888888888888888,
              "#fdca26"
             ],
             [
              1,
              "#f0f921"
             ]
            ],
            "type": "surface"
           }
          ],
          "table": [
           {
            "cells": {
             "fill": {
              "color": "#EBF0F8"
             },
             "line": {
              "color": "white"
             }
            },
            "header": {
             "fill": {
              "color": "#C8D4E3"
             },
             "line": {
              "color": "white"
             }
            },
            "type": "table"
           }
          ]
         },
         "layout": {
          "annotationdefaults": {
           "arrowcolor": "#2a3f5f",
           "arrowhead": 0,
           "arrowwidth": 1
          },
          "coloraxis": {
           "colorbar": {
            "outlinewidth": 0,
            "ticks": ""
           }
          },
          "colorscale": {
           "diverging": [
            [
             0,
             "#8e0152"
            ],
            [
             0.1,
             "#c51b7d"
            ],
            [
             0.2,
             "#de77ae"
            ],
            [
             0.3,
             "#f1b6da"
            ],
            [
             0.4,
             "#fde0ef"
            ],
            [
             0.5,
             "#f7f7f7"
            ],
            [
             0.6,
             "#e6f5d0"
            ],
            [
             0.7,
             "#b8e186"
            ],
            [
             0.8,
             "#7fbc41"
            ],
            [
             0.9,
             "#4d9221"
            ],
            [
             1,
             "#276419"
            ]
           ],
           "sequential": [
            [
             0,
             "#0d0887"
            ],
            [
             0.1111111111111111,
             "#46039f"
            ],
            [
             0.2222222222222222,
             "#7201a8"
            ],
            [
             0.3333333333333333,
             "#9c179e"
            ],
            [
             0.4444444444444444,
             "#bd3786"
            ],
            [
             0.5555555555555556,
             "#d8576b"
            ],
            [
             0.6666666666666666,
             "#ed7953"
            ],
            [
             0.7777777777777778,
             "#fb9f3a"
            ],
            [
             0.8888888888888888,
             "#fdca26"
            ],
            [
             1,
             "#f0f921"
            ]
           ],
           "sequentialminus": [
            [
             0,
             "#0d0887"
            ],
            [
             0.1111111111111111,
             "#46039f"
            ],
            [
             0.2222222222222222,
             "#7201a8"
            ],
            [
             0.3333333333333333,
             "#9c179e"
            ],
            [
             0.4444444444444444,
             "#bd3786"
            ],
            [
             0.5555555555555556,
             "#d8576b"
            ],
            [
             0.6666666666666666,
             "#ed7953"
            ],
            [
             0.7777777777777778,
             "#fb9f3a"
            ],
            [
             0.8888888888888888,
             "#fdca26"
            ],
            [
             1,
             "#f0f921"
            ]
           ]
          },
          "colorway": [
           "#636efa",
           "#EF553B",
           "#00cc96",
           "#ab63fa",
           "#FFA15A",
           "#19d3f3",
           "#FF6692",
           "#B6E880",
           "#FF97FF",
           "#FECB52"
          ],
          "font": {
           "color": "#2a3f5f"
          },
          "geo": {
           "bgcolor": "white",
           "lakecolor": "white",
           "landcolor": "#E5ECF6",
           "showlakes": true,
           "showland": true,
           "subunitcolor": "white"
          },
          "hoverlabel": {
           "align": "left"
          },
          "hovermode": "closest",
          "mapbox": {
           "style": "light"
          },
          "paper_bgcolor": "white",
          "plot_bgcolor": "#E5ECF6",
          "polar": {
           "angularaxis": {
            "gridcolor": "white",
            "linecolor": "white",
            "ticks": ""
           },
           "bgcolor": "#E5ECF6",
           "radialaxis": {
            "gridcolor": "white",
            "linecolor": "white",
            "ticks": ""
           }
          },
          "scene": {
           "xaxis": {
            "backgroundcolor": "#E5ECF6",
            "gridcolor": "white",
            "gridwidth": 2,
            "linecolor": "white",
            "showbackground": true,
            "ticks": "",
            "zerolinecolor": "white"
           },
           "yaxis": {
            "backgroundcolor": "#E5ECF6",
            "gridcolor": "white",
            "gridwidth": 2,
            "linecolor": "white",
            "showbackground": true,
            "ticks": "",
            "zerolinecolor": "white"
           },
           "zaxis": {
            "backgroundcolor": "#E5ECF6",
            "gridcolor": "white",
            "gridwidth": 2,
            "linecolor": "white",
            "showbackground": true,
            "ticks": "",
            "zerolinecolor": "white"
           }
          },
          "shapedefaults": {
           "line": {
            "color": "#2a3f5f"
           }
          },
          "ternary": {
           "aaxis": {
            "gridcolor": "white",
            "linecolor": "white",
            "ticks": ""
           },
           "baxis": {
            "gridcolor": "white",
            "linecolor": "white",
            "ticks": ""
           },
           "bgcolor": "#E5ECF6",
           "caxis": {
            "gridcolor": "white",
            "linecolor": "white",
            "ticks": ""
           }
          },
          "title": {
           "x": 0.05
          },
          "xaxis": {
           "automargin": true,
           "gridcolor": "white",
           "linecolor": "white",
           "ticks": "",
           "title": {
            "standoff": 15
           },
           "zerolinecolor": "white",
           "zerolinewidth": 2
          },
          "yaxis": {
           "automargin": true,
           "gridcolor": "white",
           "linecolor": "white",
           "ticks": "",
           "title": {
            "standoff": 15
           },
           "zerolinecolor": "white",
           "zerolinewidth": 2
          }
         }
        },
        "title": {
         "font": {
          "color": "#4D5663"
         }
        },
        "xaxis": {
         "gridcolor": "#E1E5ED",
         "showgrid": true,
         "tickfont": {
          "color": "#4D5663"
         },
         "title": {
          "font": {
           "color": "#4D5663"
          },
          "text": ""
         },
         "zerolinecolor": "#E1E5ED"
        },
        "yaxis": {
         "gridcolor": "#E1E5ED",
         "showgrid": true,
         "tickfont": {
          "color": "#4D5663"
         },
         "title": {
          "font": {
           "color": "#4D5663"
          },
          "text": ""
         },
         "zerolinecolor": "#E1E5ED"
        }
       }
      },
      "text/html": [
       "<div>\n",
       "        \n",
       "        \n",
       "            <div id=\"d1d7f3b0-8079-4372-9b6b-0d2decc01347\" class=\"plotly-graph-div\" style=\"height:525px; width:100%;\"></div>\n",
       "            <script type=\"text/javascript\">\n",
       "                require([\"plotly\"], function(Plotly) {\n",
       "                    window.PLOTLYENV=window.PLOTLYENV || {};\n",
       "                    window.PLOTLYENV.BASE_URL='https://plot.ly';\n",
       "                    \n",
       "                if (document.getElementById(\"d1d7f3b0-8079-4372-9b6b-0d2decc01347\")) {\n",
       "                    Plotly.newPlot(\n",
       "                        'd1d7f3b0-8079-4372-9b6b-0d2decc01347',\n",
       "                        [{\"histfunc\": \"count\", \"histnorm\": \"\", \"marker\": {\"color\": \"rgba(255, 153, 51, 1.0)\", \"line\": {\"color\": \"#4D5663\", \"width\": 1.3}}, \"name\": \"Pollos Vendidos\", \"nbinsx\": 20, \"opacity\": 0.8, \"orientation\": \"v\", \"type\": \"histogram\", \"x\": [166, 112, 76, 120, 94, 128, 144, 174, 165, 141, 198]}],\n",
       "                        {\"barmode\": \"overlay\", \"legend\": {\"bgcolor\": \"#F5F6F9\", \"font\": {\"color\": \"#4D5663\"}}, \"paper_bgcolor\": \"#F5F6F9\", \"plot_bgcolor\": \"#F5F6F9\", \"template\": {\"data\": {\"bar\": [{\"error_x\": {\"color\": \"#2a3f5f\"}, \"error_y\": {\"color\": \"#2a3f5f\"}, \"marker\": {\"line\": {\"color\": \"#E5ECF6\", \"width\": 0.5}}, \"type\": \"bar\"}], \"barpolar\": [{\"marker\": {\"line\": {\"color\": \"#E5ECF6\", \"width\": 0.5}}, \"type\": \"barpolar\"}], \"carpet\": [{\"aaxis\": {\"endlinecolor\": \"#2a3f5f\", \"gridcolor\": \"white\", \"linecolor\": \"white\", \"minorgridcolor\": \"white\", \"startlinecolor\": \"#2a3f5f\"}, \"baxis\": {\"endlinecolor\": \"#2a3f5f\", \"gridcolor\": \"white\", \"linecolor\": \"white\", \"minorgridcolor\": \"white\", \"startlinecolor\": \"#2a3f5f\"}, \"type\": \"carpet\"}], \"choropleth\": [{\"colorbar\": {\"outlinewidth\": 0, \"ticks\": \"\"}, \"type\": \"choropleth\"}], \"contour\": [{\"colorbar\": {\"outlinewidth\": 0, \"ticks\": \"\"}, \"colorscale\": [[0.0, \"#0d0887\"], [0.1111111111111111, \"#46039f\"], [0.2222222222222222, \"#7201a8\"], [0.3333333333333333, \"#9c179e\"], [0.4444444444444444, \"#bd3786\"], [0.5555555555555556, \"#d8576b\"], [0.6666666666666666, \"#ed7953\"], [0.7777777777777778, \"#fb9f3a\"], [0.8888888888888888, \"#fdca26\"], [1.0, \"#f0f921\"]], \"type\": \"contour\"}], \"contourcarpet\": [{\"colorbar\": {\"outlinewidth\": 0, \"ticks\": \"\"}, \"type\": \"contourcarpet\"}], \"heatmap\": [{\"colorbar\": {\"outlinewidth\": 0, \"ticks\": \"\"}, \"colorscale\": [[0.0, \"#0d0887\"], [0.1111111111111111, \"#46039f\"], [0.2222222222222222, \"#7201a8\"], [0.3333333333333333, \"#9c179e\"], [0.4444444444444444, \"#bd3786\"], [0.5555555555555556, \"#d8576b\"], [0.6666666666666666, \"#ed7953\"], [0.7777777777777778, \"#fb9f3a\"], [0.8888888888888888, \"#fdca26\"], [1.0, \"#f0f921\"]], \"type\": \"heatmap\"}], \"heatmapgl\": [{\"colorbar\": {\"outlinewidth\": 0, \"ticks\": \"\"}, \"colorscale\": [[0.0, \"#0d0887\"], [0.1111111111111111, \"#46039f\"], [0.2222222222222222, \"#7201a8\"], [0.3333333333333333, \"#9c179e\"], [0.4444444444444444, \"#bd3786\"], [0.5555555555555556, \"#d8576b\"], [0.6666666666666666, \"#ed7953\"], [0.7777777777777778, \"#fb9f3a\"], [0.8888888888888888, \"#fdca26\"], [1.0, \"#f0f921\"]], \"type\": \"heatmapgl\"}], \"histogram\": [{\"marker\": {\"colorbar\": {\"outlinewidth\": 0, \"ticks\": \"\"}}, \"type\": \"histogram\"}], \"histogram2d\": [{\"colorbar\": {\"outlinewidth\": 0, \"ticks\": \"\"}, \"colorscale\": [[0.0, \"#0d0887\"], [0.1111111111111111, \"#46039f\"], [0.2222222222222222, \"#7201a8\"], [0.3333333333333333, \"#9c179e\"], [0.4444444444444444, \"#bd3786\"], [0.5555555555555556, \"#d8576b\"], [0.6666666666666666, \"#ed7953\"], [0.7777777777777778, \"#fb9f3a\"], [0.8888888888888888, \"#fdca26\"], [1.0, \"#f0f921\"]], \"type\": \"histogram2d\"}], \"histogram2dcontour\": [{\"colorbar\": {\"outlinewidth\": 0, \"ticks\": \"\"}, \"colorscale\": [[0.0, \"#0d0887\"], [0.1111111111111111, \"#46039f\"], [0.2222222222222222, \"#7201a8\"], [0.3333333333333333, \"#9c179e\"], [0.4444444444444444, \"#bd3786\"], [0.5555555555555556, \"#d8576b\"], [0.6666666666666666, \"#ed7953\"], [0.7777777777777778, \"#fb9f3a\"], [0.8888888888888888, \"#fdca26\"], [1.0, \"#f0f921\"]], \"type\": \"histogram2dcontour\"}], \"mesh3d\": [{\"colorbar\": {\"outlinewidth\": 0, \"ticks\": \"\"}, \"type\": \"mesh3d\"}], \"parcoords\": [{\"line\": {\"colorbar\": {\"outlinewidth\": 0, \"ticks\": \"\"}}, \"type\": \"parcoords\"}], \"pie\": [{\"automargin\": true, \"type\": \"pie\"}], \"scatter\": [{\"marker\": {\"colorbar\": {\"outlinewidth\": 0, \"ticks\": \"\"}}, \"type\": \"scatter\"}], \"scatter3d\": [{\"line\": {\"colorbar\": {\"outlinewidth\": 0, \"ticks\": \"\"}}, \"marker\": {\"colorbar\": {\"outlinewidth\": 0, \"ticks\": \"\"}}, \"type\": \"scatter3d\"}], \"scattercarpet\": [{\"marker\": {\"colorbar\": {\"outlinewidth\": 0, \"ticks\": \"\"}}, \"type\": \"scattercarpet\"}], \"scattergeo\": [{\"marker\": {\"colorbar\": {\"outlinewidth\": 0, \"ticks\": \"\"}}, \"type\": \"scattergeo\"}], \"scattergl\": [{\"marker\": {\"colorbar\": {\"outlinewidth\": 0, \"ticks\": \"\"}}, \"type\": \"scattergl\"}], \"scattermapbox\": [{\"marker\": {\"colorbar\": {\"outlinewidth\": 0, \"ticks\": \"\"}}, \"type\": \"scattermapbox\"}], \"scatterpolar\": [{\"marker\": {\"colorbar\": {\"outlinewidth\": 0, \"ticks\": \"\"}}, \"type\": \"scatterpolar\"}], \"scatterpolargl\": [{\"marker\": {\"colorbar\": {\"outlinewidth\": 0, \"ticks\": \"\"}}, \"type\": \"scatterpolargl\"}], \"scatterternary\": [{\"marker\": {\"colorbar\": {\"outlinewidth\": 0, \"ticks\": \"\"}}, \"type\": \"scatterternary\"}], \"surface\": [{\"colorbar\": {\"outlinewidth\": 0, \"ticks\": \"\"}, \"colorscale\": [[0.0, \"#0d0887\"], [0.1111111111111111, \"#46039f\"], [0.2222222222222222, \"#7201a8\"], [0.3333333333333333, \"#9c179e\"], [0.4444444444444444, \"#bd3786\"], [0.5555555555555556, \"#d8576b\"], [0.6666666666666666, \"#ed7953\"], [0.7777777777777778, \"#fb9f3a\"], [0.8888888888888888, \"#fdca26\"], [1.0, \"#f0f921\"]], \"type\": \"surface\"}], \"table\": [{\"cells\": {\"fill\": {\"color\": \"#EBF0F8\"}, \"line\": {\"color\": \"white\"}}, \"header\": {\"fill\": {\"color\": \"#C8D4E3\"}, \"line\": {\"color\": \"white\"}}, \"type\": \"table\"}]}, \"layout\": {\"annotationdefaults\": {\"arrowcolor\": \"#2a3f5f\", \"arrowhead\": 0, \"arrowwidth\": 1}, \"coloraxis\": {\"colorbar\": {\"outlinewidth\": 0, \"ticks\": \"\"}}, \"colorscale\": {\"diverging\": [[0, \"#8e0152\"], [0.1, \"#c51b7d\"], [0.2, \"#de77ae\"], [0.3, \"#f1b6da\"], [0.4, \"#fde0ef\"], [0.5, \"#f7f7f7\"], [0.6, \"#e6f5d0\"], [0.7, \"#b8e186\"], [0.8, \"#7fbc41\"], [0.9, \"#4d9221\"], [1, \"#276419\"]], \"sequential\": [[0.0, \"#0d0887\"], [0.1111111111111111, \"#46039f\"], [0.2222222222222222, \"#7201a8\"], [0.3333333333333333, \"#9c179e\"], [0.4444444444444444, \"#bd3786\"], [0.5555555555555556, \"#d8576b\"], [0.6666666666666666, \"#ed7953\"], [0.7777777777777778, \"#fb9f3a\"], [0.8888888888888888, \"#fdca26\"], [1.0, \"#f0f921\"]], \"sequentialminus\": [[0.0, \"#0d0887\"], [0.1111111111111111, \"#46039f\"], [0.2222222222222222, \"#7201a8\"], [0.3333333333333333, \"#9c179e\"], [0.4444444444444444, \"#bd3786\"], [0.5555555555555556, \"#d8576b\"], [0.6666666666666666, \"#ed7953\"], [0.7777777777777778, \"#fb9f3a\"], [0.8888888888888888, \"#fdca26\"], [1.0, \"#f0f921\"]]}, \"colorway\": [\"#636efa\", \"#EF553B\", \"#00cc96\", \"#ab63fa\", \"#FFA15A\", \"#19d3f3\", \"#FF6692\", \"#B6E880\", \"#FF97FF\", \"#FECB52\"], \"font\": {\"color\": \"#2a3f5f\"}, \"geo\": {\"bgcolor\": \"white\", \"lakecolor\": \"white\", \"landcolor\": \"#E5ECF6\", \"showlakes\": true, \"showland\": true, \"subunitcolor\": \"white\"}, \"hoverlabel\": {\"align\": \"left\"}, \"hovermode\": \"closest\", \"mapbox\": {\"style\": \"light\"}, \"paper_bgcolor\": \"white\", \"plot_bgcolor\": \"#E5ECF6\", \"polar\": {\"angularaxis\": {\"gridcolor\": \"white\", \"linecolor\": \"white\", \"ticks\": \"\"}, \"bgcolor\": \"#E5ECF6\", \"radialaxis\": {\"gridcolor\": \"white\", \"linecolor\": \"white\", \"ticks\": \"\"}}, \"scene\": {\"xaxis\": {\"backgroundcolor\": \"#E5ECF6\", \"gridcolor\": \"white\", \"gridwidth\": 2, \"linecolor\": \"white\", \"showbackground\": true, \"ticks\": \"\", \"zerolinecolor\": \"white\"}, \"yaxis\": {\"backgroundcolor\": \"#E5ECF6\", \"gridcolor\": \"white\", \"gridwidth\": 2, \"linecolor\": \"white\", \"showbackground\": true, \"ticks\": \"\", \"zerolinecolor\": \"white\"}, \"zaxis\": {\"backgroundcolor\": \"#E5ECF6\", \"gridcolor\": \"white\", \"gridwidth\": 2, \"linecolor\": \"white\", \"showbackground\": true, \"ticks\": \"\", \"zerolinecolor\": \"white\"}}, \"shapedefaults\": {\"line\": {\"color\": \"#2a3f5f\"}}, \"ternary\": {\"aaxis\": {\"gridcolor\": \"white\", \"linecolor\": \"white\", \"ticks\": \"\"}, \"baxis\": {\"gridcolor\": \"white\", \"linecolor\": \"white\", \"ticks\": \"\"}, \"bgcolor\": \"#E5ECF6\", \"caxis\": {\"gridcolor\": \"white\", \"linecolor\": \"white\", \"ticks\": \"\"}}, \"title\": {\"x\": 0.05}, \"xaxis\": {\"automargin\": true, \"gridcolor\": \"white\", \"linecolor\": \"white\", \"ticks\": \"\", \"title\": {\"standoff\": 15}, \"zerolinecolor\": \"white\", \"zerolinewidth\": 2}, \"yaxis\": {\"automargin\": true, \"gridcolor\": \"white\", \"linecolor\": \"white\", \"ticks\": \"\", \"title\": {\"standoff\": 15}, \"zerolinecolor\": \"white\", \"zerolinewidth\": 2}}}, \"title\": {\"font\": {\"color\": \"#4D5663\"}}, \"xaxis\": {\"gridcolor\": \"#E1E5ED\", \"showgrid\": true, \"tickfont\": {\"color\": \"#4D5663\"}, \"title\": {\"font\": {\"color\": \"#4D5663\"}, \"text\": \"\"}, \"zerolinecolor\": \"#E1E5ED\"}, \"yaxis\": {\"gridcolor\": \"#E1E5ED\", \"showgrid\": true, \"tickfont\": {\"color\": \"#4D5663\"}, \"title\": {\"font\": {\"color\": \"#4D5663\"}, \"text\": \"\"}, \"zerolinecolor\": \"#E1E5ED\"}},\n",
       "                        {\"showLink\": true, \"linkText\": \"Export to plot.ly\", \"plotlyServerURL\": \"https://plot.ly\", \"responsive\": true}\n",
       "                    ).then(function(){\n",
       "                            \n",
       "var gd = document.getElementById('d1d7f3b0-8079-4372-9b6b-0d2decc01347');\n",
       "var x = new MutationObserver(function (mutations, observer) {{\n",
       "        var display = window.getComputedStyle(gd).display;\n",
       "        if (!display || display === 'none') {{\n",
       "            console.log([gd, 'removed!']);\n",
       "            Plotly.purge(gd);\n",
       "            observer.disconnect();\n",
       "        }}\n",
       "}});\n",
       "\n",
       "// Listen for the removal of the full notebook cells\n",
       "var notebookContainer = gd.closest('#notebook-container');\n",
       "if (notebookContainer) {{\n",
       "    x.observe(notebookContainer, {childList: true});\n",
       "}}\n",
       "\n",
       "// Listen for the clearing of the current output cell\n",
       "var outputEl = gd.closest('.output');\n",
       "if (outputEl) {{\n",
       "    x.observe(outputEl, {childList: true});\n",
       "}}\n",
       "\n",
       "                        })\n",
       "                };\n",
       "                });\n",
       "            </script>\n",
       "        </div>"
      ]
     },
     "metadata": {},
     "output_type": "display_data"
    }
   ],
   "source": [
    "VPollos[VPollos['WeekDay']==7]['Pollos Vendidos'].iplot(kind='hist',bins=20)"
   ]
  },
  {
   "cell_type": "code",
   "execution_count": 14,
   "metadata": {},
   "outputs": [
    {
     "data": {
      "text/plain": [
       "<matplotlib.axes._subplots.AxesSubplot at 0x1ba33643108>"
      ]
     },
     "execution_count": 14,
     "metadata": {},
     "output_type": "execute_result"
    },
    {
     "data": {
      "image/png": "[encoded data removed]",
      "text/plain": [
       "<Figure size 432x288 with 1 Axes>"
      ]
     },
     "metadata": {},
     "output_type": "display_data"
    }
   ],
   "source": [
    "sns.distplot(VPollos[VPollos['WeekDay']==1]['Pollos Vendidos'],bins=20)"
   ]
  },
  {
   "cell_type": "code",
   "execution_count": 15,
   "metadata": {},
   "outputs": [
    {
     "data": {
      "application/vnd.plotly.v1+json": {
       "config": {
        "linkText": "Export to plot.ly",
        "plotlyServerURL": "https://plot.ly",
        "showLink": true
       },
       "data": [
        {
         "histfunc": "count",
         "histnorm": "",
         "marker": {
          "color": "rgba(255, 153, 51, 1.0)",
          "line": {
           "color": "#4D5663",
           "width": 1.3
          }
         },
         "name": "Pollos Vendidos",
         "nbinsx": 20,
         "opacity": 0.8,
         "orientation": "v",
         "type": "histogram",
         "x": [
          184,
          122,
          84,
          122,
          160,
          120,
          140,
          158,
          170,
          179,
          176,
          148
         ]
        }
       ],
       "layout": {
        "barmode": "overlay",
        "legend": {
         "bgcolor": "#F5F6F9",
         "font": {
          "color": "#4D5663"
         }
        },
        "paper_bgcolor": "#F5F6F9",
        "plot_bgcolor": "#F5F6F9",
        "template": {
         "data": {
          "bar": [
           {
            "error_x": {
             "color": "#2a3f5f"
            },
            "error_y": {
             "color": "#2a3f5f"
            },
            "marker": {
             "line": {
              "color": "#E5ECF6",
              "width": 0.5
             }
            },
            "type": "bar"
           }
          ],
          "barpolar": [
           {
            "marker": {
             "line": {
              "color": "#E5ECF6",
              "width": 0.5
             }
            },
            "type": "barpolar"
           }
          ],
          "carpet": [
           {
            "aaxis": {
             "endlinecolor": "#2a3f5f",
             "gridcolor": "white",
             "linecolor": "white",
             "minorgridcolor": "white",
             "startlinecolor": "#2a3f5f"
            },
            "baxis": {
             "endlinecolor": "#2a3f5f",
             "gridcolor": "white",
             "linecolor": "white",
             "minorgridcolor": "white",
             "startlinecolor": "#2a3f5f"
            },
            "type": "carpet"
           }
          ],
          "choropleth": [
           {
            "colorbar": {
             "outlinewidth": 0,
             "ticks": ""
            },
            "type": "choropleth"
           }
          ],
          "contour": [
           {
            "colorbar": {
             "outlinewidth": 0,
             "ticks": ""
            },
            "colorscale": [
             [
              0,
              "#0d0887"
             ],
             [
              0.1111111111111111,
              "#46039f"
             ],
             [
              0.2222222222222222,
              "#7201a8"
             ],
             [
              0.3333333333333333,
              "#9c179e"
             ],
             [
              0.4444444444444444,
              "#bd3786"
             ],
             [
              0.5555555555555556,
              "#d8576b"
             ],
             [
              0.6666666666666666,
              "#ed7953"
             ],
             [
              0.7777777777777778,
              "#fb9f3a"
             ],
             [
              0.8888888888888888,
              "#fdca26"
             ],
             [
              1,
              "#f0f921"
             ]
            ],
            "type": "contour"
           }
          ],
          "contourcarpet": [
           {
            "colorbar": {
             "outlinewidth": 0,
             "ticks": ""
            },
            "type": "contourcarpet"
           }
          ],
          "heatmap": [
           {
            "colorbar": {
             "outlinewidth": 0,
             "ticks": ""
            },
            "colorscale": [
             [
              0,
              "#0d0887"
             ],
             [
              0.1111111111111111,
              "#46039f"
             ],
             [
              0.2222222222222222,
              "#7201a8"
             ],
             [
              0.3333333333333333,
              "#9c179e"
             ],
             [
              0.4444444444444444,
              "#bd3786"
             ],
             [
              0.5555555555555556,
              "#d8576b"
             ],
             [
              0.6666666666666666,
              "#ed7953"
             ],
             [
              0.7777777777777778,
              "#fb9f3a"
             ],
             [
              0.8888888888888888,
              "#fdca26"
             ],
             [
              1,
              "#f0f921"
             ]
            ],
            "type": "heatmap"
           }
          ],
          "heatmapgl": [
           {
            "colorbar": {
             "outlinewidth": 0,
             "ticks": ""
            },
            "colorscale": [
             [
              0,
              "#0d0887"
             ],
             [
              0.1111111111111111,
              "#46039f"
             ],
             [
              0.2222222222222222,
              "#7201a8"
             ],
             [
              0.3333333333333333,
              "#9c179e"
             ],
             [
              0.4444444444444444,
              "#bd3786"
             ],
             [
              0.5555555555555556,
              "#d8576b"
             ],
             [
              0.6666666666666666,
              "#ed7953"
             ],
             [
              0.7777777777777778,
              "#fb9f3a"
             ],
             [
              0.8888888888888888,
              "#fdca26"
             ],
             [
              1,
              "#f0f921"
             ]
            ],
            "type": "heatmapgl"
           }
          ],
          "histogram": [
           {
            "marker": {
             "colorbar": {
              "outlinewidth": 0,
              "ticks": ""
             }
            },
            "type": "histogram"
           }
          ],
          "histogram2d": [
           {
            "colorbar": {
             "outlinewidth": 0,
             "ticks": ""
            },
            "colorscale": [
             [
              0,
              "#0d0887"
             ],
             [
              0.1111111111111111,
              "#46039f"
             ],
             [
              0.2222222222222222,
              "#7201a8"
             ],
             [
              0.3333333333333333,
              "#9c179e"
             ],
             [
              0.4444444444444444,
              "#bd3786"
             ],
             [
              0.5555555555555556,
              "#d8576b"
             ],
             [
              0.6666666666666666,
              "#ed7953"
             ],
             [
              0.7777777777777778,
              "#fb9f3a"
             ],
             [
              0.8888888888888888,
              "#fdca26"
             ],
             [
              1,
              "#f0f921"
             ]
            ],
            "type": "histogram2d"
           }
          ],
          "histogram2dcontour": [
           {
            "colorbar": {
             "outlinewidth": 0,
             "ticks": ""
            },
            "colorscale": [
             [
              0,
              "#0d0887"
             ],
             [
              0.1111111111111111,
              "#46039f"
             ],
             [
              0.2222222222222222,
              "#7201a8"
             ],
             [
              0.3333333333333333,
              "#9c179e"
             ],
             [
              0.4444444444444444,
              "#bd3786"
             ],
             [
              0.5555555555555556,
              "#d8576b"
             ],
             [
              0.6666666666666666,
              "#ed7953"
             ],
             [
              0.7777777777777778,
              "#fb9f3a"
             ],
             [
              0.8888888888888888,
              "#fdca26"
             ],
             [
              1,
              "#f0f921"
             ]
            ],
            "type": "histogram2dcontour"
           }
          ],
          "mesh3d": [
           {
            "colorbar": {
             "outlinewidth": 0,
             "ticks": ""
            },
            "type": "mesh3d"
           }
          ],
          "parcoords": [
           {
            "line": {
             "colorbar": {
              "outlinewidth": 0,
              "ticks": ""
             }
            },
            "type": "parcoords"
           }
          ],
          "pie": [
           {
            "automargin": true,
            "type": "pie"
           }
          ],
          "scatter": [
           {
            "marker": {
             "colorbar": {
              "outlinewidth": 0,
              "ticks": ""
             }
            },
            "type": "scatter"
           }
          ],
          "scatter3d": [
           {
            "line": {
             "colorbar": {
              "outlinewidth": 0,
              "ticks": ""
             }
            },
            "marker": {
             "colorbar": {
              "outlinewidth": 0,
              "ticks": ""
             }
            },
            "type": "scatter3d"
           }
          ],
          "scattercarpet": [
           {
            "marker": {
             "colorbar": {
              "outlinewidth": 0,
              "ticks": ""
             }
            },
            "type": "scattercarpet"
           }
          ],
          "scattergeo": [
           {
            "marker": {
             "colorbar": {
              "outlinewidth": 0,
              "ticks": ""
             }
            },
            "type": "scattergeo"
           }
          ],
          "scattergl": [
           {
            "marker": {
             "colorbar": {
              "outlinewidth": 0,
              "ticks": ""
             }
            },
            "type": "scattergl"
           }
          ],
          "scattermapbox": [
           {
            "marker": {
             "colorbar": {
              "outlinewidth": 0,
              "ticks": ""
             }
            },
            "type": "scattermapbox"
           }
          ],
          "scatterpolar": [
           {
            "marker": {
             "colorbar": {
              "outlinewidth": 0,
              "ticks": ""
             }
            },
            "type": "scatterpolar"
           }
          ],
          "scatterpolargl": [
           {
            "marker": {
             "colorbar": {
              "outlinewidth": 0,
              "ticks": ""
             }
            },
            "type": "scatterpolargl"
           }
          ],
          "scatterternary": [
           {
            "marker": {
             "colorbar": {
              "outlinewidth": 0,
              "ticks": ""
             }
            },
            "type": "scatterternary"
           }
          ],
          "surface": [
           {
            "colorbar": {
             "outlinewidth": 0,
             "ticks": ""
            },
            "colorscale": [
             [
              0,
              "#0d0887"
             ],
             [
              0.1111111111111111,
              "#46039f"
             ],
             [
              0.2222222222222222,
              "#7201a8"
             ],
             [
              0.3333333333333333,
              "#9c179e"
             ],
             [
              0.4444444444444444,
              "#bd3786"
             ],
             [
              0.5555555555555556,
              "#d8576b"
             ],
             [
              0.6666666666666666,
              "#ed7953"
             ],
             [
              0.7777777777777778,
              "#fb9f3a"
             ],
             [
              0.8888888888888888,
              "#fdca26"
             ],
             [
              1,
              "#f0f921"
             ]
            ],
            "type": "surface"
           }
          ],
          "table": [
           {
            "cells": {
             "fill": {
              "color": "#EBF0F8"
             },
             "line": {
              "color": "white"
             }
            },
            "header": {
             "fill": {
              "color": "#C8D4E3"
             },
             "line": {
              "color": "white"
             }
            },
            "type": "table"
           }
          ]
         },
         "layout": {
          "annotationdefaults": {
           "arrowcolor": "#2a3f5f",
           "arrowhead": 0,
           "arrowwidth": 1
          },
          "coloraxis": {
           "colorbar": {
            "outlinewidth": 0,
            "ticks": ""
           }
          },
          "colorscale": {
           "diverging": [
            [
             0,
             "#8e0152"
            ],
            [
             0.1,
             "#c51b7d"
            ],
            [
             0.2,
             "#de77ae"
            ],
            [
             0.3,
             "#f1b6da"
            ],
            [
             0.4,
             "#fde0ef"
            ],
            [
             0.5,
             "#f7f7f7"
            ],
            [
             0.6,
             "#e6f5d0"
            ],
            [
             0.7,
             "#b8e186"
            ],
            [
             0.8,
             "#7fbc41"
            ],
            [
             0.9,
             "#4d9221"
            ],
            [
             1,
             "#276419"
            ]
           ],
           "sequential": [
            [
             0,
             "#0d0887"
            ],
            [
             0.1111111111111111,
             "#46039f"
            ],
            [
             0.2222222222222222,
             "#7201a8"
            ],
            [
             0.3333333333333333,
             "#9c179e"
            ],
            [
             0.4444444444444444,
             "#bd3786"
            ],
            [
             0.5555555555555556,
             "#d8576b"
            ],
            [
             0.6666666666666666,
             "#ed7953"
            ],
            [
             0.7777777777777778,
             "#fb9f3a"
            ],
            [
             0.8888888888888888,
             "#fdca26"
            ],
            [
             1,
             "#f0f921"
            ]
           ],
           "sequentialminus": [
            [
             0,
             "#0d0887"
            ],
            [
             0.1111111111111111,
             "#46039f"
            ],
            [
             0.2222222222222222,
             "#7201a8"
            ],
            [
             0.3333333333333333,
             "#9c179e"
            ],
            [
             0.4444444444444444,
             "#bd3786"
            ],
            [
             0.5555555555555556,
             "#d8576b"
            ],
            [
             0.6666666666666666,
             "#ed7953"
            ],
            [
             0.7777777777777778,
             "#fb9f3a"
            ],
            [
             0.8888888888888888,
             "#fdca26"
            ],
            [
             1,
             "#f0f921"
            ]
           ]
          },
          "colorway": [
           "#636efa",
           "#EF553B",
           "#00cc96",
           "#ab63fa",
           "#FFA15A",
           "#19d3f3",
           "#FF6692",
           "#B6E880",
           "#FF97FF",
           "#FECB52"
          ],
          "font": {
           "color": "#2a3f5f"
          },
          "geo": {
           "bgcolor": "white",
           "lakecolor": "white",
           "landcolor": "#E5ECF6",
           "showlakes": true,
           "showland": true,
           "subunitcolor": "white"
          },
          "hoverlabel": {
           "align": "left"
          },
          "hovermode": "closest",
          "mapbox": {
           "style": "light"
          },
          "paper_bgcolor": "white",
          "plot_bgcolor": "#E5ECF6",
          "polar": {
           "angularaxis": {
            "gridcolor": "white",
            "linecolor": "white",
            "ticks": ""
           },
           "bgcolor": "#E5ECF6",
           "radialaxis": {
            "gridcolor": "white",
            "linecolor": "white",
            "ticks": ""
           }
          },
          "scene": {
           "xaxis": {
            "backgroundcolor": "#E5ECF6",
            "gridcolor": "white",
            "gridwidth": 2,
            "linecolor": "white",
            "showbackground": true,
            "ticks": "",
            "zerolinecolor": "white"
           },
           "yaxis": {
            "backgroundcolor": "#E5ECF6",
            "gridcolor": "white",
            "gridwidth": 2,
            "linecolor": "white",
            "showbackground": true,
            "ticks": "",
            "zerolinecolor": "white"
           },
           "zaxis": {
            "backgroundcolor": "#E5ECF6",
            "gridcolor": "white",
            "gridwidth": 2,
            "linecolor": "white",
            "showbackground": true,
            "ticks": "",
            "zerolinecolor": "white"
           }
          },
          "shapedefaults": {
           "line": {
            "color": "#2a3f5f"
           }
          },
          "ternary": {
           "aaxis": {
            "gridcolor": "white",
            "linecolor": "white",
            "ticks": ""
           },
           "baxis": {
            "gridcolor": "white",
            "linecolor": "white",
            "ticks": ""
           },
           "bgcolor": "#E5ECF6",
           "caxis": {
            "gridcolor": "white",
            "linecolor": "white",
            "ticks": ""
           }
          },
          "title": {
           "x": 0.05
          },
          "xaxis": {
           "automargin": true,
           "gridcolor": "white",
           "linecolor": "white",
           "ticks": "",
           "title": {
            "standoff": 15
           },
           "zerolinecolor": "white",
           "zerolinewidth": 2
          },
          "yaxis": {
           "automargin": true,
           "gridcolor": "white",
           "linecolor": "white",
           "ticks": "",
           "title": {
            "standoff": 15
           },
           "zerolinecolor": "white",
           "zerolinewidth": 2
          }
         }
        },
        "title": {
         "font": {
          "color": "#4D5663"
         }
        },
        "xaxis": {
         "gridcolor": "#E1E5ED",
         "showgrid": true,
         "tickfont": {
          "color": "#4D5663"
         },
         "title": {
          "font": {
           "color": "#4D5663"
          },
          "text": ""
         },
         "zerolinecolor": "#E1E5ED"
        },
        "yaxis": {
         "gridcolor": "#E1E5ED",
         "showgrid": true,
         "tickfont": {
          "color": "#4D5663"
         },
         "title": {
          "font": {
           "color": "#4D5663"
          },
          "text": ""
         },
         "zerolinecolor": "#E1E5ED"
        }
       }
      },
      "text/html": [
       "<div>\n",
       "        \n",
       "        \n",
       "            <div id=\"7e5332ba-7068-43d7-8aa7-415bc445497b\" class=\"plotly-graph-div\" style=\"height:525px; width:100%;\"></div>\n",
       "            <script type=\"text/javascript\">\n",
       "                require([\"plotly\"], function(Plotly) {\n",
       "                    window.PLOTLYENV=window.PLOTLYENV || {};\n",
       "                    window.PLOTLYENV.BASE_URL='https://plot.ly';\n",
       "                    \n",
       "                if (document.getElementById(\"7e5332ba-7068-43d7-8aa7-415bc445497b\")) {\n",
       "                    Plotly.newPlot(\n",
       "                        '7e5332ba-7068-43d7-8aa7-415bc445497b',\n",
       "                        [{\"histfunc\": \"count\", \"histnorm\": \"\", \"marker\": {\"color\": \"rgba(255, 153, 51, 1.0)\", \"line\": {\"color\": \"#4D5663\", \"width\": 1.3}}, \"name\": \"Pollos Vendidos\", \"nbinsx\": 20, \"opacity\": 0.8, \"orientation\": \"v\", \"type\": \"histogram\", \"x\": [184, 122, 84, 122, 160, 120, 140, 158, 170, 179, 176, 148]}],\n",
       "                        {\"barmode\": \"overlay\", \"legend\": {\"bgcolor\": \"#F5F6F9\", \"font\": {\"color\": \"#4D5663\"}}, \"paper_bgcolor\": \"#F5F6F9\", \"plot_bgcolor\": \"#F5F6F9\", \"template\": {\"data\": {\"bar\": [{\"error_x\": {\"color\": \"#2a3f5f\"}, \"error_y\": {\"color\": \"#2a3f5f\"}, \"marker\": {\"line\": {\"color\": \"#E5ECF6\", \"width\": 0.5}}, \"type\": \"bar\"}], \"barpolar\": [{\"marker\": {\"line\": {\"color\": \"#E5ECF6\", \"width\": 0.5}}, \"type\": \"barpolar\"}], \"carpet\": [{\"aaxis\": {\"endlinecolor\": \"#2a3f5f\", \"gridcolor\": \"white\", \"linecolor\": \"white\", \"minorgridcolor\": \"white\", \"startlinecolor\": \"#2a3f5f\"}, \"baxis\": {\"endlinecolor\": \"#2a3f5f\", \"gridcolor\": \"white\", \"linecolor\": \"white\", \"minorgridcolor\": \"white\", \"startlinecolor\": \"#2a3f5f\"}, \"type\": \"carpet\"}], \"choropleth\": [{\"colorbar\": {\"outlinewidth\": 0, \"ticks\": \"\"}, \"type\": \"choropleth\"}], \"contour\": [{\"colorbar\": {\"outlinewidth\": 0, \"ticks\": \"\"}, \"colorscale\": [[0.0, \"#0d0887\"], [0.1111111111111111, \"#46039f\"], [0.2222222222222222, \"#7201a8\"], [0.3333333333333333, \"#9c179e\"], [0.4444444444444444, \"#bd3786\"], [0.5555555555555556, \"#d8576b\"], [0.6666666666666666, \"#ed7953\"], [0.7777777777777778, \"#fb9f3a\"], [0.8888888888888888, \"#fdca26\"], [1.0, \"#f0f921\"]], \"type\": \"contour\"}], \"contourcarpet\": [{\"colorbar\": {\"outlinewidth\": 0, \"ticks\": \"\"}, \"type\": \"contourcarpet\"}], \"heatmap\": [{\"colorbar\": {\"outlinewidth\": 0, \"ticks\": \"\"}, \"colorscale\": [[0.0, \"#0d0887\"], [0.1111111111111111, \"#46039f\"], [0.2222222222222222, \"#7201a8\"], [0.3333333333333333, \"#9c179e\"], [0.4444444444444444, \"#bd3786\"], [0.5555555555555556, \"#d8576b\"], [0.6666666666666666, \"#ed7953\"], [0.7777777777777778, \"#fb9f3a\"], [0.8888888888888888, \"#fdca26\"], [1.0, \"#f0f921\"]], \"type\": \"heatmap\"}], \"heatmapgl\": [{\"colorbar\": {\"outlinewidth\": 0, \"ticks\": \"\"}, \"colorscale\": [[0.0, \"#0d0887\"], [0.1111111111111111, \"#46039f\"], [0.2222222222222222, \"#7201a8\"], [0.3333333333333333, \"#9c179e\"], [0.4444444444444444, \"#bd3786\"], [0.5555555555555556, \"#d8576b\"], [0.6666666666666666, \"#ed7953\"], [0.7777777777777778, \"#fb9f3a\"], [0.8888888888888888, \"#fdca26\"], [1.0, \"#f0f921\"]], \"type\": \"heatmapgl\"}], \"histogram\": [{\"marker\": {\"colorbar\": {\"outlinewidth\": 0, \"ticks\": \"\"}}, \"type\": \"histogram\"}], \"histogram2d\": [{\"colorbar\": {\"outlinewidth\": 0, \"ticks\": \"\"}, \"colorscale\": [[0.0, \"#0d0887\"], [0.1111111111111111, \"#46039f\"], [0.2222222222222222, \"#7201a8\"], [0.3333333333333333, \"#9c179e\"], [0.4444444444444444, \"#bd3786\"], [0.5555555555555556, \"#d8576b\"], [0.6666666666666666, \"#ed7953\"], [0.7777777777777778, \"#fb9f3a\"], [0.8888888888888888, \"#fdca26\"], [1.0, \"#f0f921\"]], \"type\": \"histogram2d\"}], \"histogram2dcontour\": [{\"colorbar\": {\"outlinewidth\": 0, \"ticks\": \"\"}, \"colorscale\": [[0.0, \"#0d0887\"], [0.1111111111111111, \"#46039f\"], [0.2222222222222222, \"#7201a8\"], [0.3333333333333333, \"#9c179e\"], [0.4444444444444444, \"#bd3786\"], [0.5555555555555556, \"#d8576b\"], [0.6666666666666666, \"#ed7953\"], [0.7777777777777778, \"#fb9f3a\"], [0.8888888888888888, \"#fdca26\"], [1.0, \"#f0f921\"]], \"type\": \"histogram2dcontour\"}], \"mesh3d\": [{\"colorbar\": {\"outlinewidth\": 0, \"ticks\": \"\"}, \"type\": \"mesh3d\"}], \"parcoords\": [{\"line\": {\"colorbar\": {\"outlinewidth\": 0, \"ticks\": \"\"}}, \"type\": \"parcoords\"}], \"pie\": [{\"automargin\": true, \"type\": \"pie\"}], \"scatter\": [{\"marker\": {\"colorbar\": {\"outlinewidth\": 0, \"ticks\": \"\"}}, \"type\": \"scatter\"}], \"scatter3d\": [{\"line\": {\"colorbar\": {\"outlinewidth\": 0, \"ticks\": \"\"}}, \"marker\": {\"colorbar\": {\"outlinewidth\": 0, \"ticks\": \"\"}}, \"type\": \"scatter3d\"}], \"scattercarpet\": [{\"marker\": {\"colorbar\": {\"outlinewidth\": 0, \"ticks\": \"\"}}, \"type\": \"scattercarpet\"}], \"scattergeo\": [{\"marker\": {\"colorbar\": {\"outlinewidth\": 0, \"ticks\": \"\"}}, \"type\": \"scattergeo\"}], \"scattergl\": [{\"marker\": {\"colorbar\": {\"outlinewidth\": 0, \"ticks\": \"\"}}, \"type\": \"scattergl\"}], \"scattermapbox\": [{\"marker\": {\"colorbar\": {\"outlinewidth\": 0, \"ticks\": \"\"}}, \"type\": \"scattermapbox\"}], \"scatterpolar\": [{\"marker\": {\"colorbar\": {\"outlinewidth\": 0, \"ticks\": \"\"}}, \"type\": \"scatterpolar\"}], \"scatterpolargl\": [{\"marker\": {\"colorbar\": {\"outlinewidth\": 0, \"ticks\": \"\"}}, \"type\": \"scatterpolargl\"}], \"scatterternary\": [{\"marker\": {\"colorbar\": {\"outlinewidth\": 0, \"ticks\": \"\"}}, \"type\": \"scatterternary\"}], \"surface\": [{\"colorbar\": {\"outlinewidth\": 0, \"ticks\": \"\"}, \"colorscale\": [[0.0, \"#0d0887\"], [0.1111111111111111, \"#46039f\"], [0.2222222222222222, \"#7201a8\"], [0.3333333333333333, \"#9c179e\"], [0.4444444444444444, \"#bd3786\"], [0.5555555555555556, \"#d8576b\"], [0.6666666666666666, \"#ed7953\"], [0.7777777777777778, \"#fb9f3a\"], [0.8888888888888888, \"#fdca26\"], [1.0, \"#f0f921\"]], \"type\": \"surface\"}], \"table\": [{\"cells\": {\"fill\": {\"color\": \"#EBF0F8\"}, \"line\": {\"color\": \"white\"}}, \"header\": {\"fill\": {\"color\": \"#C8D4E3\"}, \"line\": {\"color\": \"white\"}}, \"type\": \"table\"}]}, \"layout\": {\"annotationdefaults\": {\"arrowcolor\": \"#2a3f5f\", \"arrowhead\": 0, \"arrowwidth\": 1}, \"coloraxis\": {\"colorbar\": {\"outlinewidth\": 0, \"ticks\": \"\"}}, \"colorscale\": {\"diverging\": [[0, \"#8e0152\"], [0.1, \"#c51b7d\"], [0.2, \"#de77ae\"], [0.3, \"#f1b6da\"], [0.4, \"#fde0ef\"], [0.5, \"#f7f7f7\"], [0.6, \"#e6f5d0\"], [0.7, \"#b8e186\"], [0.8, \"#7fbc41\"], [0.9, \"#4d9221\"], [1, \"#276419\"]], \"sequential\": [[0.0, \"#0d0887\"], [0.1111111111111111, \"#46039f\"], [0.2222222222222222, \"#7201a8\"], [0.3333333333333333, \"#9c179e\"], [0.4444444444444444, \"#bd3786\"], [0.5555555555555556, \"#d8576b\"], [0.6666666666666666, \"#ed7953\"], [0.7777777777777778, \"#fb9f3a\"], [0.8888888888888888, \"#fdca26\"], [1.0, \"#f0f921\"]], \"sequentialminus\": [[0.0, \"#0d0887\"], [0.1111111111111111, \"#46039f\"], [0.2222222222222222, \"#7201a8\"], [0.3333333333333333, \"#9c179e\"], [0.4444444444444444, \"#bd3786\"], [0.5555555555555556, \"#d8576b\"], [0.6666666666666666, \"#ed7953\"], [0.7777777777777778, \"#fb9f3a\"], [0.8888888888888888, \"#fdca26\"], [1.0, \"#f0f921\"]]}, \"colorway\": [\"#636efa\", \"#EF553B\", \"#00cc96\", \"#ab63fa\", \"#FFA15A\", \"#19d3f3\", \"#FF6692\", \"#B6E880\", \"#FF97FF\", \"#FECB52\"], \"font\": {\"color\": \"#2a3f5f\"}, \"geo\": {\"bgcolor\": \"white\", \"lakecolor\": \"white\", \"landcolor\": \"#E5ECF6\", \"showlakes\": true, \"showland\": true, \"subunitcolor\": \"white\"}, \"hoverlabel\": {\"align\": \"left\"}, \"hovermode\": \"closest\", \"mapbox\": {\"style\": \"light\"}, \"paper_bgcolor\": \"white\", \"plot_bgcolor\": \"#E5ECF6\", \"polar\": {\"angularaxis\": {\"gridcolor\": \"white\", \"linecolor\": \"white\", \"ticks\": \"\"}, \"bgcolor\": \"#E5ECF6\", \"radialaxis\": {\"gridcolor\": \"white\", \"linecolor\": \"white\", \"ticks\": \"\"}}, \"scene\": {\"xaxis\": {\"backgroundcolor\": \"#E5ECF6\", \"gridcolor\": \"white\", \"gridwidth\": 2, \"linecolor\": \"white\", \"showbackground\": true, \"ticks\": \"\", \"zerolinecolor\": \"white\"}, \"yaxis\": {\"backgroundcolor\": \"#E5ECF6\", \"gridcolor\": \"white\", \"gridwidth\": 2, \"linecolor\": \"white\", \"showbackground\": true, \"ticks\": \"\", \"zerolinecolor\": \"white\"}, \"zaxis\": {\"backgroundcolor\": \"#E5ECF6\", \"gridcolor\": \"white\", \"gridwidth\": 2, \"linecolor\": \"white\", \"showbackground\": true, \"ticks\": \"\", \"zerolinecolor\": \"white\"}}, \"shapedefaults\": {\"line\": {\"color\": \"#2a3f5f\"}}, \"ternary\": {\"aaxis\": {\"gridcolor\": \"white\", \"linecolor\": \"white\", \"ticks\": \"\"}, \"baxis\": {\"gridcolor\": \"white\", \"linecolor\": \"white\", \"ticks\": \"\"}, \"bgcolor\": \"#E5ECF6\", \"caxis\": {\"gridcolor\": \"white\", \"linecolor\": \"white\", \"ticks\": \"\"}}, \"title\": {\"x\": 0.05}, \"xaxis\": {\"automargin\": true, \"gridcolor\": \"white\", \"linecolor\": \"white\", \"ticks\": \"\", \"title\": {\"standoff\": 15}, \"zerolinecolor\": \"white\", \"zerolinewidth\": 2}, \"yaxis\": {\"automargin\": true, \"gridcolor\": \"white\", \"linecolor\": \"white\", \"ticks\": \"\", \"title\": {\"standoff\": 15}, \"zerolinecolor\": \"white\", \"zerolinewidth\": 2}}}, \"title\": {\"font\": {\"color\": \"#4D5663\"}}, \"xaxis\": {\"gridcolor\": \"#E1E5ED\", \"showgrid\": true, \"tickfont\": {\"color\": \"#4D5663\"}, \"title\": {\"font\": {\"color\": \"#4D5663\"}, \"text\": \"\"}, \"zerolinecolor\": \"#E1E5ED\"}, \"yaxis\": {\"gridcolor\": \"#E1E5ED\", \"showgrid\": true, \"tickfont\": {\"color\": \"#4D5663\"}, \"title\": {\"font\": {\"color\": \"#4D5663\"}, \"text\": \"\"}, \"zerolinecolor\": \"#E1E5ED\"}},\n",
       "                        {\"showLink\": true, \"linkText\": \"Export to plot.ly\", \"plotlyServerURL\": \"https://plot.ly\", \"responsive\": true}\n",
       "                    ).then(function(){\n",
       "                            \n",
       "var gd = document.getElementById('7e5332ba-7068-43d7-8aa7-415bc445497b');\n",
       "var x = new MutationObserver(function (mutations, observer) {{\n",
       "        var display = window.getComputedStyle(gd).display;\n",
       "        if (!display || display === 'none') {{\n",
       "            console.log([gd, 'removed!']);\n",
       "            Plotly.purge(gd);\n",
       "            observer.disconnect();\n",
       "        }}\n",
       "}});\n",
       "\n",
       "// Listen for the removal of the full notebook cells\n",
       "var notebookContainer = gd.closest('#notebook-container');\n",
       "if (notebookContainer) {{\n",
       "    x.observe(notebookContainer, {childList: true});\n",
       "}}\n",
       "\n",
       "// Listen for the clearing of the current output cell\n",
       "var outputEl = gd.closest('.output');\n",
       "if (outputEl) {{\n",
       "    x.observe(outputEl, {childList: true});\n",
       "}}\n",
       "\n",
       "                        })\n",
       "                };\n",
       "                });\n",
       "            </script>\n",
       "        </div>"
      ]
     },
     "metadata": {},
     "output_type": "display_data"
    }
   ],
   "source": [
    "VPollos[VPollos['WeekDay']==1]['Pollos Vendidos'].iplot(kind='hist',bins=20)"
   ]
  },
  {
   "cell_type": "code",
   "execution_count": 16,
   "metadata": {},
   "outputs": [
    {
     "data": {
      "text/plain": [
       "<matplotlib.axes._subplots.AxesSubplot at 0x1ba33d40648>"
      ]
     },
     "execution_count": 16,
     "metadata": {},
     "output_type": "execute_result"
    },
    {
     "data": {
      "image/png": "[encoded data removed]",
      "text/plain": [
       "<Figure size 432x288 with 2 Axes>"
      ]
     },
     "metadata": {},
     "output_type": "display_data"
    }
   ],
   "source": [
    "sns.heatmap(VPollos.corr(),cmap='coolwarm',annot=True)"
   ]
  },
  {
   "cell_type": "code",
   "execution_count": 131,
   "metadata": {
    "scrolled": true
   },
   "outputs": [
    {
     "data": {
      "text/html": [
       "        <script type=\"text/javascript\">\n",
       "        window.PlotlyConfig = {MathJaxConfig: 'local'};\n",
       "        if (window.MathJax) {MathJax.Hub.Config({SVG: {font: \"STIX-Web\"}});}\n",
       "        if (typeof require !== 'undefined') {\n",
       "        require.undef(\"plotly\");\n",
       "        requirejs.config({\n",
       "            paths: {\n",
       "                'plotly': ['https://cdn.plot.ly/plotly-latest.min']\n",
       "            }\n",
       "        });\n",
       "        require(['plotly'], function(Plotly) {\n",
       "            window._Plotly = Plotly;\n",
       "        });\n",
       "        }\n",
       "        </script>\n",
       "        "
      ]
     },
     "metadata": {},
     "output_type": "display_data"
    }
   ],
   "source": [
    "import cufflinks as cf\n",
    "cf.go_offline()"
   ]
  },
  {
   "cell_type": "code",
   "execution_count": 19,
   "metadata": {},
   "outputs": [],
   "source": [
    "# VPollos.iplot(kind='box')"
   ]
  },
  {
   "cell_type": "code",
   "execution_count": 132,
   "metadata": {},
   "outputs": [],
   "source": [
    "from sklearn.model_selection import train_test_split\n"
   ]
  },
  {
   "cell_type": "code",
   "execution_count": 236,
   "metadata": {},
   "outputs": [],
   "source": [
    "X=VPollos.drop('Pollos Vendidos',axis=1)\n",
    "y=VPollos['Pollos Vendidos']\n",
    "X_train, X_test, y_train, y_test = train_test_split(X, y, test_size=0.3,random_state=101)"
   ]
  },
  {
   "cell_type": "code",
   "execution_count": 237,
   "metadata": {},
   "outputs": [],
   "source": [
    "from sklearn.linear_model import LinearRegression"
   ]
  },
  {
   "cell_type": "code",
   "execution_count": 238,
   "metadata": {},
   "outputs": [],
   "source": [
    "LN=LinearRegression()"
   ]
  },
  {
   "cell_type": "code",
   "execution_count": 239,
   "metadata": {},
   "outputs": [
    {
     "data": {
      "text/plain": [
       "LinearRegression(copy_X=True, fit_intercept=True, n_jobs=None, normalize=False)"
      ]
     },
     "execution_count": 239,
     "metadata": {},
     "output_type": "execute_result"
    }
   ],
   "source": [
    "LN.fit(X_train,y_train)"
   ]
  },
  {
   "cell_type": "code",
   "execution_count": 240,
   "metadata": {},
   "outputs": [],
   "source": [
    "Predictions=LN.predict(X_test)"
   ]
  },
  {
   "cell_type": "code",
   "execution_count": 241,
   "metadata": {},
   "outputs": [
    {
     "data": {
      "text/plain": [
       "<matplotlib.collections.PathCollection at 0x1ba389ba948>"
      ]
     },
     "execution_count": 241,
     "metadata": {},
     "output_type": "execute_result"
    },
    {
     "data": {
      "image/png": "[encoded data removed]",
      "text/plain": [
       "<Figure size 432x288 with 1 Axes>"
      ]
     },
     "metadata": {},
     "output_type": "display_data"
    }
   ],
   "source": [
    "plt.scatter(y_test,Predictions)"
   ]
  },
  {
   "cell_type": "code",
   "execution_count": 242,
   "metadata": {},
   "outputs": [
    {
     "data": {
      "image/png": "[encoded data removed]",
      "text/plain": [
       "<Figure size 432x288 with 1 Axes>"
      ]
     },
     "metadata": {},
     "output_type": "display_data"
    }
   ],
   "source": [
    "sns.distplot((y_test-Predictions),bins=50);"
   ]
  },
  {
   "cell_type": "code",
   "execution_count": 169,
   "metadata": {},
   "outputs": [
    {
     "data": {
      "text/plain": [
       "188.2826898806465"
      ]
     },
     "execution_count": 169,
     "metadata": {},
     "output_type": "execute_result"
    }
   ],
   "source": [
    "LN.intercept_"
   ]
  },
  {
   "cell_type": "code",
   "execution_count": 170,
   "metadata": {},
   "outputs": [
    {
     "name": "stdout",
     "output_type": "stream",
     "text": [
      "                        Coefficients\n",
      "WeekDay                    -1.617859\n",
      "NroDay                      0.229531\n",
      "Mín Temperature(°C)        -3.598295\n",
      "Difference Temperature      0.286778\n",
      "Feriado                    84.697100\n"
     ]
    }
   ],
   "source": [
    "coeff_df=pd.DataFrame(LN.coef_,X.columns,columns=['Coefficients'])\n",
    "print(coeff_df)"
   ]
  },
  {
   "cell_type": "code",
   "execution_count": 171,
   "metadata": {},
   "outputs": [
    {
     "data": {
      "text/html": [
       "<div>\n",
       "<style scoped>\n",
       "    .dataframe tbody tr th:only-of-type {\n",
       "        vertical-align: middle;\n",
       "    }\n",
       "\n",
       "    .dataframe tbody tr th {\n",
       "        vertical-align: top;\n",
       "    }\n",
       "\n",
       "    .dataframe thead th {\n",
       "        text-align: right;\n",
       "    }\n",
       "</style>\n",
       "<table border=\"1\" class=\"dataframe\">\n",
       "  <thead>\n",
       "    <tr style=\"text-align: right;\">\n",
       "      <th></th>\n",
       "      <th>WeekDay</th>\n",
       "      <th>NroDay</th>\n",
       "      <th>Mín Temperature(°C)</th>\n",
       "      <th>Difference Temperature</th>\n",
       "      <th>Feriado</th>\n",
       "    </tr>\n",
       "  </thead>\n",
       "  <tbody>\n",
       "    <tr>\n",
       "      <td>0</td>\n",
       "      <td>3</td>\n",
       "      <td>17</td>\n",
       "      <td>20</td>\n",
       "      <td>6</td>\n",
       "      <td>0</td>\n",
       "    </tr>\n",
       "    <tr>\n",
       "      <td>1</td>\n",
       "      <td>4</td>\n",
       "      <td>18</td>\n",
       "      <td>19</td>\n",
       "      <td>6</td>\n",
       "      <td>0</td>\n",
       "    </tr>\n",
       "    <tr>\n",
       "      <td>2</td>\n",
       "      <td>5</td>\n",
       "      <td>19</td>\n",
       "      <td>20</td>\n",
       "      <td>4</td>\n",
       "      <td>0</td>\n",
       "    </tr>\n",
       "    <tr>\n",
       "      <td>3</td>\n",
       "      <td>6</td>\n",
       "      <td>20</td>\n",
       "      <td>19</td>\n",
       "      <td>5</td>\n",
       "      <td>0</td>\n",
       "    </tr>\n",
       "    <tr>\n",
       "      <td>4</td>\n",
       "      <td>7</td>\n",
       "      <td>21</td>\n",
       "      <td>20</td>\n",
       "      <td>4</td>\n",
       "      <td>0</td>\n",
       "    </tr>\n",
       "    <tr>\n",
       "      <td>...</td>\n",
       "      <td>...</td>\n",
       "      <td>...</td>\n",
       "      <td>...</td>\n",
       "      <td>...</td>\n",
       "      <td>...</td>\n",
       "    </tr>\n",
       "    <tr>\n",
       "      <td>84</td>\n",
       "      <td>3</td>\n",
       "      <td>10</td>\n",
       "      <td>22</td>\n",
       "      <td>5</td>\n",
       "      <td>0</td>\n",
       "    </tr>\n",
       "    <tr>\n",
       "      <td>85</td>\n",
       "      <td>4</td>\n",
       "      <td>11</td>\n",
       "      <td>21</td>\n",
       "      <td>9</td>\n",
       "      <td>0</td>\n",
       "    </tr>\n",
       "    <tr>\n",
       "      <td>86</td>\n",
       "      <td>5</td>\n",
       "      <td>12</td>\n",
       "      <td>23</td>\n",
       "      <td>6</td>\n",
       "      <td>0</td>\n",
       "    </tr>\n",
       "    <tr>\n",
       "      <td>87</td>\n",
       "      <td>6</td>\n",
       "      <td>13</td>\n",
       "      <td>23</td>\n",
       "      <td>5</td>\n",
       "      <td>0</td>\n",
       "    </tr>\n",
       "    <tr>\n",
       "      <td>88</td>\n",
       "      <td>7</td>\n",
       "      <td>14</td>\n",
       "      <td>22</td>\n",
       "      <td>5</td>\n",
       "      <td>0</td>\n",
       "    </tr>\n",
       "  </tbody>\n",
       "</table>\n",
       "<p>83 rows × 5 columns</p>\n",
       "</div>"
      ],
      "text/plain": [
       "    WeekDay  NroDay  Mín Temperature(°C)  Difference Temperature  Feriado\n",
       "0         3      17                   20                       6        0\n",
       "1         4      18                   19                       6        0\n",
       "2         5      19                   20                       4        0\n",
       "3         6      20                   19                       5        0\n",
       "4         7      21                   20                       4        0\n",
       "..      ...     ...                  ...                     ...      ...\n",
       "84        3      10                   22                       5        0\n",
       "85        4      11                   21                       9        0\n",
       "86        5      12                   23                       6        0\n",
       "87        6      13                   23                       5        0\n",
       "88        7      14                   22                       5        0\n",
       "\n",
       "[83 rows x 5 columns]"
      ]
     },
     "execution_count": 171,
     "metadata": {},
     "output_type": "execute_result"
    }
   ],
   "source": [
    "X"
   ]
  },
  {
   "cell_type": "code",
   "execution_count": 172,
   "metadata": {},
   "outputs": [
    {
     "data": {
      "text/plain": [
       "pandas.core.series.Series"
      ]
     },
     "execution_count": 172,
     "metadata": {},
     "output_type": "execute_result"
    }
   ],
   "source": [
    "type(X['Feriado'])"
   ]
  },
  {
   "cell_type": "code",
   "execution_count": 173,
   "metadata": {},
   "outputs": [],
   "source": [
    "from sklearn import metrics"
   ]
  },
  {
   "cell_type": "code",
   "execution_count": 174,
   "metadata": {},
   "outputs": [
    {
     "name": "stdout",
     "output_type": "stream",
     "text": [
      "MAE: 3.217251947283972\n",
      "MSE: 974.5292223294002\n",
      "RMSE: 3.9021813257326827\n"
     ]
    }
   ],
   "source": [
    "print('MAE:',metrics.mean_absolute_error(y_test,Predictions)/8)\n",
    "print('MSE:', metrics.mean_squared_error(y_test, Predictions))\n",
    "print('RMSE:', np.sqrt(metrics.mean_squared_error(y_test, Predictions))/8)"
   ]
  },
  {
   "cell_type": "code",
   "execution_count": 175,
   "metadata": {},
   "outputs": [],
   "source": [
    "NewPrediction=pd.read_excel('Predecir.xlsx')"
   ]
  },
  {
   "cell_type": "code",
   "execution_count": 176,
   "metadata": {},
   "outputs": [],
   "source": [
    "NewPrediction.drop('Máx Temperature(°C)',axis=1,inplace=True)"
   ]
  },
  {
   "cell_type": "code",
   "execution_count": 177,
   "metadata": {},
   "outputs": [
    {
     "data": {
      "text/html": [
       "<div>\n",
       "<style scoped>\n",
       "    .dataframe tbody tr th:only-of-type {\n",
       "        vertical-align: middle;\n",
       "    }\n",
       "\n",
       "    .dataframe tbody tr th {\n",
       "        vertical-align: top;\n",
       "    }\n",
       "\n",
       "    .dataframe thead th {\n",
       "        text-align: right;\n",
       "    }\n",
       "</style>\n",
       "<table border=\"1\" class=\"dataframe\">\n",
       "  <thead>\n",
       "    <tr style=\"text-align: right;\">\n",
       "      <th></th>\n",
       "      <th>WeekDay</th>\n",
       "      <th>NroDay</th>\n",
       "      <th>Mín Temperature(°C)</th>\n",
       "      <th>Difference Temperature</th>\n",
       "      <th>Feriado</th>\n",
       "    </tr>\n",
       "  </thead>\n",
       "  <tbody>\n",
       "    <tr>\n",
       "      <td>0</td>\n",
       "      <td>1</td>\n",
       "      <td>15</td>\n",
       "      <td>22</td>\n",
       "      <td>4</td>\n",
       "      <td>0</td>\n",
       "    </tr>\n",
       "    <tr>\n",
       "      <td>1</td>\n",
       "      <td>2</td>\n",
       "      <td>16</td>\n",
       "      <td>22</td>\n",
       "      <td>4</td>\n",
       "      <td>0</td>\n",
       "    </tr>\n",
       "    <tr>\n",
       "      <td>2</td>\n",
       "      <td>3</td>\n",
       "      <td>17</td>\n",
       "      <td>22</td>\n",
       "      <td>4</td>\n",
       "      <td>0</td>\n",
       "    </tr>\n",
       "    <tr>\n",
       "      <td>3</td>\n",
       "      <td>4</td>\n",
       "      <td>18</td>\n",
       "      <td>22</td>\n",
       "      <td>4</td>\n",
       "      <td>0</td>\n",
       "    </tr>\n",
       "    <tr>\n",
       "      <td>4</td>\n",
       "      <td>5</td>\n",
       "      <td>19</td>\n",
       "      <td>22</td>\n",
       "      <td>4</td>\n",
       "      <td>0</td>\n",
       "    </tr>\n",
       "  </tbody>\n",
       "</table>\n",
       "</div>"
      ],
      "text/plain": [
       "   WeekDay  NroDay  Mín Temperature(°C)  Difference Temperature  Feriado\n",
       "0        1      15                   22                       4        0\n",
       "1        2      16                   22                       4        0\n",
       "2        3      17                   22                       4        0\n",
       "3        4      18                   22                       4        0\n",
       "4        5      19                   22                       4        0"
      ]
     },
     "execution_count": 177,
     "metadata": {},
     "output_type": "execute_result"
    }
   ],
   "source": [
    "NewPrediction.head()"
   ]
  },
  {
   "cell_type": "code",
   "execution_count": 160,
   "metadata": {},
   "outputs": [
    {
     "data": {
      "text/plain": [
       "numpy.int64"
      ]
     },
     "execution_count": 160,
     "metadata": {},
     "output_type": "execute_result"
    }
   ],
   "source": [
    "type(NewPrediction['WeekDay'][1])"
   ]
  },
  {
   "cell_type": "code",
   "execution_count": 142,
   "metadata": {
    "scrolled": false
   },
   "outputs": [
    {
     "data": {
      "text/plain": [
       "array([13.93054626, 13.81800054, 13.70545482, 13.5929091 , 13.48036337,\n",
       "       13.36781765, 13.25250747, 14.55267778, 14.44013206])"
      ]
     },
     "execution_count": 142,
     "metadata": {},
     "output_type": "execute_result"
    }
   ],
   "source": [
    "LN.predict(NewPrediction)/8\n",
    "#con 0.05 de test"
   ]
  },
  {
   "cell_type": "code",
   "execution_count": 161,
   "metadata": {},
   "outputs": [
    {
     "data": {
      "text/plain": [
       "array([15.5720985 , 15.02843489, 14.48477127, 13.94110765, 13.39744404,\n",
       "       12.85378042, 12.15298865, 15.85205607, 15.30839245])"
      ]
     },
     "execution_count": 161,
     "metadata": {},
     "output_type": "execute_result"
    }
   ],
   "source": [
    "LN.predict(NewPrediction)/8\n",
    "#con 0.40 de test"
   ]
  },
  {
   "cell_type": "code",
   "execution_count": 313,
   "metadata": {},
   "outputs": [
    {
     "data": {
      "text/plain": [
       "array([26.27832289, 13.78166772, 13.67101472, 13.0703467 , 13.44970871,\n",
       "       13.18638517, 13.56574718, 14.32575325, 14.04642801])"
      ]
     },
     "execution_count": 313,
     "metadata": {},
     "output_type": "execute_result"
    }
   ],
   "source": [
    "#con Feriado\n",
    "LN.predict(NewPrediction)/8"
   ]
  },
  {
   "cell_type": "code",
   "execution_count": 178,
   "metadata": {
    "scrolled": true
   },
   "outputs": [
    {
     "data": {
      "text/plain": [
       "array([14.01155104, 13.83801004, 13.66446904, 13.49092804, 13.31738703,\n",
       "       13.14384603, 13.00615225, 14.73387205, 14.56033105])"
      ]
     },
     "execution_count": 178,
     "metadata": {},
     "output_type": "execute_result"
    }
   ],
   "source": [
    "#30%\n",
    "LN.predict(NewPrediction)/8"
   ]
  },
  {
   "cell_type": "code",
   "execution_count": 196,
   "metadata": {},
   "outputs": [],
   "source": [
    "from sklearn.svm import SVR"
   ]
  },
  {
   "cell_type": "code",
   "execution_count": 197,
   "metadata": {},
   "outputs": [],
   "source": [
    "svrm=SVR(kernel='poly',epsilon=1,degree=3)"
   ]
  },
  {
   "cell_type": "code",
   "execution_count": 198,
   "metadata": {
    "scrolled": true
   },
   "outputs": [
    {
     "name": "stderr",
     "output_type": "stream",
     "text": [
      "D:\\Programs\\Anaconda3\\lib\\site-packages\\sklearn\\svm\\base.py:193: FutureWarning:\n",
      "\n",
      "The default value of gamma will change from 'auto' to 'scale' in version 0.22 to account better for unscaled features. Set gamma explicitly to 'auto' or 'scale' to avoid this warning.\n",
      "\n"
     ]
    },
    {
     "data": {
      "text/plain": [
       "SVR(C=1.0, cache_size=200, coef0=0.0, degree=3, epsilon=1,\n",
       "    gamma='auto_deprecated', kernel='poly', max_iter=-1, shrinking=True,\n",
       "    tol=0.001, verbose=False)"
      ]
     },
     "execution_count": 198,
     "metadata": {},
     "output_type": "execute_result"
    }
   ],
   "source": [
    "svrm.fit(X_train,y_train)"
   ]
  },
  {
   "cell_type": "code",
   "execution_count": 199,
   "metadata": {},
   "outputs": [],
   "source": [
    "NPredictions=svrm.predict(X_test)"
   ]
  },
  {
   "cell_type": "code",
   "execution_count": 200,
   "metadata": {},
   "outputs": [
    {
     "data": {
      "text/plain": [
       "<matplotlib.axes._subplots.AxesSubplot at 0x1ba385eb7c8>"
      ]
     },
     "execution_count": 200,
     "metadata": {},
     "output_type": "execute_result"
    },
    {
     "data": {
      "image/png": "[encoded data removed]",
      "text/plain": [
       "<Figure size 432x288 with 1 Axes>"
      ]
     },
     "metadata": {},
     "output_type": "display_data"
    }
   ],
   "source": [
    "sns.distplot(y_test-NPredictions,bins=50)"
   ]
  },
  {
   "cell_type": "code",
   "execution_count": 201,
   "metadata": {},
   "outputs": [
    {
     "name": "stdout",
     "output_type": "stream",
     "text": [
      "MAE: 1.8720726727293109\n",
      "MSE: 274.18231012633987\n",
      "RMSE: 2.0698064150359716\n"
     ]
    }
   ],
   "source": [
    "print('MAE:',metrics.mean_absolute_error(y_test,NPredictions)/8)\n",
    "print('MSE:', metrics.mean_squared_error(y_test, NPredictions))\n",
    "print('RMSE:', np.sqrt(metrics.mean_squared_error(y_test, NPredictions))/8)"
   ]
  },
  {
   "cell_type": "code",
   "execution_count": 193,
   "metadata": {
    "scrolled": false
   },
   "outputs": [
    {
     "data": {
      "text/plain": [
       "array([19.49510419, 15.24201617, 12.21550167, 10.65594633, 10.80373575,\n",
       "       12.89925555, 17.0486383 , 20.03104138, 16.01839905])"
      ]
     },
     "execution_count": 193,
     "metadata": {},
     "output_type": "execute_result"
    }
   ],
   "source": [
    "#40% test\n",
    "svrm.predict(NewPrediction)/8"
   ]
  },
  {
   "cell_type": "code",
   "execution_count": 202,
   "metadata": {
    "scrolled": false
   },
   "outputs": [
    {
     "data": {
      "text/plain": [
       "array([18.22835944, 13.94022227, 11.21153167, 10.1558842 , 10.88687639,\n",
       "       13.51810481, 18.63183775, 19.29573643, 14.95835042])"
      ]
     },
     "execution_count": 202,
     "metadata": {},
     "output_type": "execute_result"
    }
   ],
   "source": [
    "#0.05% test\n",
    "svrm.predict(NewPrediction)/8"
   ]
  },
  {
   "cell_type": "code",
   "execution_count": 185,
   "metadata": {
    "scrolled": true
   },
   "outputs": [
    {
     "data": {
      "text/plain": [
       "array([19.12992008, 14.70620628, 11.65494311, 10.19654485, 10.55142578,\n",
       "       12.94000018, 17.98364744, 19.65863715, 15.68147179])"
      ]
     },
     "execution_count": 185,
     "metadata": {},
     "output_type": "execute_result"
    }
   ],
   "source": [
    "#30% test\n",
    "svrm.predict(NewPrediction)/8"
   ]
  },
  {
   "cell_type": "code",
   "execution_count": 314,
   "metadata": {},
   "outputs": [
    {
     "data": {
      "text/plain": [
       "array([24.80386486, 14.16294346, 11.31865132, 11.06842962, 11.04583771,\n",
       "       12.66659523, 19.12446452, 17.58953231, 12.32763244])"
      ]
     },
     "execution_count": 314,
     "metadata": {},
     "output_type": "execute_result"
    }
   ],
   "source": [
    "#Con feriado #wihtout meaning\n",
    "svrm.predict(NewPrediction)/8"
   ]
  },
  {
   "cell_type": "code",
   "execution_count": 221,
   "metadata": {},
   "outputs": [],
   "source": [
    "X=VPollos.drop('Pollos Vendidos',axis=1)\n",
    "y=VPollos['Pollos Vendidos']\n",
    "X_train, X_test, y_train, y_test = train_test_split(X, y, test_size=0.3,random_state=101)"
   ]
  },
  {
   "cell_type": "code",
   "execution_count": 222,
   "metadata": {},
   "outputs": [
    {
     "name": "stderr",
     "output_type": "stream",
     "text": [
      "D:\\Programs\\Anaconda3\\lib\\site-packages\\sklearn\\svm\\base.py:193: FutureWarning:\n",
      "\n",
      "The default value of gamma will change from 'auto' to 'scale' in version 0.22 to account better for unscaled features. Set gamma explicitly to 'auto' or 'scale' to avoid this warning.\n",
      "\n"
     ]
    },
    {
     "data": {
      "text/plain": [
       "<matplotlib.axes._subplots.AxesSubplot at 0x1ba36f60d88>"
      ]
     },
     "execution_count": 222,
     "metadata": {},
     "output_type": "execute_result"
    },
    {
     "data": {
      "image/png": "[encoded data removed]",
      "text/plain": [
       "<Figure size 432x288 with 1 Axes>"
      ]
     },
     "metadata": {},
     "output_type": "display_data"
    }
   ],
   "source": [
    "svrm2=SVR(kernel='poly',epsilon=1,degree=2)\n",
    "svrm2.fit(X_train,y_train)\n",
    "NPredictions2=svrm2.predict(X_test)\n",
    "sns.distplot(y_test-NPredictions2,bins=50)"
   ]
  },
  {
   "cell_type": "code",
   "execution_count": 205,
   "metadata": {},
   "outputs": [
    {
     "data": {
      "text/plain": [
       "array([15.1351241 , 13.60809353, 12.48876383, 11.77713501, 11.47320705,\n",
       "       11.57697997, 11.92261646, 16.11575998, 14.6392577 ])"
      ]
     },
     "execution_count": 205,
     "metadata": {},
     "output_type": "execute_result"
    }
   ],
   "source": [
    "#40% test\n",
    "svrm2.predict(NewPrediction)/8"
   ]
  },
  {
   "cell_type": "code",
   "execution_count": 208,
   "metadata": {},
   "outputs": [
    {
     "data": {
      "text/plain": [
       "array([12.95851448, 11.82519866, 11.24257908, 11.21065574, 11.72942863,\n",
       "       12.79889775, 13.97958989, 14.86816501, 13.33077975])"
      ]
     },
     "execution_count": 208,
     "metadata": {},
     "output_type": "execute_result"
    }
   ],
   "source": [
    "#30% test\n",
    "svrm2.predict(NewPrediction)/8"
   ]
  },
  {
   "cell_type": "code",
   "execution_count": 211,
   "metadata": {},
   "outputs": [
    {
     "data": {
      "text/plain": [
       "array([14.50260548, 12.74799397, 11.71163819, 11.39353817, 11.79369389,\n",
       "       12.91210535, 14.3201301 , 15.4383136 , 13.59948641])"
      ]
     },
     "execution_count": 211,
     "metadata": {},
     "output_type": "execute_result"
    }
   ],
   "source": [
    "#0.05% test\n",
    "svrm2.predict(NewPrediction)/8"
   ]
  },
  {
   "cell_type": "code",
   "execution_count": 212,
   "metadata": {},
   "outputs": [
    {
     "name": "stdout",
     "output_type": "stream",
     "text": [
      "MAE: 2.8470407889296383\n",
      "MSE: 828.5718519485654\n",
      "RMSE: 3.5981155049131393\n"
     ]
    }
   ],
   "source": [
    "print('MAE:',metrics.mean_absolute_error(y_test,NPredictions2)/8)\n",
    "print('MSE:', metrics.mean_squared_error(y_test, NPredictions2))\n",
    "print('RMSE:', np.sqrt(metrics.mean_squared_error(y_test, NPredictions2))/8)"
   ]
  },
  {
   "cell_type": "code",
   "execution_count": 52,
   "metadata": {
    "scrolled": false
   },
   "outputs": [
    {
     "name": "stderr",
     "output_type": "stream",
     "text": [
      "D:\\Programs\\Anaconda3\\lib\\site-packages\\sklearn\\svm\\base.py:193: FutureWarning:\n",
      "\n",
      "The default value of gamma will change from 'auto' to 'scale' in version 0.22 to account better for unscaled features. Set gamma explicitly to 'auto' or 'scale' to avoid this warning.\n",
      "\n",
      "D:\\Programs\\Anaconda3\\lib\\site-packages\\sklearn\\svm\\base.py:193: FutureWarning:\n",
      "\n",
      "The default value of gamma will change from 'auto' to 'scale' in version 0.22 to account better for unscaled features. Set gamma explicitly to 'auto' or 'scale' to avoid this warning.\n",
      "\n",
      "D:\\Programs\\Anaconda3\\lib\\site-packages\\sklearn\\svm\\base.py:193: FutureWarning:\n",
      "\n",
      "The default value of gamma will change from 'auto' to 'scale' in version 0.22 to account better for unscaled features. Set gamma explicitly to 'auto' or 'scale' to avoid this warning.\n",
      "\n",
      "D:\\Programs\\Anaconda3\\lib\\site-packages\\sklearn\\svm\\base.py:193: FutureWarning:\n",
      "\n",
      "The default value of gamma will change from 'auto' to 'scale' in version 0.22 to account better for unscaled features. Set gamma explicitly to 'auto' or 'scale' to avoid this warning.\n",
      "\n"
     ]
    }
   ],
   "source": [
    "error=[]\n",
    "for i in range(1,5):\n",
    "    svrmN=SVR(kernel='poly',epsilon=1,degree=i)\n",
    "    svrmN.fit(X_train,y_train)\n",
    "    NPredict=svrmN.predict(X_test)\n",
    "    error.append(np.sqrt(metrics.mean_squared_error(y_test, NPredict))/8)\n",
    "    "
   ]
  },
  {
   "cell_type": "code",
   "execution_count": 53,
   "metadata": {},
   "outputs": [
    {
     "data": {
      "text/plain": [
       "[<matplotlib.lines.Line2D at 0x1ba358f4e88>]"
      ]
     },
     "execution_count": 53,
     "metadata": {},
     "output_type": "execute_result"
    },
    {
     "data": {
      "image/png": "[encoded data removed]",
      "text/plain": [
       "<Figure size 432x288 with 1 Axes>"
      ]
     },
     "metadata": {},
     "output_type": "display_data"
    }
   ],
   "source": [
    "plt.plot(range(1,5),error,color='blue', linestyle='dashed', marker='o',\n",
    "         markerfacecolor='red', markersize=10)"
   ]
  },
  {
   "cell_type": "code",
   "execution_count": 213,
   "metadata": {
    "scrolled": true
   },
   "outputs": [
    {
     "data": {
      "text/plain": [
       "[4.019238751773411, 4.007552600073127, 4.021105321903828, 16.665399378600707]"
      ]
     },
     "execution_count": 213,
     "metadata": {},
     "output_type": "execute_result"
    }
   ],
   "source": [
    "error"
   ]
  },
  {
   "cell_type": "code",
   "execution_count": 214,
   "metadata": {},
   "outputs": [],
   "source": [
    "from sklearn.model_selection import GridSearchCV"
   ]
  },
  {
   "cell_type": "code",
   "execution_count": 223,
   "metadata": {
    "scrolled": true
   },
   "outputs": [
    {
     "name": "stderr",
     "output_type": "stream",
     "text": [
      "D:\\Programs\\Anaconda3\\lib\\site-packages\\sklearn\\model_selection\\_split.py:1978: FutureWarning:\n",
      "\n",
      "The default value of cv will change from 3 to 5 in version 0.22. Specify it explicitly to silence this warning.\n",
      "\n",
      "[Parallel(n_jobs=1)]: Using backend SequentialBackend with 1 concurrent workers.\n",
      "[Parallel(n_jobs=1)]: Done   1 out of   1 | elapsed:    0.0s remaining:    0.0s\n",
      "[Parallel(n_jobs=1)]: Done   2 out of   2 | elapsed:    0.0s remaining:    0.0s\n",
      "[Parallel(n_jobs=1)]: Done   3 out of   3 | elapsed:    0.0s remaining:    0.0s\n",
      "[Parallel(n_jobs=1)]: Done   4 out of   4 | elapsed:    0.0s remaining:    0.0s\n"
     ]
    },
    {
     "name": "stdout",
     "output_type": "stream",
     "text": [
      "Fitting 3 folds for each of 405 candidates, totalling 1215 fits\n",
      "[CV] C=0.0001, epsilon=0.1, gamma=1, kernel=rbf ......................\n",
      "[CV]  C=0.0001, epsilon=0.1, gamma=1, kernel=rbf, score=-0.068, total=   0.0s\n",
      "[CV] C=0.0001, epsilon=0.1, gamma=1, kernel=rbf ......................\n",
      "[CV]  C=0.0001, epsilon=0.1, gamma=1, kernel=rbf, score=-0.226, total=   0.0s\n",
      "[CV] C=0.0001, epsilon=0.1, gamma=1, kernel=rbf ......................\n",
      "[CV]  C=0.0001, epsilon=0.1, gamma=1, kernel=rbf, score=-0.159, total=   0.0s\n",
      "[CV] C=0.0001, epsilon=0.1, gamma=0.1, kernel=rbf ....................\n",
      "[CV]  C=0.0001, epsilon=0.1, gamma=0.1, kernel=rbf, score=-0.068, total=   0.0s\n",
      "[CV] C=0.0001, epsilon=0.1, gamma=0.1, kernel=rbf ....................\n",
      "[CV]  C=0.0001, epsilon=0.1, gamma=0.1, kernel=rbf, score=-0.226, total=   0.0s\n",
      "[CV] C=0.0001, epsilon=0.1, gamma=0.1, kernel=rbf ....................\n",
      "[CV]  C=0.0001, epsilon=0.1, gamma=0.1, kernel=rbf, score=-0.159, total=   0.0s\n",
      "[CV] C=0.0001, epsilon=0.1, gamma=0.01, kernel=rbf ...................\n",
      "[CV]  C=0.0001, epsilon=0.1, gamma=0.01, kernel=rbf, score=-0.068, total=   0.0s\n",
      "[CV] C=0.0001, epsilon=0.1, gamma=0.01, kernel=rbf ...................\n",
      "[CV]  C=0.0001, epsilon=0.1, gamma=0.01, kernel=rbf, score=-0.226, total=   0.0s\n",
      "[CV] C=0.0001, epsilon=0.1, gamma=0.01, kernel=rbf ...................\n",
      "[CV]  C=0.0001, epsilon=0.1, gamma=0.01, kernel=rbf, score=-0.159, total=   0.0s\n",
      "[CV] C=0.0001, epsilon=0.1, gamma=0.001, kernel=rbf ..................\n",
      "[CV]  C=0.0001, epsilon=0.1, gamma=0.001, kernel=rbf, score=-0.068, total=   0.0s\n",
      "[CV] C=0.0001, epsilon=0.1, gamma=0.001, kernel=rbf ..................\n",
      "[CV]  C=0.0001, epsilon=0.1, gamma=0.001, kernel=rbf, score=-0.226, total=   0.0s\n",
      "[CV] C=0.0001, epsilon=0.1, gamma=0.001, kernel=rbf ..................\n",
      "[CV]  C=0.0001, epsilon=0.1, gamma=0.001, kernel=rbf, score=-0.159, total=   0.0s\n",
      "[CV] C=0.0001, epsilon=0.1, gamma=0.0001, kernel=rbf .................\n",
      "[CV]  C=0.0001, epsilon=0.1, gamma=0.0001, kernel=rbf, score=-0.068, total=   0.0s\n",
      "[CV] C=0.0001, epsilon=0.1, gamma=0.0001, kernel=rbf .................\n",
      "[CV]  C=0.0001, epsilon=0.1, gamma=0.0001, kernel=rbf, score=-0.226, total=   0.0s\n",
      "[CV] C=0.0001, epsilon=0.1, gamma=0.0001, kernel=rbf .................\n",
      "[CV]  C=0.0001, epsilon=0.1, gamma=0.0001, kernel=rbf, score=-0.159, total=   0.0s\n",
      "[CV] C=0.0001, epsilon=0.1, gamma=1e-05, kernel=rbf ..................\n",
      "[CV]  C=0.0001, epsilon=0.1, gamma=1e-05, kernel=rbf, score=-0.068, total=   0.0s\n",
      "[CV] C=0.0001, epsilon=0.1, gamma=1e-05, kernel=rbf ..................\n",
      "[CV]  C=0.0001, epsilon=0.1, gamma=1e-05, kernel=rbf, score=-0.226, total=   0.0s\n",
      "[CV] C=0.0001, epsilon=0.1, gamma=1e-05, kernel=rbf ..................\n",
      "[CV]  C=0.0001, epsilon=0.1, gamma=1e-05, kernel=rbf, score=-0.159, total=   0.0s\n",
      "[CV] C=0.0001, epsilon=0.1, gamma=1e-06, kernel=rbf ..................\n",
      "[CV]  C=0.0001, epsilon=0.1, gamma=1e-06, kernel=rbf, score=-0.068, total=   0.0s\n",
      "[CV] C=0.0001, epsilon=0.1, gamma=1e-06, kernel=rbf ..................\n",
      "[CV]  C=0.0001, epsilon=0.1, gamma=1e-06, kernel=rbf, score=-0.226, total=   0.0s\n",
      "[CV] C=0.0001, epsilon=0.1, gamma=1e-06, kernel=rbf ..................\n",
      "[CV]  C=0.0001, epsilon=0.1, gamma=1e-06, kernel=rbf, score=-0.159, total=   0.0s\n",
      "[CV] C=0.0001, epsilon=0.1, gamma=1e-07, kernel=rbf ..................\n",
      "[CV]  C=0.0001, epsilon=0.1, gamma=1e-07, kernel=rbf, score=-0.068, total=   0.0s\n",
      "[CV] C=0.0001, epsilon=0.1, gamma=1e-07, kernel=rbf ..................\n",
      "[CV]  C=0.0001, epsilon=0.1, gamma=1e-07, kernel=rbf, score=-0.226, total=   0.0s\n",
      "[CV] C=0.0001, epsilon=0.1, gamma=1e-07, kernel=rbf ..................\n",
      "[CV]  C=0.0001, epsilon=0.1, gamma=1e-07, kernel=rbf, score=-0.159, total=   0.0s\n",
      "[CV] C=0.0001, epsilon=0.1, gamma=1e-08, kernel=rbf ..................\n",
      "[CV]  C=0.0001, epsilon=0.1, gamma=1e-08, kernel=rbf, score=-0.068, total=   0.0s\n",
      "[CV] C=0.0001, epsilon=0.1, gamma=1e-08, kernel=rbf ..................\n",
      "[CV]  C=0.0001, epsilon=0.1, gamma=1e-08, kernel=rbf, score=-0.226, total=   0.0s\n",
      "[CV] C=0.0001, epsilon=0.1, gamma=1e-08, kernel=rbf ..................\n",
      "[CV]  C=0.0001, epsilon=0.1, gamma=1e-08, kernel=rbf, score=-0.159, total=   0.0s\n",
      "[CV] C=0.0001, epsilon=1, gamma=1, kernel=rbf ........................\n",
      "[CV]  C=0.0001, epsilon=1, gamma=1, kernel=rbf, score=-0.068, total=   0.0s\n",
      "[CV] C=0.0001, epsilon=1, gamma=1, kernel=rbf ........................\n",
      "[CV]  C=0.0001, epsilon=1, gamma=1, kernel=rbf, score=-0.226, total=   0.0s\n",
      "[CV] C=0.0001, epsilon=1, gamma=1, kernel=rbf ........................\n",
      "[CV]  C=0.0001, epsilon=1, gamma=1, kernel=rbf, score=-0.152, total=   0.0s\n",
      "[CV] C=0.0001, epsilon=1, gamma=0.1, kernel=rbf ......................\n",
      "[CV]  C=0.0001, epsilon=1, gamma=0.1, kernel=rbf, score=-0.068, total=   0.0s\n",
      "[CV] C=0.0001, epsilon=1, gamma=0.1, kernel=rbf ......................\n",
      "[CV]  C=0.0001, epsilon=1, gamma=0.1, kernel=rbf, score=-0.226, total=   0.0s\n",
      "[CV] C=0.0001, epsilon=1, gamma=0.1, kernel=rbf ......................\n",
      "[CV]  C=0.0001, epsilon=1, gamma=0.1, kernel=rbf, score=-0.152, total=   0.0s\n",
      "[CV] C=0.0001, epsilon=1, gamma=0.01, kernel=rbf .....................\n",
      "[CV]  C=0.0001, epsilon=1, gamma=0.01, kernel=rbf, score=-0.068, total=   0.0s\n",
      "[CV] C=0.0001, epsilon=1, gamma=0.01, kernel=rbf .....................\n",
      "[CV]  C=0.0001, epsilon=1, gamma=0.01, kernel=rbf, score=-0.226, total=   0.0s\n",
      "[CV] C=0.0001, epsilon=1, gamma=0.01, kernel=rbf .....................\n",
      "[CV]  C=0.0001, epsilon=1, gamma=0.01, kernel=rbf, score=-0.152, total=   0.0s\n",
      "[CV] C=0.0001, epsilon=1, gamma=0.001, kernel=rbf ....................\n",
      "[CV]  C=0.0001, epsilon=1, gamma=0.001, kernel=rbf, score=-0.068, total=   0.0s\n",
      "[CV] C=0.0001, epsilon=1, gamma=0.001, kernel=rbf ....................\n",
      "[CV]  C=0.0001, epsilon=1, gamma=0.001, kernel=rbf, score=-0.226, total=   0.0s\n",
      "[CV] C=0.0001, epsilon=1, gamma=0.001, kernel=rbf ....................\n",
      "[CV]  C=0.0001, epsilon=1, gamma=0.001, kernel=rbf, score=-0.152, total=   0.0s\n",
      "[CV] C=0.0001, epsilon=1, gamma=0.0001, kernel=rbf ...................\n",
      "[CV]  C=0.0001, epsilon=1, gamma=0.0001, kernel=rbf, score=-0.068, total=   0.0s\n",
      "[CV] C=0.0001, epsilon=1, gamma=0.0001, kernel=rbf ...................\n",
      "[CV]  C=0.0001, epsilon=1, gamma=0.0001, kernel=rbf, score=-0.226, total=   0.0s\n",
      "[CV] C=0.0001, epsilon=1, gamma=0.0001, kernel=rbf ...................\n",
      "[CV]  C=0.0001, epsilon=1, gamma=0.0001, kernel=rbf, score=-0.152, total=   0.0s\n",
      "[CV] C=0.0001, epsilon=1, gamma=1e-05, kernel=rbf ....................\n",
      "[CV]  C=0.0001, epsilon=1, gamma=1e-05, kernel=rbf, score=-0.068, total=   0.0s\n",
      "[CV] C=0.0001, epsilon=1, gamma=1e-05, kernel=rbf ....................\n",
      "[CV]  C=0.0001, epsilon=1, gamma=1e-05, kernel=rbf, score=-0.226, total=   0.0s\n",
      "[CV] C=0.0001, epsilon=1, gamma=1e-05, kernel=rbf ....................\n",
      "[CV]  C=0.0001, epsilon=1, gamma=1e-05, kernel=rbf, score=-0.152, total=   0.0s\n",
      "[CV] C=0.0001, epsilon=1, gamma=1e-06, kernel=rbf ....................\n",
      "[CV]  C=0.0001, epsilon=1, gamma=1e-06, kernel=rbf, score=-0.068, total=   0.0s\n",
      "[CV] C=0.0001, epsilon=1, gamma=1e-06, kernel=rbf ....................\n",
      "[CV]  C=0.0001, epsilon=1, gamma=1e-06, kernel=rbf, score=-0.226, total=   0.0s\n",
      "[CV] C=0.0001, epsilon=1, gamma=1e-06, kernel=rbf ....................\n",
      "[CV]  C=0.0001, epsilon=1, gamma=1e-06, kernel=rbf, score=-0.152, total=   0.0s\n",
      "[CV] C=0.0001, epsilon=1, gamma=1e-07, kernel=rbf ....................\n",
      "[CV]  C=0.0001, epsilon=1, gamma=1e-07, kernel=rbf, score=-0.068, total=   0.0s\n",
      "[CV] C=0.0001, epsilon=1, gamma=1e-07, kernel=rbf ....................\n",
      "[CV]  C=0.0001, epsilon=1, gamma=1e-07, kernel=rbf, score=-0.226, total=   0.0s\n",
      "[CV] C=0.0001, epsilon=1, gamma=1e-07, kernel=rbf ....................\n",
      "[CV]  C=0.0001, epsilon=1, gamma=1e-07, kernel=rbf, score=-0.152, total=   0.0s\n",
      "[CV] C=0.0001, epsilon=1, gamma=1e-08, kernel=rbf ....................\n",
      "[CV]  C=0.0001, epsilon=1, gamma=1e-08, kernel=rbf, score=-0.068, total=   0.0s\n",
      "[CV] C=0.0001, epsilon=1, gamma=1e-08, kernel=rbf ....................\n",
      "[CV]  C=0.0001, epsilon=1, gamma=1e-08, kernel=rbf, score=-0.226, total=   0.0s\n",
      "[CV] C=0.0001, epsilon=1, gamma=1e-08, kernel=rbf ....................\n",
      "[CV]  C=0.0001, epsilon=1, gamma=1e-08, kernel=rbf, score=-0.152, total=   0.0s\n",
      "[CV] C=0.0001, epsilon=10, gamma=1, kernel=rbf .......................\n",
      "[CV]  C=0.0001, epsilon=10, gamma=1, kernel=rbf, score=-0.027, total=   0.0s\n",
      "[CV] C=0.0001, epsilon=10, gamma=1, kernel=rbf .......................\n",
      "[CV]  C=0.0001, epsilon=10, gamma=1, kernel=rbf, score=-0.211, total=   0.0s\n",
      "[CV] C=0.0001, epsilon=10, gamma=1, kernel=rbf .......................\n",
      "[CV]  C=0.0001, epsilon=10, gamma=1, kernel=rbf, score=-0.127, total=   0.0s\n",
      "[CV] C=0.0001, epsilon=10, gamma=0.1, kernel=rbf .....................\n",
      "[CV]  C=0.0001, epsilon=10, gamma=0.1, kernel=rbf, score=-0.027, total=   0.0s\n",
      "[CV] C=0.0001, epsilon=10, gamma=0.1, kernel=rbf .....................\n"
     ]
    },
    {
     "name": "stdout",
     "output_type": "stream",
     "text": [
      "[CV]  C=0.0001, epsilon=10, gamma=0.1, kernel=rbf, score=-0.211, total=   0.0s\n",
      "[CV] C=0.0001, epsilon=10, gamma=0.1, kernel=rbf .....................\n",
      "[CV]  C=0.0001, epsilon=10, gamma=0.1, kernel=rbf, score=-0.127, total=   0.0s\n",
      "[CV] C=0.0001, epsilon=10, gamma=0.01, kernel=rbf ....................\n",
      "[CV]  C=0.0001, epsilon=10, gamma=0.01, kernel=rbf, score=-0.027, total=   0.0s\n",
      "[CV] C=0.0001, epsilon=10, gamma=0.01, kernel=rbf ....................\n",
      "[CV]  C=0.0001, epsilon=10, gamma=0.01, kernel=rbf, score=-0.211, total=   0.0s\n",
      "[CV] C=0.0001, epsilon=10, gamma=0.01, kernel=rbf ....................\n",
      "[CV]  C=0.0001, epsilon=10, gamma=0.01, kernel=rbf, score=-0.127, total=   0.0s\n",
      "[CV] C=0.0001, epsilon=10, gamma=0.001, kernel=rbf ...................\n",
      "[CV]  C=0.0001, epsilon=10, gamma=0.001, kernel=rbf, score=-0.027, total=   0.0s\n",
      "[CV] C=0.0001, epsilon=10, gamma=0.001, kernel=rbf ...................\n",
      "[CV]  C=0.0001, epsilon=10, gamma=0.001, kernel=rbf, score=-0.211, total=   0.0s\n",
      "[CV] C=0.0001, epsilon=10, gamma=0.001, kernel=rbf ...................\n",
      "[CV]  C=0.0001, epsilon=10, gamma=0.001, kernel=rbf, score=-0.127, total=   0.0s\n",
      "[CV] C=0.0001, epsilon=10, gamma=0.0001, kernel=rbf ..................\n",
      "[CV]  C=0.0001, epsilon=10, gamma=0.0001, kernel=rbf, score=-0.027, total=   0.0s\n",
      "[CV] C=0.0001, epsilon=10, gamma=0.0001, kernel=rbf ..................\n",
      "[CV]  C=0.0001, epsilon=10, gamma=0.0001, kernel=rbf, score=-0.211, total=   0.0s\n",
      "[CV] C=0.0001, epsilon=10, gamma=0.0001, kernel=rbf ..................\n",
      "[CV]  C=0.0001, epsilon=10, gamma=0.0001, kernel=rbf, score=-0.127, total=   0.0s\n",
      "[CV] C=0.0001, epsilon=10, gamma=1e-05, kernel=rbf ...................\n",
      "[CV]  C=0.0001, epsilon=10, gamma=1e-05, kernel=rbf, score=-0.027, total=   0.0s\n",
      "[CV] C=0.0001, epsilon=10, gamma=1e-05, kernel=rbf ...................\n",
      "[CV]  C=0.0001, epsilon=10, gamma=1e-05, kernel=rbf, score=-0.211, total=   0.0s\n",
      "[CV] C=0.0001, epsilon=10, gamma=1e-05, kernel=rbf ...................\n",
      "[CV]  C=0.0001, epsilon=10, gamma=1e-05, kernel=rbf, score=-0.127, total=   0.0s\n",
      "[CV] C=0.0001, epsilon=10, gamma=1e-06, kernel=rbf ...................\n",
      "[CV]  C=0.0001, epsilon=10, gamma=1e-06, kernel=rbf, score=-0.027, total=   0.0s\n",
      "[CV] C=0.0001, epsilon=10, gamma=1e-06, kernel=rbf ...................\n",
      "[CV]  C=0.0001, epsilon=10, gamma=1e-06, kernel=rbf, score=-0.211, total=   0.0s\n",
      "[CV] C=0.0001, epsilon=10, gamma=1e-06, kernel=rbf ...................\n",
      "[CV]  C=0.0001, epsilon=10, gamma=1e-06, kernel=rbf, score=-0.127, total=   0.0s\n",
      "[CV] C=0.0001, epsilon=10, gamma=1e-07, kernel=rbf ...................\n",
      "[CV]  C=0.0001, epsilon=10, gamma=1e-07, kernel=rbf, score=-0.027, total=   0.0s\n",
      "[CV] C=0.0001, epsilon=10, gamma=1e-07, kernel=rbf ...................\n",
      "[CV]  C=0.0001, epsilon=10, gamma=1e-07, kernel=rbf, score=-0.211, total=   0.0s\n",
      "[CV] C=0.0001, epsilon=10, gamma=1e-07, kernel=rbf ...................\n",
      "[CV]  C=0.0001, epsilon=10, gamma=1e-07, kernel=rbf, score=-0.127, total=   0.0s\n",
      "[CV] C=0.0001, epsilon=10, gamma=1e-08, kernel=rbf ...................\n",
      "[CV]  C=0.0001, epsilon=10, gamma=1e-08, kernel=rbf, score=-0.027, total=   0.0s\n",
      "[CV] C=0.0001, epsilon=10, gamma=1e-08, kernel=rbf ...................\n",
      "[CV]  C=0.0001, epsilon=10, gamma=1e-08, kernel=rbf, score=-0.211, total=   0.0s\n",
      "[CV] C=0.0001, epsilon=10, gamma=1e-08, kernel=rbf ...................\n",
      "[CV]  C=0.0001, epsilon=10, gamma=1e-08, kernel=rbf, score=-0.127, total=   0.0s\n",
      "[CV] C=0.0001, epsilon=100, gamma=1, kernel=rbf ......................\n",
      "[CV]  C=0.0001, epsilon=100, gamma=1, kernel=rbf, score=-1.161, total=   0.0s\n",
      "[CV] C=0.0001, epsilon=100, gamma=1, kernel=rbf ......................\n",
      "[CV]  C=0.0001, epsilon=100, gamma=1, kernel=rbf, score=-0.627, total=   0.0s\n",
      "[CV] C=0.0001, epsilon=100, gamma=1, kernel=rbf ......................\n",
      "[CV]  C=0.0001, epsilon=100, gamma=1, kernel=rbf, score=-0.000, total=   0.0s\n",
      "[CV] C=0.0001, epsilon=100, gamma=0.1, kernel=rbf ....................\n",
      "[CV]  C=0.0001, epsilon=100, gamma=0.1, kernel=rbf, score=-1.161, total=   0.0s\n",
      "[CV] C=0.0001, epsilon=100, gamma=0.1, kernel=rbf ....................\n",
      "[CV]  C=0.0001, epsilon=100, gamma=0.1, kernel=rbf, score=-0.627, total=   0.0s\n",
      "[CV] C=0.0001, epsilon=100, gamma=0.1, kernel=rbf ....................\n",
      "[CV]  C=0.0001, epsilon=100, gamma=0.1, kernel=rbf, score=-0.000, total=   0.0s\n",
      "[CV] C=0.0001, epsilon=100, gamma=0.01, kernel=rbf ...................\n",
      "[CV]  C=0.0001, epsilon=100, gamma=0.01, kernel=rbf, score=-1.161, total=   0.0s\n",
      "[CV] C=0.0001, epsilon=100, gamma=0.01, kernel=rbf ...................\n",
      "[CV]  C=0.0001, epsilon=100, gamma=0.01, kernel=rbf, score=-0.627, total=   0.0s\n",
      "[CV] C=0.0001, epsilon=100, gamma=0.01, kernel=rbf ...................\n",
      "[CV]  C=0.0001, epsilon=100, gamma=0.01, kernel=rbf, score=-0.000, total=   0.0s\n",
      "[CV] C=0.0001, epsilon=100, gamma=0.001, kernel=rbf ..................\n",
      "[CV]  C=0.0001, epsilon=100, gamma=0.001, kernel=rbf, score=-1.161, total=   0.0s\n",
      "[CV] C=0.0001, epsilon=100, gamma=0.001, kernel=rbf ..................\n",
      "[CV]  C=0.0001, epsilon=100, gamma=0.001, kernel=rbf, score=-0.627, total=   0.0s\n",
      "[CV] C=0.0001, epsilon=100, gamma=0.001, kernel=rbf ..................\n",
      "[CV]  C=0.0001, epsilon=100, gamma=0.001, kernel=rbf, score=-0.000, total=   0.0s\n",
      "[CV] C=0.0001, epsilon=100, gamma=0.0001, kernel=rbf .................\n",
      "[CV]  C=0.0001, epsilon=100, gamma=0.0001, kernel=rbf, score=-1.161, total=   0.0s\n",
      "[CV] C=0.0001, epsilon=100, gamma=0.0001, kernel=rbf .................\n",
      "[CV]  C=0.0001, epsilon=100, gamma=0.0001, kernel=rbf, score=-0.627, total=   0.0s\n",
      "[CV] C=0.0001, epsilon=100, gamma=0.0001, kernel=rbf .................\n",
      "[CV]  C=0.0001, epsilon=100, gamma=0.0001, kernel=rbf, score=-0.000, total=   0.0s\n",
      "[CV] C=0.0001, epsilon=100, gamma=1e-05, kernel=rbf ..................\n",
      "[CV]  C=0.0001, epsilon=100, gamma=1e-05, kernel=rbf, score=-1.161, total=   0.0s\n",
      "[CV] C=0.0001, epsilon=100, gamma=1e-05, kernel=rbf ..................\n",
      "[CV]  C=0.0001, epsilon=100, gamma=1e-05, kernel=rbf, score=-0.627, total=   0.0s\n",
      "[CV] C=0.0001, epsilon=100, gamma=1e-05, kernel=rbf ..................\n",
      "[CV]  C=0.0001, epsilon=100, gamma=1e-05, kernel=rbf, score=-0.000, total=   0.0s\n",
      "[CV] C=0.0001, epsilon=100, gamma=1e-06, kernel=rbf ..................\n",
      "[CV]  C=0.0001, epsilon=100, gamma=1e-06, kernel=rbf, score=-1.161, total=   0.0s\n",
      "[CV] C=0.0001, epsilon=100, gamma=1e-06, kernel=rbf ..................\n",
      "[CV]  C=0.0001, epsilon=100, gamma=1e-06, kernel=rbf, score=-0.627, total=   0.0s\n",
      "[CV] C=0.0001, epsilon=100, gamma=1e-06, kernel=rbf ..................\n",
      "[CV]  C=0.0001, epsilon=100, gamma=1e-06, kernel=rbf, score=-0.000, total=   0.0s\n",
      "[CV] C=0.0001, epsilon=100, gamma=1e-07, kernel=rbf ..................\n",
      "[CV]  C=0.0001, epsilon=100, gamma=1e-07, kernel=rbf, score=-1.161, total=   0.0s\n",
      "[CV] C=0.0001, epsilon=100, gamma=1e-07, kernel=rbf ..................\n",
      "[CV]  C=0.0001, epsilon=100, gamma=1e-07, kernel=rbf, score=-0.627, total=   0.0s\n",
      "[CV] C=0.0001, epsilon=100, gamma=1e-07, kernel=rbf ..................\n",
      "[CV]  C=0.0001, epsilon=100, gamma=1e-07, kernel=rbf, score=-0.000, total=   0.0s\n",
      "[CV] C=0.0001, epsilon=100, gamma=1e-08, kernel=rbf ..................\n",
      "[CV]  C=0.0001, epsilon=100, gamma=1e-08, kernel=rbf, score=-1.161, total=   0.0s\n",
      "[CV] C=0.0001, epsilon=100, gamma=1e-08, kernel=rbf ..................\n",
      "[CV]  C=0.0001, epsilon=100, gamma=1e-08, kernel=rbf, score=-0.627, total=   0.0s\n",
      "[CV] C=0.0001, epsilon=100, gamma=1e-08, kernel=rbf ..................\n",
      "[CV]  C=0.0001, epsilon=100, gamma=1e-08, kernel=rbf, score=-0.000, total=   0.0s\n",
      "[CV] C=0.0001, epsilon=1000, gamma=1, kernel=rbf .....................\n",
      "[CV]  C=0.0001, epsilon=1000, gamma=1, kernel=rbf, score=-1.161, total=   0.0s\n",
      "[CV] C=0.0001, epsilon=1000, gamma=1, kernel=rbf .....................\n",
      "[CV]  C=0.0001, epsilon=1000, gamma=1, kernel=rbf, score=-0.627, total=   0.0s\n",
      "[CV] C=0.0001, epsilon=1000, gamma=1, kernel=rbf .....................\n",
      "[CV]  C=0.0001, epsilon=1000, gamma=1, kernel=rbf, score=-0.000, total=   0.0s\n",
      "[CV] C=0.0001, epsilon=1000, gamma=0.1, kernel=rbf ...................\n",
      "[CV]  C=0.0001, epsilon=1000, gamma=0.1, kernel=rbf, score=-1.161, total=   0.0s\n",
      "[CV] C=0.0001, epsilon=1000, gamma=0.1, kernel=rbf ...................\n",
      "[CV]  C=0.0001, epsilon=1000, gamma=0.1, kernel=rbf, score=-0.627, total=   0.0s\n",
      "[CV] C=0.0001, epsilon=1000, gamma=0.1, kernel=rbf ...................\n"
     ]
    },
    {
     "name": "stdout",
     "output_type": "stream",
     "text": [
      "[CV]  C=0.0001, epsilon=1000, gamma=0.1, kernel=rbf, score=-0.000, total=   0.0s\n",
      "[CV] C=0.0001, epsilon=1000, gamma=0.01, kernel=rbf ..................\n",
      "[CV]  C=0.0001, epsilon=1000, gamma=0.01, kernel=rbf, score=-1.161, total=   0.0s\n",
      "[CV] C=0.0001, epsilon=1000, gamma=0.01, kernel=rbf ..................\n",
      "[CV]  C=0.0001, epsilon=1000, gamma=0.01, kernel=rbf, score=-0.627, total=   0.0s\n",
      "[CV] C=0.0001, epsilon=1000, gamma=0.01, kernel=rbf ..................\n",
      "[CV]  C=0.0001, epsilon=1000, gamma=0.01, kernel=rbf, score=-0.000, total=   0.0s\n",
      "[CV] C=0.0001, epsilon=1000, gamma=0.001, kernel=rbf .................\n",
      "[CV]  C=0.0001, epsilon=1000, gamma=0.001, kernel=rbf, score=-1.161, total=   0.0s\n",
      "[CV] C=0.0001, epsilon=1000, gamma=0.001, kernel=rbf .................\n",
      "[CV]  C=0.0001, epsilon=1000, gamma=0.001, kernel=rbf, score=-0.627, total=   0.0s\n",
      "[CV] C=0.0001, epsilon=1000, gamma=0.001, kernel=rbf .................\n",
      "[CV]  C=0.0001, epsilon=1000, gamma=0.001, kernel=rbf, score=-0.000, total=   0.0s\n",
      "[CV] C=0.0001, epsilon=1000, gamma=0.0001, kernel=rbf ................\n",
      "[CV]  C=0.0001, epsilon=1000, gamma=0.0001, kernel=rbf, score=-1.161, total=   0.0s\n",
      "[CV] C=0.0001, epsilon=1000, gamma=0.0001, kernel=rbf ................\n",
      "[CV]  C=0.0001, epsilon=1000, gamma=0.0001, kernel=rbf, score=-0.627, total=   0.0s\n",
      "[CV] C=0.0001, epsilon=1000, gamma=0.0001, kernel=rbf ................\n",
      "[CV]  C=0.0001, epsilon=1000, gamma=0.0001, kernel=rbf, score=-0.000, total=   0.0s\n",
      "[CV] C=0.0001, epsilon=1000, gamma=1e-05, kernel=rbf .................\n",
      "[CV]  C=0.0001, epsilon=1000, gamma=1e-05, kernel=rbf, score=-1.161, total=   0.0s\n",
      "[CV] C=0.0001, epsilon=1000, gamma=1e-05, kernel=rbf .................\n",
      "[CV]  C=0.0001, epsilon=1000, gamma=1e-05, kernel=rbf, score=-0.627, total=   0.0s\n",
      "[CV] C=0.0001, epsilon=1000, gamma=1e-05, kernel=rbf .................\n",
      "[CV]  C=0.0001, epsilon=1000, gamma=1e-05, kernel=rbf, score=-0.000, total=   0.0s\n",
      "[CV] C=0.0001, epsilon=1000, gamma=1e-06, kernel=rbf .................\n",
      "[CV]  C=0.0001, epsilon=1000, gamma=1e-06, kernel=rbf, score=-1.161, total=   0.0s\n",
      "[CV] C=0.0001, epsilon=1000, gamma=1e-06, kernel=rbf .................\n",
      "[CV]  C=0.0001, epsilon=1000, gamma=1e-06, kernel=rbf, score=-0.627, total=   0.0s\n",
      "[CV] C=0.0001, epsilon=1000, gamma=1e-06, kernel=rbf .................\n",
      "[CV]  C=0.0001, epsilon=1000, gamma=1e-06, kernel=rbf, score=-0.000, total=   0.0s\n",
      "[CV] C=0.0001, epsilon=1000, gamma=1e-07, kernel=rbf .................\n",
      "[CV]  C=0.0001, epsilon=1000, gamma=1e-07, kernel=rbf, score=-1.161, total=   0.0s\n",
      "[CV] C=0.0001, epsilon=1000, gamma=1e-07, kernel=rbf .................\n",
      "[CV]  C=0.0001, epsilon=1000, gamma=1e-07, kernel=rbf, score=-0.627, total=   0.0s\n",
      "[CV] C=0.0001, epsilon=1000, gamma=1e-07, kernel=rbf .................\n",
      "[CV]  C=0.0001, epsilon=1000, gamma=1e-07, kernel=rbf, score=-0.000, total=   0.0s\n",
      "[CV] C=0.0001, epsilon=1000, gamma=1e-08, kernel=rbf .................\n",
      "[CV]  C=0.0001, epsilon=1000, gamma=1e-08, kernel=rbf, score=-1.161, total=   0.0s\n",
      "[CV] C=0.0001, epsilon=1000, gamma=1e-08, kernel=rbf .................\n",
      "[CV]  C=0.0001, epsilon=1000, gamma=1e-08, kernel=rbf, score=-0.627, total=   0.0s\n",
      "[CV] C=0.0001, epsilon=1000, gamma=1e-08, kernel=rbf .................\n",
      "[CV]  C=0.0001, epsilon=1000, gamma=1e-08, kernel=rbf, score=-0.000, total=   0.0s\n",
      "[CV] C=0.001, epsilon=0.1, gamma=1, kernel=rbf .......................\n",
      "[CV]  C=0.001, epsilon=0.1, gamma=1, kernel=rbf, score=-0.068, total=   0.0s\n",
      "[CV] C=0.001, epsilon=0.1, gamma=1, kernel=rbf .......................\n",
      "[CV]  C=0.001, epsilon=0.1, gamma=1, kernel=rbf, score=-0.226, total=   0.0s\n",
      "[CV] C=0.001, epsilon=0.1, gamma=1, kernel=rbf .......................\n",
      "[CV]  C=0.001, epsilon=0.1, gamma=1, kernel=rbf, score=-0.159, total=   0.0s\n",
      "[CV] C=0.001, epsilon=0.1, gamma=0.1, kernel=rbf .....................\n",
      "[CV]  C=0.001, epsilon=0.1, gamma=0.1, kernel=rbf, score=-0.068, total=   0.0s\n",
      "[CV] C=0.001, epsilon=0.1, gamma=0.1, kernel=rbf .....................\n",
      "[CV]  C=0.001, epsilon=0.1, gamma=0.1, kernel=rbf, score=-0.226, total=   0.0s\n",
      "[CV] C=0.001, epsilon=0.1, gamma=0.1, kernel=rbf .....................\n",
      "[CV]  C=0.001, epsilon=0.1, gamma=0.1, kernel=rbf, score=-0.159, total=   0.0s\n",
      "[CV] C=0.001, epsilon=0.1, gamma=0.01, kernel=rbf ....................\n",
      "[CV]  C=0.001, epsilon=0.1, gamma=0.01, kernel=rbf, score=-0.068, total=   0.0s\n",
      "[CV] C=0.001, epsilon=0.1, gamma=0.01, kernel=rbf ....................\n",
      "[CV]  C=0.001, epsilon=0.1, gamma=0.01, kernel=rbf, score=-0.226, total=   0.0s\n",
      "[CV] C=0.001, epsilon=0.1, gamma=0.01, kernel=rbf ....................\n",
      "[CV]  C=0.001, epsilon=0.1, gamma=0.01, kernel=rbf, score=-0.159, total=   0.0s\n",
      "[CV] C=0.001, epsilon=0.1, gamma=0.001, kernel=rbf ...................\n",
      "[CV]  C=0.001, epsilon=0.1, gamma=0.001, kernel=rbf, score=-0.068, total=   0.0s\n",
      "[CV] C=0.001, epsilon=0.1, gamma=0.001, kernel=rbf ...................\n",
      "[CV]  C=0.001, epsilon=0.1, gamma=0.001, kernel=rbf, score=-0.226, total=   0.0s\n",
      "[CV] C=0.001, epsilon=0.1, gamma=0.001, kernel=rbf ...................\n",
      "[CV]  C=0.001, epsilon=0.1, gamma=0.001, kernel=rbf, score=-0.159, total=   0.0s\n",
      "[CV] C=0.001, epsilon=0.1, gamma=0.0001, kernel=rbf ..................\n",
      "[CV]  C=0.001, epsilon=0.1, gamma=0.0001, kernel=rbf, score=-0.068, total=   0.0s\n",
      "[CV] C=0.001, epsilon=0.1, gamma=0.0001, kernel=rbf ..................\n",
      "[CV]  C=0.001, epsilon=0.1, gamma=0.0001, kernel=rbf, score=-0.226, total=   0.0s\n",
      "[CV] C=0.001, epsilon=0.1, gamma=0.0001, kernel=rbf ..................\n",
      "[CV]  C=0.001, epsilon=0.1, gamma=0.0001, kernel=rbf, score=-0.159, total=   0.0s\n",
      "[CV] C=0.001, epsilon=0.1, gamma=1e-05, kernel=rbf ...................\n",
      "[CV]  C=0.001, epsilon=0.1, gamma=1e-05, kernel=rbf, score=-0.068, total=   0.0s\n",
      "[CV] C=0.001, epsilon=0.1, gamma=1e-05, kernel=rbf ...................\n",
      "[CV]  C=0.001, epsilon=0.1, gamma=1e-05, kernel=rbf, score=-0.226, total=   0.0s\n",
      "[CV] C=0.001, epsilon=0.1, gamma=1e-05, kernel=rbf ...................\n",
      "[CV]  C=0.001, epsilon=0.1, gamma=1e-05, kernel=rbf, score=-0.159, total=   0.0s\n",
      "[CV] C=0.001, epsilon=0.1, gamma=1e-06, kernel=rbf ...................\n",
      "[CV]  C=0.001, epsilon=0.1, gamma=1e-06, kernel=rbf, score=-0.068, total=   0.0s\n",
      "[CV] C=0.001, epsilon=0.1, gamma=1e-06, kernel=rbf ...................\n",
      "[CV]  C=0.001, epsilon=0.1, gamma=1e-06, kernel=rbf, score=-0.226, total=   0.0s\n",
      "[CV] C=0.001, epsilon=0.1, gamma=1e-06, kernel=rbf ...................\n",
      "[CV]  C=0.001, epsilon=0.1, gamma=1e-06, kernel=rbf, score=-0.159, total=   0.0s\n",
      "[CV] C=0.001, epsilon=0.1, gamma=1e-07, kernel=rbf ...................\n",
      "[CV]  C=0.001, epsilon=0.1, gamma=1e-07, kernel=rbf, score=-0.068, total=   0.0s\n",
      "[CV] C=0.001, epsilon=0.1, gamma=1e-07, kernel=rbf ...................\n",
      "[CV]  C=0.001, epsilon=0.1, gamma=1e-07, kernel=rbf, score=-0.226, total=   0.0s\n",
      "[CV] C=0.001, epsilon=0.1, gamma=1e-07, kernel=rbf ...................\n",
      "[CV]  C=0.001, epsilon=0.1, gamma=1e-07, kernel=rbf, score=-0.159, total=   0.0s\n",
      "[CV] C=0.001, epsilon=0.1, gamma=1e-08, kernel=rbf ...................\n",
      "[CV]  C=0.001, epsilon=0.1, gamma=1e-08, kernel=rbf, score=-0.068, total=   0.0s\n",
      "[CV] C=0.001, epsilon=0.1, gamma=1e-08, kernel=rbf ...................\n",
      "[CV]  C=0.001, epsilon=0.1, gamma=1e-08, kernel=rbf, score=-0.226, total=   0.0s\n",
      "[CV] C=0.001, epsilon=0.1, gamma=1e-08, kernel=rbf ...................\n",
      "[CV]  C=0.001, epsilon=0.1, gamma=1e-08, kernel=rbf, score=-0.159, total=   0.0s\n",
      "[CV] C=0.001, epsilon=1, gamma=1, kernel=rbf .........................\n",
      "[CV]  C=0.001, epsilon=1, gamma=1, kernel=rbf, score=-0.068, total=   0.0s\n",
      "[CV] C=0.001, epsilon=1, gamma=1, kernel=rbf .........................\n",
      "[CV]  C=0.001, epsilon=1, gamma=1, kernel=rbf, score=-0.226, total=   0.0s\n",
      "[CV] C=0.001, epsilon=1, gamma=1, kernel=rbf .........................\n",
      "[CV]  C=0.001, epsilon=1, gamma=1, kernel=rbf, score=-0.152, total=   0.0s\n",
      "[CV] C=0.001, epsilon=1, gamma=0.1, kernel=rbf .......................\n",
      "[CV]  C=0.001, epsilon=1, gamma=0.1, kernel=rbf, score=-0.068, total=   0.0s\n",
      "[CV] C=0.001, epsilon=1, gamma=0.1, kernel=rbf .......................\n",
      "[CV]  C=0.001, epsilon=1, gamma=0.1, kernel=rbf, score=-0.226, total=   0.0s\n",
      "[CV] C=0.001, epsilon=1, gamma=0.1, kernel=rbf .......................\n",
      "[CV]  C=0.001, epsilon=1, gamma=0.1, kernel=rbf, score=-0.152, total=   0.0s\n",
      "[CV] C=0.001, epsilon=1, gamma=0.01, kernel=rbf ......................\n",
      "[CV]  C=0.001, epsilon=1, gamma=0.01, kernel=rbf, score=-0.068, total=   0.0s\n",
      "[CV] C=0.001, epsilon=1, gamma=0.01, kernel=rbf ......................\n",
      "[CV]  C=0.001, epsilon=1, gamma=0.01, kernel=rbf, score=-0.226, total=   0.0s\n",
      "[CV] C=0.001, epsilon=1, gamma=0.01, kernel=rbf ......................\n",
      "[CV]  C=0.001, epsilon=1, gamma=0.01, kernel=rbf, score=-0.152, total=   0.0s\n",
      "[CV] C=0.001, epsilon=1, gamma=0.001, kernel=rbf .....................\n",
      "[CV]  C=0.001, epsilon=1, gamma=0.001, kernel=rbf, score=-0.068, total=   0.0s\n",
      "[CV] C=0.001, epsilon=1, gamma=0.001, kernel=rbf .....................\n",
      "[CV]  C=0.001, epsilon=1, gamma=0.001, kernel=rbf, score=-0.226, total=   0.0s\n",
      "[CV] C=0.001, epsilon=1, gamma=0.001, kernel=rbf .....................\n",
      "[CV]  C=0.001, epsilon=1, gamma=0.001, kernel=rbf, score=-0.152, total=   0.0s\n",
      "[CV] C=0.001, epsilon=1, gamma=0.0001, kernel=rbf ....................\n",
      "[CV]  C=0.001, epsilon=1, gamma=0.0001, kernel=rbf, score=-0.068, total=   0.0s\n",
      "[CV] C=0.001, epsilon=1, gamma=0.0001, kernel=rbf ....................\n",
      "[CV]  C=0.001, epsilon=1, gamma=0.0001, kernel=rbf, score=-0.226, total=   0.0s\n",
      "[CV] C=0.001, epsilon=1, gamma=0.0001, kernel=rbf ....................\n",
      "[CV]  C=0.001, epsilon=1, gamma=0.0001, kernel=rbf, score=-0.152, total=   0.0s\n",
      "[CV] C=0.001, epsilon=1, gamma=1e-05, kernel=rbf .....................\n",
      "[CV]  C=0.001, epsilon=1, gamma=1e-05, kernel=rbf, score=-0.068, total=   0.0s\n",
      "[CV] C=0.001, epsilon=1, gamma=1e-05, kernel=rbf .....................\n",
      "[CV]  C=0.001, epsilon=1, gamma=1e-05, kernel=rbf, score=-0.226, total=   0.0s\n",
      "[CV] C=0.001, epsilon=1, gamma=1e-05, kernel=rbf .....................\n",
      "[CV]  C=0.001, epsilon=1, gamma=1e-05, kernel=rbf, score=-0.152, total=   0.0s\n",
      "[CV] C=0.001, epsilon=1, gamma=1e-06, kernel=rbf .....................\n",
      "[CV]  C=0.001, epsilon=1, gamma=1e-06, kernel=rbf, score=-0.068, total=   0.0s\n",
      "[CV] C=0.001, epsilon=1, gamma=1e-06, kernel=rbf .....................\n",
      "[CV]  C=0.001, epsilon=1, gamma=1e-06, kernel=rbf, score=-0.226, total=   0.0s\n",
      "[CV] C=0.001, epsilon=1, gamma=1e-06, kernel=rbf .....................\n",
      "[CV]  C=0.001, epsilon=1, gamma=1e-06, kernel=rbf, score=-0.152, total=   0.0s\n",
      "[CV] C=0.001, epsilon=1, gamma=1e-07, kernel=rbf .....................\n",
      "[CV]  C=0.001, epsilon=1, gamma=1e-07, kernel=rbf, score=-0.068, total=   0.0s\n",
      "[CV] C=0.001, epsilon=1, gamma=1e-07, kernel=rbf .....................\n",
      "[CV]  C=0.001, epsilon=1, gamma=1e-07, kernel=rbf, score=-0.226, total=   0.0s\n",
      "[CV] C=0.001, epsilon=1, gamma=1e-07, kernel=rbf .....................\n",
      "[CV]  C=0.001, epsilon=1, gamma=1e-07, kernel=rbf, score=-0.152, total=   0.0s\n",
      "[CV] C=0.001, epsilon=1, gamma=1e-08, kernel=rbf .....................\n",
      "[CV]  C=0.001, epsilon=1, gamma=1e-08, kernel=rbf, score=-0.068, total=   0.0s\n",
      "[CV] C=0.001, epsilon=1, gamma=1e-08, kernel=rbf .....................\n",
      "[CV]  C=0.001, epsilon=1, gamma=1e-08, kernel=rbf, score=-0.226, total=   0.0s\n",
      "[CV] C=0.001, epsilon=1, gamma=1e-08, kernel=rbf .....................\n",
      "[CV]  C=0.001, epsilon=1, gamma=1e-08, kernel=rbf, score=-0.152, total=   0.0s\n",
      "[CV] C=0.001, epsilon=10, gamma=1, kernel=rbf ........................\n",
      "[CV]  C=0.001, epsilon=10, gamma=1, kernel=rbf, score=-0.027, total=   0.0s\n",
      "[CV] C=0.001, epsilon=10, gamma=1, kernel=rbf ........................\n",
      "[CV]  C=0.001, epsilon=10, gamma=1, kernel=rbf, score=-0.211, total=   0.0s\n",
      "[CV] C=0.001, epsilon=10, gamma=1, kernel=rbf ........................\n",
      "[CV]  C=0.001, epsilon=10, gamma=1, kernel=rbf, score=-0.127, total=   0.0s\n",
      "[CV] C=0.001, epsilon=10, gamma=0.1, kernel=rbf ......................\n",
      "[CV]  C=0.001, epsilon=10, gamma=0.1, kernel=rbf, score=-0.027, total=   0.0s\n",
      "[CV] C=0.001, epsilon=10, gamma=0.1, kernel=rbf ......................\n",
      "[CV]  C=0.001, epsilon=10, gamma=0.1, kernel=rbf, score=-0.211, total=   0.0s\n",
      "[CV] C=0.001, epsilon=10, gamma=0.1, kernel=rbf ......................\n",
      "[CV]  C=0.001, epsilon=10, gamma=0.1, kernel=rbf, score=-0.127, total=   0.0s\n",
      "[CV] C=0.001, epsilon=10, gamma=0.01, kernel=rbf .....................\n",
      "[CV]  C=0.001, epsilon=10, gamma=0.01, kernel=rbf, score=-0.027, total=   0.0s\n",
      "[CV] C=0.001, epsilon=10, gamma=0.01, kernel=rbf .....................\n",
      "[CV]  C=0.001, epsilon=10, gamma=0.01, kernel=rbf, score=-0.211, total=   0.0s\n",
      "[CV] C=0.001, epsilon=10, gamma=0.01, kernel=rbf .....................\n",
      "[CV]  C=0.001, epsilon=10, gamma=0.01, kernel=rbf, score=-0.127, total=   0.0s\n",
      "[CV] C=0.001, epsilon=10, gamma=0.001, kernel=rbf ....................\n",
      "[CV]  C=0.001, epsilon=10, gamma=0.001, kernel=rbf, score=-0.027, total=   0.0s\n",
      "[CV] C=0.001, epsilon=10, gamma=0.001, kernel=rbf ....................\n",
      "[CV]  C=0.001, epsilon=10, gamma=0.001, kernel=rbf, score=-0.211, total=   0.0s\n",
      "[CV] C=0.001, epsilon=10, gamma=0.001, kernel=rbf ....................\n",
      "[CV]  C=0.001, epsilon=10, gamma=0.001, kernel=rbf, score=-0.127, total=   0.0s\n",
      "[CV] C=0.001, epsilon=10, gamma=0.0001, kernel=rbf ...................\n",
      "[CV]  C=0.001, epsilon=10, gamma=0.0001, kernel=rbf, score=-0.027, total=   0.0s\n",
      "[CV] C=0.001, epsilon=10, gamma=0.0001, kernel=rbf ...................\n",
      "[CV]  C=0.001, epsilon=10, gamma=0.0001, kernel=rbf, score=-0.211, total=   0.0s\n",
      "[CV] C=0.001, epsilon=10, gamma=0.0001, kernel=rbf ...................\n",
      "[CV]  C=0.001, epsilon=10, gamma=0.0001, kernel=rbf, score=-0.127, total=   0.0s\n",
      "[CV] C=0.001, epsilon=10, gamma=1e-05, kernel=rbf ....................\n",
      "[CV]  C=0.001, epsilon=10, gamma=1e-05, kernel=rbf, score=-0.027, total=   0.0s\n",
      "[CV] C=0.001, epsilon=10, gamma=1e-05, kernel=rbf ....................\n",
      "[CV]  C=0.001, epsilon=10, gamma=1e-05, kernel=rbf, score=-0.211, total=   0.0s\n",
      "[CV] C=0.001, epsilon=10, gamma=1e-05, kernel=rbf ....................\n",
      "[CV]  C=0.001, epsilon=10, gamma=1e-05, kernel=rbf, score=-0.127, total=   0.0s\n",
      "[CV] C=0.001, epsilon=10, gamma=1e-06, kernel=rbf ....................\n",
      "[CV]  C=0.001, epsilon=10, gamma=1e-06, kernel=rbf, score=-0.027, total=   0.0s\n",
      "[CV] C=0.001, epsilon=10, gamma=1e-06, kernel=rbf ....................\n",
      "[CV]  C=0.001, epsilon=10, gamma=1e-06, kernel=rbf, score=-0.211, total=   0.0s\n",
      "[CV] C=0.001, epsilon=10, gamma=1e-06, kernel=rbf ....................\n",
      "[CV]  C=0.001, epsilon=10, gamma=1e-06, kernel=rbf, score=-0.127, total=   0.0s\n",
      "[CV] C=0.001, epsilon=10, gamma=1e-07, kernel=rbf ....................\n",
      "[CV]  C=0.001, epsilon=10, gamma=1e-07, kernel=rbf, score=-0.027, total=   0.0s\n",
      "[CV] C=0.001, epsilon=10, gamma=1e-07, kernel=rbf ....................\n",
      "[CV]  C=0.001, epsilon=10, gamma=1e-07, kernel=rbf, score=-0.211, total=   0.0s\n",
      "[CV] C=0.001, epsilon=10, gamma=1e-07, kernel=rbf ....................\n",
      "[CV]  C=0.001, epsilon=10, gamma=1e-07, kernel=rbf, score=-0.127, total=   0.0s\n",
      "[CV] C=0.001, epsilon=10, gamma=1e-08, kernel=rbf ....................\n",
      "[CV]  C=0.001, epsilon=10, gamma=1e-08, kernel=rbf, score=-0.027, total=   0.0s\n",
      "[CV] C=0.001, epsilon=10, gamma=1e-08, kernel=rbf ....................\n",
      "[CV]  C=0.001, epsilon=10, gamma=1e-08, kernel=rbf, score=-0.211, total=   0.0s\n",
      "[CV] C=0.001, epsilon=10, gamma=1e-08, kernel=rbf ....................\n",
      "[CV]  C=0.001, epsilon=10, gamma=1e-08, kernel=rbf, score=-0.127, total=   0.0s\n",
      "[CV] C=0.001, epsilon=100, gamma=1, kernel=rbf .......................\n",
      "[CV]  C=0.001, epsilon=100, gamma=1, kernel=rbf, score=-1.161, total=   0.0s\n",
      "[CV] C=0.001, epsilon=100, gamma=1, kernel=rbf .......................\n",
      "[CV]  C=0.001, epsilon=100, gamma=1, kernel=rbf, score=-0.627, total=   0.0s\n",
      "[CV] C=0.001, epsilon=100, gamma=1, kernel=rbf .......................\n",
      "[CV]  C=0.001, epsilon=100, gamma=1, kernel=rbf, score=-0.000, total=   0.0s\n",
      "[CV] C=0.001, epsilon=100, gamma=0.1, kernel=rbf .....................\n",
      "[CV]  C=0.001, epsilon=100, gamma=0.1, kernel=rbf, score=-1.161, total=   0.0s\n",
      "[CV] C=0.001, epsilon=100, gamma=0.1, kernel=rbf .....................\n",
      "[CV]  C=0.001, epsilon=100, gamma=0.1, kernel=rbf, score=-0.627, total=   0.0s\n",
      "[CV] C=0.001, epsilon=100, gamma=0.1, kernel=rbf .....................\n",
      "[CV]  C=0.001, epsilon=100, gamma=0.1, kernel=rbf, score=-0.000, total=   0.0s\n",
      "[CV] C=0.001, epsilon=100, gamma=0.01, kernel=rbf ....................\n"
     ]
    },
    {
     "name": "stdout",
     "output_type": "stream",
     "text": [
      "[CV]  C=0.001, epsilon=100, gamma=0.01, kernel=rbf, score=-1.161, total=   0.0s\n",
      "[CV] C=0.001, epsilon=100, gamma=0.01, kernel=rbf ....................\n",
      "[CV]  C=0.001, epsilon=100, gamma=0.01, kernel=rbf, score=-0.627, total=   0.0s\n",
      "[CV] C=0.001, epsilon=100, gamma=0.01, kernel=rbf ....................\n",
      "[CV]  C=0.001, epsilon=100, gamma=0.01, kernel=rbf, score=-0.000, total=   0.0s\n",
      "[CV] C=0.001, epsilon=100, gamma=0.001, kernel=rbf ...................\n",
      "[CV]  C=0.001, epsilon=100, gamma=0.001, kernel=rbf, score=-1.161, total=   0.0s\n",
      "[CV] C=0.001, epsilon=100, gamma=0.001, kernel=rbf ...................\n",
      "[CV]  C=0.001, epsilon=100, gamma=0.001, kernel=rbf, score=-0.627, total=   0.0s\n",
      "[CV] C=0.001, epsilon=100, gamma=0.001, kernel=rbf ...................\n",
      "[CV]  C=0.001, epsilon=100, gamma=0.001, kernel=rbf, score=-0.000, total=   0.0s\n",
      "[CV] C=0.001, epsilon=100, gamma=0.0001, kernel=rbf ..................\n",
      "[CV]  C=0.001, epsilon=100, gamma=0.0001, kernel=rbf, score=-1.161, total=   0.0s\n",
      "[CV] C=0.001, epsilon=100, gamma=0.0001, kernel=rbf ..................\n",
      "[CV]  C=0.001, epsilon=100, gamma=0.0001, kernel=rbf, score=-0.627, total=   0.0s\n",
      "[CV] C=0.001, epsilon=100, gamma=0.0001, kernel=rbf ..................\n",
      "[CV]  C=0.001, epsilon=100, gamma=0.0001, kernel=rbf, score=-0.000, total=   0.0s\n",
      "[CV] C=0.001, epsilon=100, gamma=1e-05, kernel=rbf ...................\n",
      "[CV]  C=0.001, epsilon=100, gamma=1e-05, kernel=rbf, score=-1.161, total=   0.0s\n",
      "[CV] C=0.001, epsilon=100, gamma=1e-05, kernel=rbf ...................\n",
      "[CV]  C=0.001, epsilon=100, gamma=1e-05, kernel=rbf, score=-0.627, total=   0.0s\n",
      "[CV] C=0.001, epsilon=100, gamma=1e-05, kernel=rbf ...................\n",
      "[CV]  C=0.001, epsilon=100, gamma=1e-05, kernel=rbf, score=-0.000, total=   0.0s\n",
      "[CV] C=0.001, epsilon=100, gamma=1e-06, kernel=rbf ...................\n",
      "[CV]  C=0.001, epsilon=100, gamma=1e-06, kernel=rbf, score=-1.161, total=   0.0s\n",
      "[CV] C=0.001, epsilon=100, gamma=1e-06, kernel=rbf ...................\n",
      "[CV]  C=0.001, epsilon=100, gamma=1e-06, kernel=rbf, score=-0.627, total=   0.0s\n",
      "[CV] C=0.001, epsilon=100, gamma=1e-06, kernel=rbf ...................\n",
      "[CV]  C=0.001, epsilon=100, gamma=1e-06, kernel=rbf, score=-0.000, total=   0.0s\n",
      "[CV] C=0.001, epsilon=100, gamma=1e-07, kernel=rbf ...................\n",
      "[CV]  C=0.001, epsilon=100, gamma=1e-07, kernel=rbf, score=-1.161, total=   0.0s\n",
      "[CV] C=0.001, epsilon=100, gamma=1e-07, kernel=rbf ...................\n",
      "[CV]  C=0.001, epsilon=100, gamma=1e-07, kernel=rbf, score=-0.627, total=   0.0s\n",
      "[CV] C=0.001, epsilon=100, gamma=1e-07, kernel=rbf ...................\n",
      "[CV]  C=0.001, epsilon=100, gamma=1e-07, kernel=rbf, score=-0.000, total=   0.0s\n",
      "[CV] C=0.001, epsilon=100, gamma=1e-08, kernel=rbf ...................\n",
      "[CV]  C=0.001, epsilon=100, gamma=1e-08, kernel=rbf, score=-1.161, total=   0.0s\n",
      "[CV] C=0.001, epsilon=100, gamma=1e-08, kernel=rbf ...................\n",
      "[CV]  C=0.001, epsilon=100, gamma=1e-08, kernel=rbf, score=-0.627, total=   0.0s\n",
      "[CV] C=0.001, epsilon=100, gamma=1e-08, kernel=rbf ...................\n",
      "[CV]  C=0.001, epsilon=100, gamma=1e-08, kernel=rbf, score=-0.000, total=   0.0s\n",
      "[CV] C=0.001, epsilon=1000, gamma=1, kernel=rbf ......................\n",
      "[CV]  C=0.001, epsilon=1000, gamma=1, kernel=rbf, score=-1.161, total=   0.0s\n",
      "[CV] C=0.001, epsilon=1000, gamma=1, kernel=rbf ......................\n",
      "[CV]  C=0.001, epsilon=1000, gamma=1, kernel=rbf, score=-0.627, total=   0.0s\n",
      "[CV] C=0.001, epsilon=1000, gamma=1, kernel=rbf ......................\n",
      "[CV]  C=0.001, epsilon=1000, gamma=1, kernel=rbf, score=-0.000, total=   0.0s\n",
      "[CV] C=0.001, epsilon=1000, gamma=0.1, kernel=rbf ....................\n",
      "[CV]  C=0.001, epsilon=1000, gamma=0.1, kernel=rbf, score=-1.161, total=   0.0s\n",
      "[CV] C=0.001, epsilon=1000, gamma=0.1, kernel=rbf ....................\n",
      "[CV]  C=0.001, epsilon=1000, gamma=0.1, kernel=rbf, score=-0.627, total=   0.0s\n",
      "[CV] C=0.001, epsilon=1000, gamma=0.1, kernel=rbf ....................\n",
      "[CV]  C=0.001, epsilon=1000, gamma=0.1, kernel=rbf, score=-0.000, total=   0.0s\n",
      "[CV] C=0.001, epsilon=1000, gamma=0.01, kernel=rbf ...................\n",
      "[CV]  C=0.001, epsilon=1000, gamma=0.01, kernel=rbf, score=-1.161, total=   0.0s\n",
      "[CV] C=0.001, epsilon=1000, gamma=0.01, kernel=rbf ...................\n",
      "[CV]  C=0.001, epsilon=1000, gamma=0.01, kernel=rbf, score=-0.627, total=   0.0s\n",
      "[CV] C=0.001, epsilon=1000, gamma=0.01, kernel=rbf ...................\n",
      "[CV]  C=0.001, epsilon=1000, gamma=0.01, kernel=rbf, score=-0.000, total=   0.0s\n",
      "[CV] C=0.001, epsilon=1000, gamma=0.001, kernel=rbf ..................\n",
      "[CV]  C=0.001, epsilon=1000, gamma=0.001, kernel=rbf, score=-1.161, total=   0.0s\n",
      "[CV] C=0.001, epsilon=1000, gamma=0.001, kernel=rbf ..................\n",
      "[CV]  C=0.001, epsilon=1000, gamma=0.001, kernel=rbf, score=-0.627, total=   0.0s\n",
      "[CV] C=0.001, epsilon=1000, gamma=0.001, kernel=rbf ..................\n",
      "[CV]  C=0.001, epsilon=1000, gamma=0.001, kernel=rbf, score=-0.000, total=   0.0s\n",
      "[CV] C=0.001, epsilon=1000, gamma=0.0001, kernel=rbf .................\n",
      "[CV]  C=0.001, epsilon=1000, gamma=0.0001, kernel=rbf, score=-1.161, total=   0.0s\n",
      "[CV] C=0.001, epsilon=1000, gamma=0.0001, kernel=rbf .................\n",
      "[CV]  C=0.001, epsilon=1000, gamma=0.0001, kernel=rbf, score=-0.627, total=   0.0s\n",
      "[CV] C=0.001, epsilon=1000, gamma=0.0001, kernel=rbf .................\n",
      "[CV]  C=0.001, epsilon=1000, gamma=0.0001, kernel=rbf, score=-0.000, total=   0.0s\n",
      "[CV] C=0.001, epsilon=1000, gamma=1e-05, kernel=rbf ..................\n",
      "[CV]  C=0.001, epsilon=1000, gamma=1e-05, kernel=rbf, score=-1.161, total=   0.0s\n",
      "[CV] C=0.001, epsilon=1000, gamma=1e-05, kernel=rbf ..................\n",
      "[CV]  C=0.001, epsilon=1000, gamma=1e-05, kernel=rbf, score=-0.627, total=   0.0s\n",
      "[CV] C=0.001, epsilon=1000, gamma=1e-05, kernel=rbf ..................\n",
      "[CV]  C=0.001, epsilon=1000, gamma=1e-05, kernel=rbf, score=-0.000, total=   0.0s\n",
      "[CV] C=0.001, epsilon=1000, gamma=1e-06, kernel=rbf ..................\n",
      "[CV]  C=0.001, epsilon=1000, gamma=1e-06, kernel=rbf, score=-1.161, total=   0.0s\n",
      "[CV] C=0.001, epsilon=1000, gamma=1e-06, kernel=rbf ..................\n",
      "[CV]  C=0.001, epsilon=1000, gamma=1e-06, kernel=rbf, score=-0.627, total=   0.0s\n",
      "[CV] C=0.001, epsilon=1000, gamma=1e-06, kernel=rbf ..................\n",
      "[CV]  C=0.001, epsilon=1000, gamma=1e-06, kernel=rbf, score=-0.000, total=   0.0s\n",
      "[CV] C=0.001, epsilon=1000, gamma=1e-07, kernel=rbf ..................\n",
      "[CV]  C=0.001, epsilon=1000, gamma=1e-07, kernel=rbf, score=-1.161, total=   0.0s\n",
      "[CV] C=0.001, epsilon=1000, gamma=1e-07, kernel=rbf ..................\n",
      "[CV]  C=0.001, epsilon=1000, gamma=1e-07, kernel=rbf, score=-0.627, total=   0.0s\n",
      "[CV] C=0.001, epsilon=1000, gamma=1e-07, kernel=rbf ..................\n",
      "[CV]  C=0.001, epsilon=1000, gamma=1e-07, kernel=rbf, score=-0.000, total=   0.0s\n",
      "[CV] C=0.001, epsilon=1000, gamma=1e-08, kernel=rbf ..................\n",
      "[CV]  C=0.001, epsilon=1000, gamma=1e-08, kernel=rbf, score=-1.161, total=   0.0s\n",
      "[CV] C=0.001, epsilon=1000, gamma=1e-08, kernel=rbf ..................\n",
      "[CV]  C=0.001, epsilon=1000, gamma=1e-08, kernel=rbf, score=-0.627, total=   0.0s\n",
      "[CV] C=0.001, epsilon=1000, gamma=1e-08, kernel=rbf ..................\n",
      "[CV]  C=0.001, epsilon=1000, gamma=1e-08, kernel=rbf, score=-0.000, total=   0.0s\n",
      "[CV] C=0.01, epsilon=0.1, gamma=1, kernel=rbf ........................\n",
      "[CV]  C=0.01, epsilon=0.1, gamma=1, kernel=rbf, score=-0.068, total=   0.0s\n",
      "[CV] C=0.01, epsilon=0.1, gamma=1, kernel=rbf ........................\n",
      "[CV]  C=0.01, epsilon=0.1, gamma=1, kernel=rbf, score=-0.226, total=   0.0s\n",
      "[CV] C=0.01, epsilon=0.1, gamma=1, kernel=rbf ........................\n",
      "[CV]  C=0.01, epsilon=0.1, gamma=1, kernel=rbf, score=-0.159, total=   0.0s\n",
      "[CV] C=0.01, epsilon=0.1, gamma=0.1, kernel=rbf ......................\n",
      "[CV]  C=0.01, epsilon=0.1, gamma=0.1, kernel=rbf, score=-0.068, total=   0.0s\n",
      "[CV] C=0.01, epsilon=0.1, gamma=0.1, kernel=rbf ......................\n",
      "[CV]  C=0.01, epsilon=0.1, gamma=0.1, kernel=rbf, score=-0.226, total=   0.0s\n",
      "[CV] C=0.01, epsilon=0.1, gamma=0.1, kernel=rbf ......................\n",
      "[CV]  C=0.01, epsilon=0.1, gamma=0.1, kernel=rbf, score=-0.159, total=   0.0s\n",
      "[CV] C=0.01, epsilon=0.1, gamma=0.01, kernel=rbf .....................\n",
      "[CV]  C=0.01, epsilon=0.1, gamma=0.01, kernel=rbf, score=-0.068, total=   0.0s\n",
      "[CV] C=0.01, epsilon=0.1, gamma=0.01, kernel=rbf .....................\n",
      "[CV]  C=0.01, epsilon=0.1, gamma=0.01, kernel=rbf, score=-0.227, total=   0.0s\n",
      "[CV] C=0.01, epsilon=0.1, gamma=0.01, kernel=rbf .....................\n",
      "[CV]  C=0.01, epsilon=0.1, gamma=0.01, kernel=rbf, score=-0.159, total=   0.0s\n",
      "[CV] C=0.01, epsilon=0.1, gamma=0.001, kernel=rbf ....................\n",
      "[CV]  C=0.01, epsilon=0.1, gamma=0.001, kernel=rbf, score=-0.068, total=   0.0s\n"
     ]
    },
    {
     "name": "stdout",
     "output_type": "stream",
     "text": [
      "[CV] C=0.01, epsilon=0.1, gamma=0.001, kernel=rbf ....................\n",
      "[CV]  C=0.01, epsilon=0.1, gamma=0.001, kernel=rbf, score=-0.226, total=   0.0s\n",
      "[CV] C=0.01, epsilon=0.1, gamma=0.001, kernel=rbf ....................\n",
      "[CV]  C=0.01, epsilon=0.1, gamma=0.001, kernel=rbf, score=-0.159, total=   0.0s\n",
      "[CV] C=0.01, epsilon=0.1, gamma=0.0001, kernel=rbf ...................\n",
      "[CV]  C=0.01, epsilon=0.1, gamma=0.0001, kernel=rbf, score=-0.068, total=   0.0s\n",
      "[CV] C=0.01, epsilon=0.1, gamma=0.0001, kernel=rbf ...................\n",
      "[CV]  C=0.01, epsilon=0.1, gamma=0.0001, kernel=rbf, score=-0.226, total=   0.0s\n",
      "[CV] C=0.01, epsilon=0.1, gamma=0.0001, kernel=rbf ...................\n",
      "[CV]  C=0.01, epsilon=0.1, gamma=0.0001, kernel=rbf, score=-0.159, total=   0.0s\n",
      "[CV] C=0.01, epsilon=0.1, gamma=1e-05, kernel=rbf ....................\n",
      "[CV]  C=0.01, epsilon=0.1, gamma=1e-05, kernel=rbf, score=-0.068, total=   0.0s\n",
      "[CV] C=0.01, epsilon=0.1, gamma=1e-05, kernel=rbf ....................\n",
      "[CV]  C=0.01, epsilon=0.1, gamma=1e-05, kernel=rbf, score=-0.226, total=   0.0s\n",
      "[CV] C=0.01, epsilon=0.1, gamma=1e-05, kernel=rbf ....................\n",
      "[CV]  C=0.01, epsilon=0.1, gamma=1e-05, kernel=rbf, score=-0.159, total=   0.0s\n",
      "[CV] C=0.01, epsilon=0.1, gamma=1e-06, kernel=rbf ....................\n",
      "[CV]  C=0.01, epsilon=0.1, gamma=1e-06, kernel=rbf, score=-0.068, total=   0.0s\n",
      "[CV] C=0.01, epsilon=0.1, gamma=1e-06, kernel=rbf ....................\n",
      "[CV]  C=0.01, epsilon=0.1, gamma=1e-06, kernel=rbf, score=-0.226, total=   0.0s\n",
      "[CV] C=0.01, epsilon=0.1, gamma=1e-06, kernel=rbf ....................\n",
      "[CV]  C=0.01, epsilon=0.1, gamma=1e-06, kernel=rbf, score=-0.159, total=   0.0s\n",
      "[CV] C=0.01, epsilon=0.1, gamma=1e-07, kernel=rbf ....................\n",
      "[CV]  C=0.01, epsilon=0.1, gamma=1e-07, kernel=rbf, score=-0.068, total=   0.0s\n",
      "[CV] C=0.01, epsilon=0.1, gamma=1e-07, kernel=rbf ....................\n",
      "[CV]  C=0.01, epsilon=0.1, gamma=1e-07, kernel=rbf, score=-0.226, total=   0.0s\n",
      "[CV] C=0.01, epsilon=0.1, gamma=1e-07, kernel=rbf ....................\n",
      "[CV]  C=0.01, epsilon=0.1, gamma=1e-07, kernel=rbf, score=-0.159, total=   0.0s\n",
      "[CV] C=0.01, epsilon=0.1, gamma=1e-08, kernel=rbf ....................\n",
      "[CV]  C=0.01, epsilon=0.1, gamma=1e-08, kernel=rbf, score=-0.068, total=   0.0s\n",
      "[CV] C=0.01, epsilon=0.1, gamma=1e-08, kernel=rbf ....................\n",
      "[CV]  C=0.01, epsilon=0.1, gamma=1e-08, kernel=rbf, score=-0.226, total=   0.0s\n",
      "[CV] C=0.01, epsilon=0.1, gamma=1e-08, kernel=rbf ....................\n",
      "[CV]  C=0.01, epsilon=0.1, gamma=1e-08, kernel=rbf, score=-0.159, total=   0.0s\n",
      "[CV] C=0.01, epsilon=1, gamma=1, kernel=rbf ..........................\n",
      "[CV]  C=0.01, epsilon=1, gamma=1, kernel=rbf, score=-0.068, total=   0.0s\n",
      "[CV] C=0.01, epsilon=1, gamma=1, kernel=rbf ..........................\n",
      "[CV]  C=0.01, epsilon=1, gamma=1, kernel=rbf, score=-0.226, total=   0.0s\n",
      "[CV] C=0.01, epsilon=1, gamma=1, kernel=rbf ..........................\n",
      "[CV]  C=0.01, epsilon=1, gamma=1, kernel=rbf, score=-0.152, total=   0.0s\n",
      "[CV] C=0.01, epsilon=1, gamma=0.1, kernel=rbf ........................\n",
      "[CV]  C=0.01, epsilon=1, gamma=0.1, kernel=rbf, score=-0.068, total=   0.0s\n",
      "[CV] C=0.01, epsilon=1, gamma=0.1, kernel=rbf ........................\n",
      "[CV]  C=0.01, epsilon=1, gamma=0.1, kernel=rbf, score=-0.227, total=   0.0s\n",
      "[CV] C=0.01, epsilon=1, gamma=0.1, kernel=rbf ........................\n",
      "[CV]  C=0.01, epsilon=1, gamma=0.1, kernel=rbf, score=-0.152, total=   0.0s\n",
      "[CV] C=0.01, epsilon=1, gamma=0.01, kernel=rbf .......................\n",
      "[CV]  C=0.01, epsilon=1, gamma=0.01, kernel=rbf, score=-0.068, total=   0.0s\n",
      "[CV] C=0.01, epsilon=1, gamma=0.01, kernel=rbf .......................\n",
      "[CV]  C=0.01, epsilon=1, gamma=0.01, kernel=rbf, score=-0.227, total=   0.0s\n",
      "[CV] C=0.01, epsilon=1, gamma=0.01, kernel=rbf .......................\n",
      "[CV]  C=0.01, epsilon=1, gamma=0.01, kernel=rbf, score=-0.152, total=   0.0s\n",
      "[CV] C=0.01, epsilon=1, gamma=0.001, kernel=rbf ......................\n",
      "[CV]  C=0.01, epsilon=1, gamma=0.001, kernel=rbf, score=-0.068, total=   0.0s\n",
      "[CV] C=0.01, epsilon=1, gamma=0.001, kernel=rbf ......................\n",
      "[CV]  C=0.01, epsilon=1, gamma=0.001, kernel=rbf, score=-0.226, total=   0.0s\n",
      "[CV] C=0.01, epsilon=1, gamma=0.001, kernel=rbf ......................\n",
      "[CV]  C=0.01, epsilon=1, gamma=0.001, kernel=rbf, score=-0.152, total=   0.0s\n",
      "[CV] C=0.01, epsilon=1, gamma=0.0001, kernel=rbf .....................\n",
      "[CV]  C=0.01, epsilon=1, gamma=0.0001, kernel=rbf, score=-0.068, total=   0.0s\n",
      "[CV] C=0.01, epsilon=1, gamma=0.0001, kernel=rbf .....................\n",
      "[CV]  C=0.01, epsilon=1, gamma=0.0001, kernel=rbf, score=-0.226, total=   0.0s\n",
      "[CV] C=0.01, epsilon=1, gamma=0.0001, kernel=rbf .....................\n",
      "[CV]  C=0.01, epsilon=1, gamma=0.0001, kernel=rbf, score=-0.152, total=   0.0s\n",
      "[CV] C=0.01, epsilon=1, gamma=1e-05, kernel=rbf ......................\n",
      "[CV]  C=0.01, epsilon=1, gamma=1e-05, kernel=rbf, score=-0.068, total=   0.0s\n",
      "[CV] C=0.01, epsilon=1, gamma=1e-05, kernel=rbf ......................\n",
      "[CV]  C=0.01, epsilon=1, gamma=1e-05, kernel=rbf, score=-0.226, total=   0.0s\n",
      "[CV] C=0.01, epsilon=1, gamma=1e-05, kernel=rbf ......................\n",
      "[CV]  C=0.01, epsilon=1, gamma=1e-05, kernel=rbf, score=-0.152, total=   0.0s\n",
      "[CV] C=0.01, epsilon=1, gamma=1e-06, kernel=rbf ......................\n",
      "[CV]  C=0.01, epsilon=1, gamma=1e-06, kernel=rbf, score=-0.068, total=   0.0s\n",
      "[CV] C=0.01, epsilon=1, gamma=1e-06, kernel=rbf ......................\n",
      "[CV]  C=0.01, epsilon=1, gamma=1e-06, kernel=rbf, score=-0.226, total=   0.0s\n",
      "[CV] C=0.01, epsilon=1, gamma=1e-06, kernel=rbf ......................\n",
      "[CV]  C=0.01, epsilon=1, gamma=1e-06, kernel=rbf, score=-0.152, total=   0.0s\n",
      "[CV] C=0.01, epsilon=1, gamma=1e-07, kernel=rbf ......................\n",
      "[CV]  C=0.01, epsilon=1, gamma=1e-07, kernel=rbf, score=-0.068, total=   0.0s\n",
      "[CV] C=0.01, epsilon=1, gamma=1e-07, kernel=rbf ......................\n",
      "[CV]  C=0.01, epsilon=1, gamma=1e-07, kernel=rbf, score=-0.226, total=   0.0s\n",
      "[CV] C=0.01, epsilon=1, gamma=1e-07, kernel=rbf ......................\n",
      "[CV]  C=0.01, epsilon=1, gamma=1e-07, kernel=rbf, score=-0.152, total=   0.0s\n",
      "[CV] C=0.01, epsilon=1, gamma=1e-08, kernel=rbf ......................\n",
      "[CV]  C=0.01, epsilon=1, gamma=1e-08, kernel=rbf, score=-0.068, total=   0.0s\n",
      "[CV] C=0.01, epsilon=1, gamma=1e-08, kernel=rbf ......................\n",
      "[CV]  C=0.01, epsilon=1, gamma=1e-08, kernel=rbf, score=-0.226, total=   0.0s\n",
      "[CV] C=0.01, epsilon=1, gamma=1e-08, kernel=rbf ......................\n",
      "[CV]  C=0.01, epsilon=1, gamma=1e-08, kernel=rbf, score=-0.152, total=   0.0s\n",
      "[CV] C=0.01, epsilon=10, gamma=1, kernel=rbf .........................\n",
      "[CV]  C=0.01, epsilon=10, gamma=1, kernel=rbf, score=-0.027, total=   0.0s\n",
      "[CV] C=0.01, epsilon=10, gamma=1, kernel=rbf .........................\n",
      "[CV]  C=0.01, epsilon=10, gamma=1, kernel=rbf, score=-0.211, total=   0.0s\n",
      "[CV] C=0.01, epsilon=10, gamma=1, kernel=rbf .........................\n",
      "[CV]  C=0.01, epsilon=10, gamma=1, kernel=rbf, score=-0.127, total=   0.0s\n",
      "[CV] C=0.01, epsilon=10, gamma=0.1, kernel=rbf .......................\n",
      "[CV]  C=0.01, epsilon=10, gamma=0.1, kernel=rbf, score=-0.027, total=   0.0s\n",
      "[CV] C=0.01, epsilon=10, gamma=0.1, kernel=rbf .......................\n",
      "[CV]  C=0.01, epsilon=10, gamma=0.1, kernel=rbf, score=-0.211, total=   0.0s\n",
      "[CV] C=0.01, epsilon=10, gamma=0.1, kernel=rbf .......................\n",
      "[CV]  C=0.01, epsilon=10, gamma=0.1, kernel=rbf, score=-0.127, total=   0.0s\n",
      "[CV] C=0.01, epsilon=10, gamma=0.01, kernel=rbf ......................\n",
      "[CV]  C=0.01, epsilon=10, gamma=0.01, kernel=rbf, score=-0.027, total=   0.0s\n",
      "[CV] C=0.01, epsilon=10, gamma=0.01, kernel=rbf ......................\n",
      "[CV]  C=0.01, epsilon=10, gamma=0.01, kernel=rbf, score=-0.211, total=   0.0s\n",
      "[CV] C=0.01, epsilon=10, gamma=0.01, kernel=rbf ......................\n",
      "[CV]  C=0.01, epsilon=10, gamma=0.01, kernel=rbf, score=-0.127, total=   0.0s\n",
      "[CV] C=0.01, epsilon=10, gamma=0.001, kernel=rbf .....................\n",
      "[CV]  C=0.01, epsilon=10, gamma=0.001, kernel=rbf, score=-0.027, total=   0.0s\n",
      "[CV] C=0.01, epsilon=10, gamma=0.001, kernel=rbf .....................\n",
      "[CV]  C=0.01, epsilon=10, gamma=0.001, kernel=rbf, score=-0.211, total=   0.0s\n",
      "[CV] C=0.01, epsilon=10, gamma=0.001, kernel=rbf .....................\n",
      "[CV]  C=0.01, epsilon=10, gamma=0.001, kernel=rbf, score=-0.127, total=   0.0s\n",
      "[CV] C=0.01, epsilon=10, gamma=0.0001, kernel=rbf ....................\n",
      "[CV]  C=0.01, epsilon=10, gamma=0.0001, kernel=rbf, score=-0.027, total=   0.0s\n",
      "[CV] C=0.01, epsilon=10, gamma=0.0001, kernel=rbf ....................\n",
      "[CV]  C=0.01, epsilon=10, gamma=0.0001, kernel=rbf, score=-0.211, total=   0.0s\n",
      "[CV] C=0.01, epsilon=10, gamma=0.0001, kernel=rbf ....................\n"
     ]
    },
    {
     "name": "stdout",
     "output_type": "stream",
     "text": [
      "[CV]  C=0.01, epsilon=10, gamma=0.0001, kernel=rbf, score=-0.127, total=   0.0s\n",
      "[CV] C=0.01, epsilon=10, gamma=1e-05, kernel=rbf .....................\n",
      "[CV]  C=0.01, epsilon=10, gamma=1e-05, kernel=rbf, score=-0.027, total=   0.0s\n",
      "[CV] C=0.01, epsilon=10, gamma=1e-05, kernel=rbf .....................\n",
      "[CV]  C=0.01, epsilon=10, gamma=1e-05, kernel=rbf, score=-0.211, total=   0.0s\n",
      "[CV] C=0.01, epsilon=10, gamma=1e-05, kernel=rbf .....................\n",
      "[CV]  C=0.01, epsilon=10, gamma=1e-05, kernel=rbf, score=-0.127, total=   0.0s\n",
      "[CV] C=0.01, epsilon=10, gamma=1e-06, kernel=rbf .....................\n",
      "[CV]  C=0.01, epsilon=10, gamma=1e-06, kernel=rbf, score=-0.027, total=   0.0s\n",
      "[CV] C=0.01, epsilon=10, gamma=1e-06, kernel=rbf .....................\n",
      "[CV]  C=0.01, epsilon=10, gamma=1e-06, kernel=rbf, score=-0.211, total=   0.0s\n",
      "[CV] C=0.01, epsilon=10, gamma=1e-06, kernel=rbf .....................\n",
      "[CV]  C=0.01, epsilon=10, gamma=1e-06, kernel=rbf, score=-0.127, total=   0.0s\n",
      "[CV] C=0.01, epsilon=10, gamma=1e-07, kernel=rbf .....................\n",
      "[CV]  C=0.01, epsilon=10, gamma=1e-07, kernel=rbf, score=-0.027, total=   0.0s\n",
      "[CV] C=0.01, epsilon=10, gamma=1e-07, kernel=rbf .....................\n",
      "[CV]  C=0.01, epsilon=10, gamma=1e-07, kernel=rbf, score=-0.211, total=   0.0s\n",
      "[CV] C=0.01, epsilon=10, gamma=1e-07, kernel=rbf .....................\n",
      "[CV]  C=0.01, epsilon=10, gamma=1e-07, kernel=rbf, score=-0.127, total=   0.0s\n",
      "[CV] C=0.01, epsilon=10, gamma=1e-08, kernel=rbf .....................\n",
      "[CV]  C=0.01, epsilon=10, gamma=1e-08, kernel=rbf, score=-0.027, total=   0.0s\n",
      "[CV] C=0.01, epsilon=10, gamma=1e-08, kernel=rbf .....................\n",
      "[CV]  C=0.01, epsilon=10, gamma=1e-08, kernel=rbf, score=-0.211, total=   0.0s\n",
      "[CV] C=0.01, epsilon=10, gamma=1e-08, kernel=rbf .....................\n",
      "[CV]  C=0.01, epsilon=10, gamma=1e-08, kernel=rbf, score=-0.127, total=   0.0s\n",
      "[CV] C=0.01, epsilon=100, gamma=1, kernel=rbf ........................\n",
      "[CV]  C=0.01, epsilon=100, gamma=1, kernel=rbf, score=-1.161, total=   0.0s\n",
      "[CV] C=0.01, epsilon=100, gamma=1, kernel=rbf ........................\n",
      "[CV]  C=0.01, epsilon=100, gamma=1, kernel=rbf, score=-0.627, total=   0.0s\n",
      "[CV] C=0.01, epsilon=100, gamma=1, kernel=rbf ........................\n",
      "[CV]  C=0.01, epsilon=100, gamma=1, kernel=rbf, score=-0.000, total=   0.0s\n",
      "[CV] C=0.01, epsilon=100, gamma=0.1, kernel=rbf ......................\n",
      "[CV]  C=0.01, epsilon=100, gamma=0.1, kernel=rbf, score=-1.161, total=   0.0s\n",
      "[CV] C=0.01, epsilon=100, gamma=0.1, kernel=rbf ......................\n",
      "[CV]  C=0.01, epsilon=100, gamma=0.1, kernel=rbf, score=-0.627, total=   0.0s\n",
      "[CV] C=0.01, epsilon=100, gamma=0.1, kernel=rbf ......................\n",
      "[CV]  C=0.01, epsilon=100, gamma=0.1, kernel=rbf, score=-0.000, total=   0.0s\n",
      "[CV] C=0.01, epsilon=100, gamma=0.01, kernel=rbf .....................\n",
      "[CV]  C=0.01, epsilon=100, gamma=0.01, kernel=rbf, score=-1.161, total=   0.0s\n",
      "[CV] C=0.01, epsilon=100, gamma=0.01, kernel=rbf .....................\n",
      "[CV]  C=0.01, epsilon=100, gamma=0.01, kernel=rbf, score=-0.627, total=   0.0s\n",
      "[CV] C=0.01, epsilon=100, gamma=0.01, kernel=rbf .....................\n",
      "[CV]  C=0.01, epsilon=100, gamma=0.01, kernel=rbf, score=-0.000, total=   0.0s\n",
      "[CV] C=0.01, epsilon=100, gamma=0.001, kernel=rbf ....................\n",
      "[CV]  C=0.01, epsilon=100, gamma=0.001, kernel=rbf, score=-1.161, total=   0.0s\n",
      "[CV] C=0.01, epsilon=100, gamma=0.001, kernel=rbf ....................\n",
      "[CV]  C=0.01, epsilon=100, gamma=0.001, kernel=rbf, score=-0.627, total=   0.0s\n",
      "[CV] C=0.01, epsilon=100, gamma=0.001, kernel=rbf ....................\n",
      "[CV]  C=0.01, epsilon=100, gamma=0.001, kernel=rbf, score=-0.000, total=   0.0s\n",
      "[CV] C=0.01, epsilon=100, gamma=0.0001, kernel=rbf ...................\n",
      "[CV]  C=0.01, epsilon=100, gamma=0.0001, kernel=rbf, score=-1.161, total=   0.0s\n",
      "[CV] C=0.01, epsilon=100, gamma=0.0001, kernel=rbf ...................\n",
      "[CV]  C=0.01, epsilon=100, gamma=0.0001, kernel=rbf, score=-0.627, total=   0.0s\n",
      "[CV] C=0.01, epsilon=100, gamma=0.0001, kernel=rbf ...................\n",
      "[CV]  C=0.01, epsilon=100, gamma=0.0001, kernel=rbf, score=-0.000, total=   0.0s\n",
      "[CV] C=0.01, epsilon=100, gamma=1e-05, kernel=rbf ....................\n",
      "[CV]  C=0.01, epsilon=100, gamma=1e-05, kernel=rbf, score=-1.161, total=   0.0s\n",
      "[CV] C=0.01, epsilon=100, gamma=1e-05, kernel=rbf ....................\n",
      "[CV]  C=0.01, epsilon=100, gamma=1e-05, kernel=rbf, score=-0.627, total=   0.0s\n",
      "[CV] C=0.01, epsilon=100, gamma=1e-05, kernel=rbf ....................\n",
      "[CV]  C=0.01, epsilon=100, gamma=1e-05, kernel=rbf, score=-0.000, total=   0.0s\n",
      "[CV] C=0.01, epsilon=100, gamma=1e-06, kernel=rbf ....................\n",
      "[CV]  C=0.01, epsilon=100, gamma=1e-06, kernel=rbf, score=-1.161, total=   0.0s\n",
      "[CV] C=0.01, epsilon=100, gamma=1e-06, kernel=rbf ....................\n",
      "[CV]  C=0.01, epsilon=100, gamma=1e-06, kernel=rbf, score=-0.627, total=   0.0s\n",
      "[CV] C=0.01, epsilon=100, gamma=1e-06, kernel=rbf ....................\n",
      "[CV]  C=0.01, epsilon=100, gamma=1e-06, kernel=rbf, score=-0.000, total=   0.0s\n",
      "[CV] C=0.01, epsilon=100, gamma=1e-07, kernel=rbf ....................\n",
      "[CV]  C=0.01, epsilon=100, gamma=1e-07, kernel=rbf, score=-1.161, total=   0.0s\n",
      "[CV] C=0.01, epsilon=100, gamma=1e-07, kernel=rbf ....................\n",
      "[CV]  C=0.01, epsilon=100, gamma=1e-07, kernel=rbf, score=-0.627, total=   0.0s\n",
      "[CV] C=0.01, epsilon=100, gamma=1e-07, kernel=rbf ....................\n",
      "[CV]  C=0.01, epsilon=100, gamma=1e-07, kernel=rbf, score=-0.000, total=   0.0s\n",
      "[CV] C=0.01, epsilon=100, gamma=1e-08, kernel=rbf ....................\n",
      "[CV]  C=0.01, epsilon=100, gamma=1e-08, kernel=rbf, score=-1.161, total=   0.0s\n",
      "[CV] C=0.01, epsilon=100, gamma=1e-08, kernel=rbf ....................\n",
      "[CV]  C=0.01, epsilon=100, gamma=1e-08, kernel=rbf, score=-0.627, total=   0.0s\n",
      "[CV] C=0.01, epsilon=100, gamma=1e-08, kernel=rbf ....................\n",
      "[CV]  C=0.01, epsilon=100, gamma=1e-08, kernel=rbf, score=-0.000, total=   0.0s\n",
      "[CV] C=0.01, epsilon=1000, gamma=1, kernel=rbf .......................\n",
      "[CV]  C=0.01, epsilon=1000, gamma=1, kernel=rbf, score=-1.161, total=   0.0s\n",
      "[CV] C=0.01, epsilon=1000, gamma=1, kernel=rbf .......................\n",
      "[CV]  C=0.01, epsilon=1000, gamma=1, kernel=rbf, score=-0.627, total=   0.0s\n",
      "[CV] C=0.01, epsilon=1000, gamma=1, kernel=rbf .......................\n",
      "[CV]  C=0.01, epsilon=1000, gamma=1, kernel=rbf, score=-0.000, total=   0.0s\n",
      "[CV] C=0.01, epsilon=1000, gamma=0.1, kernel=rbf .....................\n",
      "[CV]  C=0.01, epsilon=1000, gamma=0.1, kernel=rbf, score=-1.161, total=   0.0s\n",
      "[CV] C=0.01, epsilon=1000, gamma=0.1, kernel=rbf .....................\n",
      "[CV]  C=0.01, epsilon=1000, gamma=0.1, kernel=rbf, score=-0.627, total=   0.0s\n",
      "[CV] C=0.01, epsilon=1000, gamma=0.1, kernel=rbf .....................\n",
      "[CV]  C=0.01, epsilon=1000, gamma=0.1, kernel=rbf, score=-0.000, total=   0.0s\n",
      "[CV] C=0.01, epsilon=1000, gamma=0.01, kernel=rbf ....................\n",
      "[CV]  C=0.01, epsilon=1000, gamma=0.01, kernel=rbf, score=-1.161, total=   0.0s\n",
      "[CV] C=0.01, epsilon=1000, gamma=0.01, kernel=rbf ....................\n",
      "[CV]  C=0.01, epsilon=1000, gamma=0.01, kernel=rbf, score=-0.627, total=   0.0s\n",
      "[CV] C=0.01, epsilon=1000, gamma=0.01, kernel=rbf ....................\n",
      "[CV]  C=0.01, epsilon=1000, gamma=0.01, kernel=rbf, score=-0.000, total=   0.0s\n",
      "[CV] C=0.01, epsilon=1000, gamma=0.001, kernel=rbf ...................\n",
      "[CV]  C=0.01, epsilon=1000, gamma=0.001, kernel=rbf, score=-1.161, total=   0.0s\n",
      "[CV] C=0.01, epsilon=1000, gamma=0.001, kernel=rbf ...................\n",
      "[CV]  C=0.01, epsilon=1000, gamma=0.001, kernel=rbf, score=-0.627, total=   0.0s\n",
      "[CV] C=0.01, epsilon=1000, gamma=0.001, kernel=rbf ...................\n",
      "[CV]  C=0.01, epsilon=1000, gamma=0.001, kernel=rbf, score=-0.000, total=   0.0s\n",
      "[CV] C=0.01, epsilon=1000, gamma=0.0001, kernel=rbf ..................\n",
      "[CV]  C=0.01, epsilon=1000, gamma=0.0001, kernel=rbf, score=-1.161, total=   0.0s\n",
      "[CV] C=0.01, epsilon=1000, gamma=0.0001, kernel=rbf ..................\n",
      "[CV]  C=0.01, epsilon=1000, gamma=0.0001, kernel=rbf, score=-0.627, total=   0.0s\n",
      "[CV] C=0.01, epsilon=1000, gamma=0.0001, kernel=rbf ..................\n",
      "[CV]  C=0.01, epsilon=1000, gamma=0.0001, kernel=rbf, score=-0.000, total=   0.0s\n",
      "[CV] C=0.01, epsilon=1000, gamma=1e-05, kernel=rbf ...................\n",
      "[CV]  C=0.01, epsilon=1000, gamma=1e-05, kernel=rbf, score=-1.161, total=   0.0s\n",
      "[CV] C=0.01, epsilon=1000, gamma=1e-05, kernel=rbf ...................\n",
      "[CV]  C=0.01, epsilon=1000, gamma=1e-05, kernel=rbf, score=-0.627, total=   0.0s\n",
      "[CV] C=0.01, epsilon=1000, gamma=1e-05, kernel=rbf ...................\n"
     ]
    },
    {
     "name": "stdout",
     "output_type": "stream",
     "text": [
      "[CV]  C=0.01, epsilon=1000, gamma=1e-05, kernel=rbf, score=-0.000, total=   0.0s\n",
      "[CV] C=0.01, epsilon=1000, gamma=1e-06, kernel=rbf ...................\n",
      "[CV]  C=0.01, epsilon=1000, gamma=1e-06, kernel=rbf, score=-1.161, total=   0.0s\n",
      "[CV] C=0.01, epsilon=1000, gamma=1e-06, kernel=rbf ...................\n",
      "[CV]  C=0.01, epsilon=1000, gamma=1e-06, kernel=rbf, score=-0.627, total=   0.0s\n",
      "[CV] C=0.01, epsilon=1000, gamma=1e-06, kernel=rbf ...................\n",
      "[CV]  C=0.01, epsilon=1000, gamma=1e-06, kernel=rbf, score=-0.000, total=   0.0s\n",
      "[CV] C=0.01, epsilon=1000, gamma=1e-07, kernel=rbf ...................\n",
      "[CV]  C=0.01, epsilon=1000, gamma=1e-07, kernel=rbf, score=-1.161, total=   0.0s\n",
      "[CV] C=0.01, epsilon=1000, gamma=1e-07, kernel=rbf ...................\n",
      "[CV]  C=0.01, epsilon=1000, gamma=1e-07, kernel=rbf, score=-0.627, total=   0.0s\n",
      "[CV] C=0.01, epsilon=1000, gamma=1e-07, kernel=rbf ...................\n",
      "[CV]  C=0.01, epsilon=1000, gamma=1e-07, kernel=rbf, score=-0.000, total=   0.0s\n",
      "[CV] C=0.01, epsilon=1000, gamma=1e-08, kernel=rbf ...................\n",
      "[CV]  C=0.01, epsilon=1000, gamma=1e-08, kernel=rbf, score=-1.161, total=   0.0s\n",
      "[CV] C=0.01, epsilon=1000, gamma=1e-08, kernel=rbf ...................\n",
      "[CV]  C=0.01, epsilon=1000, gamma=1e-08, kernel=rbf, score=-0.627, total=   0.0s\n",
      "[CV] C=0.01, epsilon=1000, gamma=1e-08, kernel=rbf ...................\n",
      "[CV]  C=0.01, epsilon=1000, gamma=1e-08, kernel=rbf, score=-0.000, total=   0.0s\n",
      "[CV] C=0.1, epsilon=0.1, gamma=1, kernel=rbf .........................\n",
      "[CV]  C=0.1, epsilon=0.1, gamma=1, kernel=rbf, score=-0.068, total=   0.0s\n",
      "[CV] C=0.1, epsilon=0.1, gamma=1, kernel=rbf .........................\n",
      "[CV]  C=0.1, epsilon=0.1, gamma=1, kernel=rbf, score=-0.226, total=   0.0s\n",
      "[CV] C=0.1, epsilon=0.1, gamma=1, kernel=rbf .........................\n",
      "[CV]  C=0.1, epsilon=0.1, gamma=1, kernel=rbf, score=-0.158, total=   0.0s\n",
      "[CV] C=0.1, epsilon=0.1, gamma=0.1, kernel=rbf .......................\n",
      "[CV]  C=0.1, epsilon=0.1, gamma=0.1, kernel=rbf, score=-0.068, total=   0.0s\n",
      "[CV] C=0.1, epsilon=0.1, gamma=0.1, kernel=rbf .......................\n",
      "[CV]  C=0.1, epsilon=0.1, gamma=0.1, kernel=rbf, score=-0.228, total=   0.0s\n",
      "[CV] C=0.1, epsilon=0.1, gamma=0.1, kernel=rbf .......................\n",
      "[CV]  C=0.1, epsilon=0.1, gamma=0.1, kernel=rbf, score=-0.158, total=   0.0s\n",
      "[CV] C=0.1, epsilon=0.1, gamma=0.01, kernel=rbf ......................\n",
      "[CV]  C=0.1, epsilon=0.1, gamma=0.01, kernel=rbf, score=-0.070, total=   0.0s\n",
      "[CV] C=0.1, epsilon=0.1, gamma=0.01, kernel=rbf ......................\n",
      "[CV]  C=0.1, epsilon=0.1, gamma=0.01, kernel=rbf, score=-0.230, total=   0.0s\n",
      "[CV] C=0.1, epsilon=0.1, gamma=0.01, kernel=rbf ......................\n",
      "[CV]  C=0.1, epsilon=0.1, gamma=0.01, kernel=rbf, score=-0.158, total=   0.0s\n",
      "[CV] C=0.1, epsilon=0.1, gamma=0.001, kernel=rbf .....................\n",
      "[CV]  C=0.1, epsilon=0.1, gamma=0.001, kernel=rbf, score=-0.069, total=   0.0s\n",
      "[CV] C=0.1, epsilon=0.1, gamma=0.001, kernel=rbf .....................\n",
      "[CV]  C=0.1, epsilon=0.1, gamma=0.001, kernel=rbf, score=-0.229, total=   0.0s\n",
      "[CV] C=0.1, epsilon=0.1, gamma=0.001, kernel=rbf .....................\n",
      "[CV]  C=0.1, epsilon=0.1, gamma=0.001, kernel=rbf, score=-0.159, total=   0.0s\n",
      "[CV] C=0.1, epsilon=0.1, gamma=0.0001, kernel=rbf ....................\n",
      "[CV]  C=0.1, epsilon=0.1, gamma=0.0001, kernel=rbf, score=-0.068, total=   0.0s\n",
      "[CV] C=0.1, epsilon=0.1, gamma=0.0001, kernel=rbf ....................\n",
      "[CV]  C=0.1, epsilon=0.1, gamma=0.0001, kernel=rbf, score=-0.227, total=   0.0s\n",
      "[CV] C=0.1, epsilon=0.1, gamma=0.0001, kernel=rbf ....................\n",
      "[CV]  C=0.1, epsilon=0.1, gamma=0.0001, kernel=rbf, score=-0.159, total=   0.0s\n",
      "[CV] C=0.1, epsilon=0.1, gamma=1e-05, kernel=rbf .....................\n",
      "[CV]  C=0.1, epsilon=0.1, gamma=1e-05, kernel=rbf, score=-0.068, total=   0.0s\n",
      "[CV] C=0.1, epsilon=0.1, gamma=1e-05, kernel=rbf .....................\n",
      "[CV]  C=0.1, epsilon=0.1, gamma=1e-05, kernel=rbf, score=-0.226, total=   0.0s\n",
      "[CV] C=0.1, epsilon=0.1, gamma=1e-05, kernel=rbf .....................\n",
      "[CV]  C=0.1, epsilon=0.1, gamma=1e-05, kernel=rbf, score=-0.159, total=   0.0s\n",
      "[CV] C=0.1, epsilon=0.1, gamma=1e-06, kernel=rbf .....................\n",
      "[CV]  C=0.1, epsilon=0.1, gamma=1e-06, kernel=rbf, score=-0.068, total=   0.0s\n",
      "[CV] C=0.1, epsilon=0.1, gamma=1e-06, kernel=rbf .....................\n",
      "[CV]  C=0.1, epsilon=0.1, gamma=1e-06, kernel=rbf, score=-0.226, total=   0.0s\n",
      "[CV] C=0.1, epsilon=0.1, gamma=1e-06, kernel=rbf .....................\n",
      "[CV]  C=0.1, epsilon=0.1, gamma=1e-06, kernel=rbf, score=-0.159, total=   0.0s\n",
      "[CV] C=0.1, epsilon=0.1, gamma=1e-07, kernel=rbf .....................\n",
      "[CV]  C=0.1, epsilon=0.1, gamma=1e-07, kernel=rbf, score=-0.068, total=   0.0s\n",
      "[CV] C=0.1, epsilon=0.1, gamma=1e-07, kernel=rbf .....................\n",
      "[CV]  C=0.1, epsilon=0.1, gamma=1e-07, kernel=rbf, score=-0.226, total=   0.0s\n",
      "[CV] C=0.1, epsilon=0.1, gamma=1e-07, kernel=rbf .....................\n",
      "[CV]  C=0.1, epsilon=0.1, gamma=1e-07, kernel=rbf, score=-0.159, total=   0.0s\n",
      "[CV] C=0.1, epsilon=0.1, gamma=1e-08, kernel=rbf .....................\n",
      "[CV]  C=0.1, epsilon=0.1, gamma=1e-08, kernel=rbf, score=-0.068, total=   0.0s\n",
      "[CV] C=0.1, epsilon=0.1, gamma=1e-08, kernel=rbf .....................\n",
      "[CV]  C=0.1, epsilon=0.1, gamma=1e-08, kernel=rbf, score=-0.226, total=   0.0s\n",
      "[CV] C=0.1, epsilon=0.1, gamma=1e-08, kernel=rbf .....................\n",
      "[CV]  C=0.1, epsilon=0.1, gamma=1e-08, kernel=rbf, score=-0.159, total=   0.0s\n",
      "[CV] C=0.1, epsilon=1, gamma=1, kernel=rbf ...........................\n",
      "[CV]  C=0.1, epsilon=1, gamma=1, kernel=rbf, score=-0.068, total=   0.0s\n",
      "[CV] C=0.1, epsilon=1, gamma=1, kernel=rbf ...........................\n",
      "[CV]  C=0.1, epsilon=1, gamma=1, kernel=rbf, score=-0.228, total=   0.0s\n",
      "[CV] C=0.1, epsilon=1, gamma=1, kernel=rbf ...........................\n",
      "[CV]  C=0.1, epsilon=1, gamma=1, kernel=rbf, score=-0.153, total=   0.0s\n",
      "[CV] C=0.1, epsilon=1, gamma=0.1, kernel=rbf .........................\n",
      "[CV]  C=0.1, epsilon=1, gamma=0.1, kernel=rbf, score=-0.068, total=   0.0s\n",
      "[CV] C=0.1, epsilon=1, gamma=0.1, kernel=rbf .........................\n",
      "[CV]  C=0.1, epsilon=1, gamma=0.1, kernel=rbf, score=-0.230, total=   0.0s\n",
      "[CV] C=0.1, epsilon=1, gamma=0.1, kernel=rbf .........................\n",
      "[CV]  C=0.1, epsilon=1, gamma=0.1, kernel=rbf, score=-0.153, total=   0.0s\n",
      "[CV] C=0.1, epsilon=1, gamma=0.01, kernel=rbf ........................\n",
      "[CV]  C=0.1, epsilon=1, gamma=0.01, kernel=rbf, score=-0.070, total=   0.0s\n",
      "[CV] C=0.1, epsilon=1, gamma=0.01, kernel=rbf ........................\n",
      "[CV]  C=0.1, epsilon=1, gamma=0.01, kernel=rbf, score=-0.230, total=   0.0s\n",
      "[CV] C=0.1, epsilon=1, gamma=0.01, kernel=rbf ........................\n",
      "[CV]  C=0.1, epsilon=1, gamma=0.01, kernel=rbf, score=-0.153, total=   0.0s\n",
      "[CV] C=0.1, epsilon=1, gamma=0.001, kernel=rbf .......................\n",
      "[CV]  C=0.1, epsilon=1, gamma=0.001, kernel=rbf, score=-0.069, total=   0.0s\n",
      "[CV] C=0.1, epsilon=1, gamma=0.001, kernel=rbf .......................\n",
      "[CV]  C=0.1, epsilon=1, gamma=0.001, kernel=rbf, score=-0.229, total=   0.0s\n",
      "[CV] C=0.1, epsilon=1, gamma=0.001, kernel=rbf .......................\n",
      "[CV]  C=0.1, epsilon=1, gamma=0.001, kernel=rbf, score=-0.152, total=   0.0s\n",
      "[CV] C=0.1, epsilon=1, gamma=0.0001, kernel=rbf ......................\n",
      "[CV]  C=0.1, epsilon=1, gamma=0.0001, kernel=rbf, score=-0.068, total=   0.0s\n",
      "[CV] C=0.1, epsilon=1, gamma=0.0001, kernel=rbf ......................\n",
      "[CV]  C=0.1, epsilon=1, gamma=0.0001, kernel=rbf, score=-0.227, total=   0.0s\n",
      "[CV] C=0.1, epsilon=1, gamma=0.0001, kernel=rbf ......................\n",
      "[CV]  C=0.1, epsilon=1, gamma=0.0001, kernel=rbf, score=-0.152, total=   0.0s\n",
      "[CV] C=0.1, epsilon=1, gamma=1e-05, kernel=rbf .......................\n",
      "[CV]  C=0.1, epsilon=1, gamma=1e-05, kernel=rbf, score=-0.068, total=   0.0s\n",
      "[CV] C=0.1, epsilon=1, gamma=1e-05, kernel=rbf .......................\n",
      "[CV]  C=0.1, epsilon=1, gamma=1e-05, kernel=rbf, score=-0.226, total=   0.0s\n",
      "[CV] C=0.1, epsilon=1, gamma=1e-05, kernel=rbf .......................\n",
      "[CV]  C=0.1, epsilon=1, gamma=1e-05, kernel=rbf, score=-0.152, total=   0.0s\n",
      "[CV] C=0.1, epsilon=1, gamma=1e-06, kernel=rbf .......................\n"
     ]
    },
    {
     "name": "stdout",
     "output_type": "stream",
     "text": [
      "[CV]  C=0.1, epsilon=1, gamma=1e-06, kernel=rbf, score=-0.068, total=   0.0s\n",
      "[CV] C=0.1, epsilon=1, gamma=1e-06, kernel=rbf .......................\n",
      "[CV]  C=0.1, epsilon=1, gamma=1e-06, kernel=rbf, score=-0.226, total=   0.0s\n",
      "[CV] C=0.1, epsilon=1, gamma=1e-06, kernel=rbf .......................\n",
      "[CV]  C=0.1, epsilon=1, gamma=1e-06, kernel=rbf, score=-0.152, total=   0.0s\n",
      "[CV] C=0.1, epsilon=1, gamma=1e-07, kernel=rbf .......................\n",
      "[CV]  C=0.1, epsilon=1, gamma=1e-07, kernel=rbf, score=-0.068, total=   0.0s\n",
      "[CV] C=0.1, epsilon=1, gamma=1e-07, kernel=rbf .......................\n",
      "[CV]  C=0.1, epsilon=1, gamma=1e-07, kernel=rbf, score=-0.226, total=   0.0s\n",
      "[CV] C=0.1, epsilon=1, gamma=1e-07, kernel=rbf .......................\n",
      "[CV]  C=0.1, epsilon=1, gamma=1e-07, kernel=rbf, score=-0.152, total=   0.0s\n",
      "[CV] C=0.1, epsilon=1, gamma=1e-08, kernel=rbf .......................\n",
      "[CV]  C=0.1, epsilon=1, gamma=1e-08, kernel=rbf, score=-0.068, total=   0.0s\n",
      "[CV] C=0.1, epsilon=1, gamma=1e-08, kernel=rbf .......................\n",
      "[CV]  C=0.1, epsilon=1, gamma=1e-08, kernel=rbf, score=-0.226, total=   0.0s\n",
      "[CV] C=0.1, epsilon=1, gamma=1e-08, kernel=rbf .......................\n",
      "[CV]  C=0.1, epsilon=1, gamma=1e-08, kernel=rbf, score=-0.152, total=   0.0s\n",
      "[CV] C=0.1, epsilon=10, gamma=1, kernel=rbf ..........................\n",
      "[CV]  C=0.1, epsilon=10, gamma=1, kernel=rbf, score=-0.027, total=   0.0s\n",
      "[CV] C=0.1, epsilon=10, gamma=1, kernel=rbf ..........................\n",
      "[CV]  C=0.1, epsilon=10, gamma=1, kernel=rbf, score=-0.210, total=   0.0s\n",
      "[CV] C=0.1, epsilon=10, gamma=1, kernel=rbf ..........................\n",
      "[CV]  C=0.1, epsilon=10, gamma=1, kernel=rbf, score=-0.126, total=   0.0s\n",
      "[CV] C=0.1, epsilon=10, gamma=0.1, kernel=rbf ........................\n",
      "[CV]  C=0.1, epsilon=10, gamma=0.1, kernel=rbf, score=-0.027, total=   0.0s\n",
      "[CV] C=0.1, epsilon=10, gamma=0.1, kernel=rbf ........................\n",
      "[CV]  C=0.1, epsilon=10, gamma=0.1, kernel=rbf, score=-0.211, total=   0.0s\n",
      "[CV] C=0.1, epsilon=10, gamma=0.1, kernel=rbf ........................\n",
      "[CV]  C=0.1, epsilon=10, gamma=0.1, kernel=rbf, score=-0.126, total=   0.0s\n",
      "[CV] C=0.1, epsilon=10, gamma=0.01, kernel=rbf .......................\n",
      "[CV]  C=0.1, epsilon=10, gamma=0.01, kernel=rbf, score=-0.028, total=   0.0s\n",
      "[CV] C=0.1, epsilon=10, gamma=0.01, kernel=rbf .......................\n",
      "[CV]  C=0.1, epsilon=10, gamma=0.01, kernel=rbf, score=-0.212, total=   0.0s\n",
      "[CV] C=0.1, epsilon=10, gamma=0.01, kernel=rbf .......................\n",
      "[CV]  C=0.1, epsilon=10, gamma=0.01, kernel=rbf, score=-0.128, total=   0.0s\n",
      "[CV] C=0.1, epsilon=10, gamma=0.001, kernel=rbf ......................\n",
      "[CV]  C=0.1, epsilon=10, gamma=0.001, kernel=rbf, score=-0.027, total=   0.0s\n",
      "[CV] C=0.1, epsilon=10, gamma=0.001, kernel=rbf ......................\n",
      "[CV]  C=0.1, epsilon=10, gamma=0.001, kernel=rbf, score=-0.211, total=   0.0s\n",
      "[CV] C=0.1, epsilon=10, gamma=0.001, kernel=rbf ......................\n",
      "[CV]  C=0.1, epsilon=10, gamma=0.001, kernel=rbf, score=-0.127, total=   0.0s\n",
      "[CV] C=0.1, epsilon=10, gamma=0.0001, kernel=rbf .....................\n",
      "[CV]  C=0.1, epsilon=10, gamma=0.0001, kernel=rbf, score=-0.027, total=   0.0s\n",
      "[CV] C=0.1, epsilon=10, gamma=0.0001, kernel=rbf .....................\n",
      "[CV]  C=0.1, epsilon=10, gamma=0.0001, kernel=rbf, score=-0.211, total=   0.0s\n",
      "[CV] C=0.1, epsilon=10, gamma=0.0001, kernel=rbf .....................\n",
      "[CV]  C=0.1, epsilon=10, gamma=0.0001, kernel=rbf, score=-0.127, total=   0.0s\n",
      "[CV] C=0.1, epsilon=10, gamma=1e-05, kernel=rbf ......................\n",
      "[CV]  C=0.1, epsilon=10, gamma=1e-05, kernel=rbf, score=-0.027, total=   0.0s\n",
      "[CV] C=0.1, epsilon=10, gamma=1e-05, kernel=rbf ......................\n",
      "[CV]  C=0.1, epsilon=10, gamma=1e-05, kernel=rbf, score=-0.211, total=   0.0s\n",
      "[CV] C=0.1, epsilon=10, gamma=1e-05, kernel=rbf ......................\n",
      "[CV]  C=0.1, epsilon=10, gamma=1e-05, kernel=rbf, score=-0.127, total=   0.0s\n",
      "[CV] C=0.1, epsilon=10, gamma=1e-06, kernel=rbf ......................\n",
      "[CV]  C=0.1, epsilon=10, gamma=1e-06, kernel=rbf, score=-0.027, total=   0.0s\n",
      "[CV] C=0.1, epsilon=10, gamma=1e-06, kernel=rbf ......................\n",
      "[CV]  C=0.1, epsilon=10, gamma=1e-06, kernel=rbf, score=-0.211, total=   0.0s\n",
      "[CV] C=0.1, epsilon=10, gamma=1e-06, kernel=rbf ......................\n",
      "[CV]  C=0.1, epsilon=10, gamma=1e-06, kernel=rbf, score=-0.127, total=   0.0s\n",
      "[CV] C=0.1, epsilon=10, gamma=1e-07, kernel=rbf ......................\n",
      "[CV]  C=0.1, epsilon=10, gamma=1e-07, kernel=rbf, score=-0.027, total=   0.0s\n",
      "[CV] C=0.1, epsilon=10, gamma=1e-07, kernel=rbf ......................\n",
      "[CV]  C=0.1, epsilon=10, gamma=1e-07, kernel=rbf, score=-0.211, total=   0.0s\n",
      "[CV] C=0.1, epsilon=10, gamma=1e-07, kernel=rbf ......................\n",
      "[CV]  C=0.1, epsilon=10, gamma=1e-07, kernel=rbf, score=-0.127, total=   0.0s\n",
      "[CV] C=0.1, epsilon=10, gamma=1e-08, kernel=rbf ......................\n",
      "[CV]  C=0.1, epsilon=10, gamma=1e-08, kernel=rbf, score=-0.027, total=   0.0s\n",
      "[CV] C=0.1, epsilon=10, gamma=1e-08, kernel=rbf ......................\n",
      "[CV]  C=0.1, epsilon=10, gamma=1e-08, kernel=rbf, score=-0.211, total=   0.0s\n",
      "[CV] C=0.1, epsilon=10, gamma=1e-08, kernel=rbf ......................\n",
      "[CV]  C=0.1, epsilon=10, gamma=1e-08, kernel=rbf, score=-0.127, total=   0.0s\n",
      "[CV] C=0.1, epsilon=100, gamma=1, kernel=rbf .........................\n",
      "[CV]  C=0.1, epsilon=100, gamma=1, kernel=rbf, score=-1.161, total=   0.0s\n",
      "[CV] C=0.1, epsilon=100, gamma=1, kernel=rbf .........................\n",
      "[CV]  C=0.1, epsilon=100, gamma=1, kernel=rbf, score=-0.627, total=   0.0s\n",
      "[CV] C=0.1, epsilon=100, gamma=1, kernel=rbf .........................\n",
      "[CV]  C=0.1, epsilon=100, gamma=1, kernel=rbf, score=-0.000, total=   0.0s\n",
      "[CV] C=0.1, epsilon=100, gamma=0.1, kernel=rbf .......................\n",
      "[CV]  C=0.1, epsilon=100, gamma=0.1, kernel=rbf, score=-1.161, total=   0.0s\n",
      "[CV] C=0.1, epsilon=100, gamma=0.1, kernel=rbf .......................\n",
      "[CV]  C=0.1, epsilon=100, gamma=0.1, kernel=rbf, score=-0.627, total=   0.0s\n",
      "[CV] C=0.1, epsilon=100, gamma=0.1, kernel=rbf .......................\n",
      "[CV]  C=0.1, epsilon=100, gamma=0.1, kernel=rbf, score=-0.000, total=   0.0s\n",
      "[CV] C=0.1, epsilon=100, gamma=0.01, kernel=rbf ......................\n",
      "[CV]  C=0.1, epsilon=100, gamma=0.01, kernel=rbf, score=-1.161, total=   0.0s\n",
      "[CV] C=0.1, epsilon=100, gamma=0.01, kernel=rbf ......................\n",
      "[CV]  C=0.1, epsilon=100, gamma=0.01, kernel=rbf, score=-0.627, total=   0.0s\n",
      "[CV] C=0.1, epsilon=100, gamma=0.01, kernel=rbf ......................\n",
      "[CV]  C=0.1, epsilon=100, gamma=0.01, kernel=rbf, score=-0.000, total=   0.0s\n",
      "[CV] C=0.1, epsilon=100, gamma=0.001, kernel=rbf .....................\n",
      "[CV]  C=0.1, epsilon=100, gamma=0.001, kernel=rbf, score=-1.161, total=   0.0s\n",
      "[CV] C=0.1, epsilon=100, gamma=0.001, kernel=rbf .....................\n",
      "[CV]  C=0.1, epsilon=100, gamma=0.001, kernel=rbf, score=-0.627, total=   0.0s\n",
      "[CV] C=0.1, epsilon=100, gamma=0.001, kernel=rbf .....................\n",
      "[CV]  C=0.1, epsilon=100, gamma=0.001, kernel=rbf, score=-0.000, total=   0.0s\n",
      "[CV] C=0.1, epsilon=100, gamma=0.0001, kernel=rbf ....................\n",
      "[CV]  C=0.1, epsilon=100, gamma=0.0001, kernel=rbf, score=-1.161, total=   0.0s\n",
      "[CV] C=0.1, epsilon=100, gamma=0.0001, kernel=rbf ....................\n",
      "[CV]  C=0.1, epsilon=100, gamma=0.0001, kernel=rbf, score=-0.627, total=   0.0s\n",
      "[CV] C=0.1, epsilon=100, gamma=0.0001, kernel=rbf ....................\n",
      "[CV]  C=0.1, epsilon=100, gamma=0.0001, kernel=rbf, score=-0.000, total=   0.0s\n",
      "[CV] C=0.1, epsilon=100, gamma=1e-05, kernel=rbf .....................\n",
      "[CV]  C=0.1, epsilon=100, gamma=1e-05, kernel=rbf, score=-1.161, total=   0.0s\n",
      "[CV] C=0.1, epsilon=100, gamma=1e-05, kernel=rbf .....................\n",
      "[CV]  C=0.1, epsilon=100, gamma=1e-05, kernel=rbf, score=-0.627, total=   0.0s\n",
      "[CV] C=0.1, epsilon=100, gamma=1e-05, kernel=rbf .....................\n",
      "[CV]  C=0.1, epsilon=100, gamma=1e-05, kernel=rbf, score=-0.000, total=   0.0s\n",
      "[CV] C=0.1, epsilon=100, gamma=1e-06, kernel=rbf .....................\n",
      "[CV]  C=0.1, epsilon=100, gamma=1e-06, kernel=rbf, score=-1.161, total=   0.0s\n",
      "[CV] C=0.1, epsilon=100, gamma=1e-06, kernel=rbf .....................\n",
      "[CV]  C=0.1, epsilon=100, gamma=1e-06, kernel=rbf, score=-0.627, total=   0.0s\n",
      "[CV] C=0.1, epsilon=100, gamma=1e-06, kernel=rbf .....................\n",
      "[CV]  C=0.1, epsilon=100, gamma=1e-06, kernel=rbf, score=-0.000, total=   0.0s\n",
      "[CV] C=0.1, epsilon=100, gamma=1e-07, kernel=rbf .....................\n",
      "[CV]  C=0.1, epsilon=100, gamma=1e-07, kernel=rbf, score=-1.161, total=   0.0s\n",
      "[CV] C=0.1, epsilon=100, gamma=1e-07, kernel=rbf .....................\n",
      "[CV]  C=0.1, epsilon=100, gamma=1e-07, kernel=rbf, score=-0.627, total=   0.0s\n",
      "[CV] C=0.1, epsilon=100, gamma=1e-07, kernel=rbf .....................\n",
      "[CV]  C=0.1, epsilon=100, gamma=1e-07, kernel=rbf, score=-0.000, total=   0.0s\n",
      "[CV] C=0.1, epsilon=100, gamma=1e-08, kernel=rbf .....................\n",
      "[CV]  C=0.1, epsilon=100, gamma=1e-08, kernel=rbf, score=-1.161, total=   0.0s\n",
      "[CV] C=0.1, epsilon=100, gamma=1e-08, kernel=rbf .....................\n",
      "[CV]  C=0.1, epsilon=100, gamma=1e-08, kernel=rbf, score=-0.627, total=   0.0s\n",
      "[CV] C=0.1, epsilon=100, gamma=1e-08, kernel=rbf .....................\n",
      "[CV]  C=0.1, epsilon=100, gamma=1e-08, kernel=rbf, score=-0.000, total=   0.0s\n",
      "[CV] C=0.1, epsilon=1000, gamma=1, kernel=rbf ........................\n",
      "[CV]  C=0.1, epsilon=1000, gamma=1, kernel=rbf, score=-1.161, total=   0.0s\n",
      "[CV] C=0.1, epsilon=1000, gamma=1, kernel=rbf ........................\n",
      "[CV]  C=0.1, epsilon=1000, gamma=1, kernel=rbf, score=-0.627, total=   0.0s\n",
      "[CV] C=0.1, epsilon=1000, gamma=1, kernel=rbf ........................\n",
      "[CV]  C=0.1, epsilon=1000, gamma=1, kernel=rbf, score=-0.000, total=   0.0s\n",
      "[CV] C=0.1, epsilon=1000, gamma=0.1, kernel=rbf ......................\n",
      "[CV]  C=0.1, epsilon=1000, gamma=0.1, kernel=rbf, score=-1.161, total=   0.0s\n",
      "[CV] C=0.1, epsilon=1000, gamma=0.1, kernel=rbf ......................\n",
      "[CV]  C=0.1, epsilon=1000, gamma=0.1, kernel=rbf, score=-0.627, total=   0.0s\n",
      "[CV] C=0.1, epsilon=1000, gamma=0.1, kernel=rbf ......................\n",
      "[CV]  C=0.1, epsilon=1000, gamma=0.1, kernel=rbf, score=-0.000, total=   0.0s\n",
      "[CV] C=0.1, epsilon=1000, gamma=0.01, kernel=rbf .....................\n",
      "[CV]  C=0.1, epsilon=1000, gamma=0.01, kernel=rbf, score=-1.161, total=   0.0s\n",
      "[CV] C=0.1, epsilon=1000, gamma=0.01, kernel=rbf .....................\n",
      "[CV]  C=0.1, epsilon=1000, gamma=0.01, kernel=rbf, score=-0.627, total=   0.0s\n",
      "[CV] C=0.1, epsilon=1000, gamma=0.01, kernel=rbf .....................\n",
      "[CV]  C=0.1, epsilon=1000, gamma=0.01, kernel=rbf, score=-0.000, total=   0.0s\n",
      "[CV] C=0.1, epsilon=1000, gamma=0.001, kernel=rbf ....................\n",
      "[CV]  C=0.1, epsilon=1000, gamma=0.001, kernel=rbf, score=-1.161, total=   0.0s\n",
      "[CV] C=0.1, epsilon=1000, gamma=0.001, kernel=rbf ....................\n",
      "[CV]  C=0.1, epsilon=1000, gamma=0.001, kernel=rbf, score=-0.627, total=   0.0s\n",
      "[CV] C=0.1, epsilon=1000, gamma=0.001, kernel=rbf ....................\n",
      "[CV]  C=0.1, epsilon=1000, gamma=0.001, kernel=rbf, score=-0.000, total=   0.0s\n",
      "[CV] C=0.1, epsilon=1000, gamma=0.0001, kernel=rbf ...................\n",
      "[CV]  C=0.1, epsilon=1000, gamma=0.0001, kernel=rbf, score=-1.161, total=   0.0s\n",
      "[CV] C=0.1, epsilon=1000, gamma=0.0001, kernel=rbf ...................\n",
      "[CV]  C=0.1, epsilon=1000, gamma=0.0001, kernel=rbf, score=-0.627, total=   0.0s\n",
      "[CV] C=0.1, epsilon=1000, gamma=0.0001, kernel=rbf ...................\n",
      "[CV]  C=0.1, epsilon=1000, gamma=0.0001, kernel=rbf, score=-0.000, total=   0.0s\n",
      "[CV] C=0.1, epsilon=1000, gamma=1e-05, kernel=rbf ....................\n",
      "[CV]  C=0.1, epsilon=1000, gamma=1e-05, kernel=rbf, score=-1.161, total=   0.0s\n",
      "[CV] C=0.1, epsilon=1000, gamma=1e-05, kernel=rbf ....................\n",
      "[CV]  C=0.1, epsilon=1000, gamma=1e-05, kernel=rbf, score=-0.627, total=   0.0s\n",
      "[CV] C=0.1, epsilon=1000, gamma=1e-05, kernel=rbf ....................\n",
      "[CV]  C=0.1, epsilon=1000, gamma=1e-05, kernel=rbf, score=-0.000, total=   0.0s\n",
      "[CV] C=0.1, epsilon=1000, gamma=1e-06, kernel=rbf ....................\n",
      "[CV]  C=0.1, epsilon=1000, gamma=1e-06, kernel=rbf, score=-1.161, total=   0.0s\n",
      "[CV] C=0.1, epsilon=1000, gamma=1e-06, kernel=rbf ....................\n",
      "[CV]  C=0.1, epsilon=1000, gamma=1e-06, kernel=rbf, score=-0.627, total=   0.0s\n",
      "[CV] C=0.1, epsilon=1000, gamma=1e-06, kernel=rbf ....................\n",
      "[CV]  C=0.1, epsilon=1000, gamma=1e-06, kernel=rbf, score=-0.000, total=   0.0s\n",
      "[CV] C=0.1, epsilon=1000, gamma=1e-07, kernel=rbf ....................\n",
      "[CV]  C=0.1, epsilon=1000, gamma=1e-07, kernel=rbf, score=-1.161, total=   0.0s\n",
      "[CV] C=0.1, epsilon=1000, gamma=1e-07, kernel=rbf ....................\n",
      "[CV]  C=0.1, epsilon=1000, gamma=1e-07, kernel=rbf, score=-0.627, total=   0.0s\n",
      "[CV] C=0.1, epsilon=1000, gamma=1e-07, kernel=rbf ....................\n",
      "[CV]  C=0.1, epsilon=1000, gamma=1e-07, kernel=rbf, score=-0.000, total=   0.0s\n",
      "[CV] C=0.1, epsilon=1000, gamma=1e-08, kernel=rbf ....................\n",
      "[CV]  C=0.1, epsilon=1000, gamma=1e-08, kernel=rbf, score=-1.161, total=   0.0s\n",
      "[CV] C=0.1, epsilon=1000, gamma=1e-08, kernel=rbf ....................\n",
      "[CV]  C=0.1, epsilon=1000, gamma=1e-08, kernel=rbf, score=-0.627, total=   0.0s\n",
      "[CV] C=0.1, epsilon=1000, gamma=1e-08, kernel=rbf ....................\n",
      "[CV]  C=0.1, epsilon=1000, gamma=1e-08, kernel=rbf, score=-0.000, total=   0.0s\n",
      "[CV] C=1, epsilon=0.1, gamma=1, kernel=rbf ...........................\n",
      "[CV]  C=1, epsilon=0.1, gamma=1, kernel=rbf, score=-0.068, total=   0.0s\n",
      "[CV] C=1, epsilon=0.1, gamma=1, kernel=rbf ...........................\n",
      "[CV]  C=1, epsilon=0.1, gamma=1, kernel=rbf, score=-0.227, total=   0.0s\n",
      "[CV] C=1, epsilon=0.1, gamma=1, kernel=rbf ...........................\n",
      "[CV]  C=1, epsilon=0.1, gamma=1, kernel=rbf, score=-0.154, total=   0.0s\n",
      "[CV] C=1, epsilon=0.1, gamma=0.1, kernel=rbf .........................\n",
      "[CV]  C=1, epsilon=0.1, gamma=0.1, kernel=rbf, score=-0.069, total=   0.0s\n",
      "[CV] C=1, epsilon=0.1, gamma=0.1, kernel=rbf .........................\n",
      "[CV]  C=1, epsilon=0.1, gamma=0.1, kernel=rbf, score=-0.247, total=   0.0s\n",
      "[CV] C=1, epsilon=0.1, gamma=0.1, kernel=rbf .........................\n",
      "[CV]  C=1, epsilon=0.1, gamma=0.1, kernel=rbf, score=-0.160, total=   0.0s\n",
      "[CV] C=1, epsilon=0.1, gamma=0.01, kernel=rbf ........................\n",
      "[CV]  C=1, epsilon=0.1, gamma=0.01, kernel=rbf, score=-0.080, total=   0.0s\n",
      "[CV] C=1, epsilon=0.1, gamma=0.01, kernel=rbf ........................\n",
      "[CV]  C=1, epsilon=0.1, gamma=0.01, kernel=rbf, score=-0.262, total=   0.0s\n",
      "[CV] C=1, epsilon=0.1, gamma=0.01, kernel=rbf ........................\n",
      "[CV]  C=1, epsilon=0.1, gamma=0.01, kernel=rbf, score=-0.161, total=   0.0s\n",
      "[CV] C=1, epsilon=0.1, gamma=0.001, kernel=rbf .......................\n",
      "[CV]  C=1, epsilon=0.1, gamma=0.001, kernel=rbf, score=-0.073, total=   0.0s\n",
      "[CV] C=1, epsilon=0.1, gamma=0.001, kernel=rbf .......................\n",
      "[CV]  C=1, epsilon=0.1, gamma=0.001, kernel=rbf, score=-0.251, total=   0.0s\n",
      "[CV] C=1, epsilon=0.1, gamma=0.001, kernel=rbf .......................\n",
      "[CV]  C=1, epsilon=0.1, gamma=0.001, kernel=rbf, score=-0.161, total=   0.0s\n",
      "[CV] C=1, epsilon=0.1, gamma=0.0001, kernel=rbf ......................\n",
      "[CV]  C=1, epsilon=0.1, gamma=0.0001, kernel=rbf, score=-0.069, total=   0.0s\n",
      "[CV] C=1, epsilon=0.1, gamma=0.0001, kernel=rbf ......................\n",
      "[CV]  C=1, epsilon=0.1, gamma=0.0001, kernel=rbf, score=-0.230, total=   0.0s\n",
      "[CV] C=1, epsilon=0.1, gamma=0.0001, kernel=rbf ......................\n",
      "[CV]  C=1, epsilon=0.1, gamma=0.0001, kernel=rbf, score=-0.159, total=   0.0s\n",
      "[CV] C=1, epsilon=0.1, gamma=1e-05, kernel=rbf .......................\n",
      "[CV]  C=1, epsilon=0.1, gamma=1e-05, kernel=rbf, score=-0.068, total=   0.0s\n",
      "[CV] C=1, epsilon=0.1, gamma=1e-05, kernel=rbf .......................\n",
      "[CV]  C=1, epsilon=0.1, gamma=1e-05, kernel=rbf, score=-0.227, total=   0.0s\n",
      "[CV] C=1, epsilon=0.1, gamma=1e-05, kernel=rbf .......................\n",
      "[CV]  C=1, epsilon=0.1, gamma=1e-05, kernel=rbf, score=-0.159, total=   0.0s\n",
      "[CV] C=1, epsilon=0.1, gamma=1e-06, kernel=rbf .......................\n",
      "[CV]  C=1, epsilon=0.1, gamma=1e-06, kernel=rbf, score=-0.068, total=   0.0s\n",
      "[CV] C=1, epsilon=0.1, gamma=1e-06, kernel=rbf .......................\n",
      "[CV]  C=1, epsilon=0.1, gamma=1e-06, kernel=rbf, score=-0.226, total=   0.0s\n",
      "[CV] C=1, epsilon=0.1, gamma=1e-06, kernel=rbf .......................\n",
      "[CV]  C=1, epsilon=0.1, gamma=1e-06, kernel=rbf, score=-0.159, total=   0.0s\n",
      "[CV] C=1, epsilon=0.1, gamma=1e-07, kernel=rbf .......................\n",
      "[CV]  C=1, epsilon=0.1, gamma=1e-07, kernel=rbf, score=-0.068, total=   0.0s\n",
      "[CV] C=1, epsilon=0.1, gamma=1e-07, kernel=rbf .......................\n",
      "[CV]  C=1, epsilon=0.1, gamma=1e-07, kernel=rbf, score=-0.226, total=   0.0s\n",
      "[CV] C=1, epsilon=0.1, gamma=1e-07, kernel=rbf .......................\n",
      "[CV]  C=1, epsilon=0.1, gamma=1e-07, kernel=rbf, score=-0.159, total=   0.0s\n",
      "[CV] C=1, epsilon=0.1, gamma=1e-08, kernel=rbf .......................\n",
      "[CV]  C=1, epsilon=0.1, gamma=1e-08, kernel=rbf, score=-0.068, total=   0.0s\n",
      "[CV] C=1, epsilon=0.1, gamma=1e-08, kernel=rbf .......................\n",
      "[CV]  C=1, epsilon=0.1, gamma=1e-08, kernel=rbf, score=-0.226, total=   0.0s\n",
      "[CV] C=1, epsilon=0.1, gamma=1e-08, kernel=rbf .......................\n"
     ]
    },
    {
     "name": "stdout",
     "output_type": "stream",
     "text": [
      "[CV]  C=1, epsilon=0.1, gamma=1e-08, kernel=rbf, score=-0.159, total=   0.0s\n",
      "[CV] C=1, epsilon=1, gamma=1, kernel=rbf .............................\n",
      "[CV]  C=1, epsilon=1, gamma=1, kernel=rbf, score=-0.068, total=   0.0s\n",
      "[CV] C=1, epsilon=1, gamma=1, kernel=rbf .............................\n",
      "[CV]  C=1, epsilon=1, gamma=1, kernel=rbf, score=-0.243, total=   0.0s\n",
      "[CV] C=1, epsilon=1, gamma=1, kernel=rbf .............................\n",
      "[CV]  C=1, epsilon=1, gamma=1, kernel=rbf, score=-0.159, total=   0.0s\n",
      "[CV] C=1, epsilon=1, gamma=0.1, kernel=rbf ...........................\n",
      "[CV]  C=1, epsilon=1, gamma=0.1, kernel=rbf, score=-0.069, total=   0.0s\n",
      "[CV] C=1, epsilon=1, gamma=0.1, kernel=rbf ...........................\n",
      "[CV]  C=1, epsilon=1, gamma=0.1, kernel=rbf, score=-0.266, total=   0.0s\n",
      "[CV] C=1, epsilon=1, gamma=0.1, kernel=rbf ...........................\n",
      "[CV]  C=1, epsilon=1, gamma=0.1, kernel=rbf, score=-0.159, total=   0.0s\n",
      "[CV] C=1, epsilon=1, gamma=0.01, kernel=rbf ..........................\n",
      "[CV]  C=1, epsilon=1, gamma=0.01, kernel=rbf, score=-0.080, total=   0.0s\n",
      "[CV] C=1, epsilon=1, gamma=0.01, kernel=rbf ..........................\n",
      "[CV]  C=1, epsilon=1, gamma=0.01, kernel=rbf, score=-0.262, total=   0.0s\n",
      "[CV] C=1, epsilon=1, gamma=0.01, kernel=rbf ..........................\n",
      "[CV]  C=1, epsilon=1, gamma=0.01, kernel=rbf, score=-0.160, total=   0.0s\n",
      "[CV] C=1, epsilon=1, gamma=0.001, kernel=rbf .........................\n",
      "[CV]  C=1, epsilon=1, gamma=0.001, kernel=rbf, score=-0.073, total=   0.0s\n",
      "[CV] C=1, epsilon=1, gamma=0.001, kernel=rbf .........................\n",
      "[CV]  C=1, epsilon=1, gamma=0.001, kernel=rbf, score=-0.251, total=   0.0s\n",
      "[CV] C=1, epsilon=1, gamma=0.001, kernel=rbf .........................\n",
      "[CV]  C=1, epsilon=1, gamma=0.001, kernel=rbf, score=-0.154, total=   0.0s\n",
      "[CV] C=1, epsilon=1, gamma=0.0001, kernel=rbf ........................\n",
      "[CV]  C=1, epsilon=1, gamma=0.0001, kernel=rbf, score=-0.069, total=   0.0s\n",
      "[CV] C=1, epsilon=1, gamma=0.0001, kernel=rbf ........................\n",
      "[CV]  C=1, epsilon=1, gamma=0.0001, kernel=rbf, score=-0.230, total=   0.0s\n",
      "[CV] C=1, epsilon=1, gamma=0.0001, kernel=rbf ........................\n",
      "[CV]  C=1, epsilon=1, gamma=0.0001, kernel=rbf, score=-0.152, total=   0.0s\n",
      "[CV] C=1, epsilon=1, gamma=1e-05, kernel=rbf .........................\n",
      "[CV]  C=1, epsilon=1, gamma=1e-05, kernel=rbf, score=-0.068, total=   0.0s\n",
      "[CV] C=1, epsilon=1, gamma=1e-05, kernel=rbf .........................\n",
      "[CV]  C=1, epsilon=1, gamma=1e-05, kernel=rbf, score=-0.227, total=   0.0s\n",
      "[CV] C=1, epsilon=1, gamma=1e-05, kernel=rbf .........................\n",
      "[CV]  C=1, epsilon=1, gamma=1e-05, kernel=rbf, score=-0.152, total=   0.0s\n",
      "[CV] C=1, epsilon=1, gamma=1e-06, kernel=rbf .........................\n",
      "[CV]  C=1, epsilon=1, gamma=1e-06, kernel=rbf, score=-0.068, total=   0.0s\n",
      "[CV] C=1, epsilon=1, gamma=1e-06, kernel=rbf .........................\n",
      "[CV]  C=1, epsilon=1, gamma=1e-06, kernel=rbf, score=-0.226, total=   0.0s\n",
      "[CV] C=1, epsilon=1, gamma=1e-06, kernel=rbf .........................\n",
      "[CV]  C=1, epsilon=1, gamma=1e-06, kernel=rbf, score=-0.152, total=   0.0s\n",
      "[CV] C=1, epsilon=1, gamma=1e-07, kernel=rbf .........................\n",
      "[CV]  C=1, epsilon=1, gamma=1e-07, kernel=rbf, score=-0.068, total=   0.0s\n",
      "[CV] C=1, epsilon=1, gamma=1e-07, kernel=rbf .........................\n",
      "[CV]  C=1, epsilon=1, gamma=1e-07, kernel=rbf, score=-0.226, total=   0.0s\n",
      "[CV] C=1, epsilon=1, gamma=1e-07, kernel=rbf .........................\n",
      "[CV]  C=1, epsilon=1, gamma=1e-07, kernel=rbf, score=-0.152, total=   0.0s\n",
      "[CV] C=1, epsilon=1, gamma=1e-08, kernel=rbf .........................\n",
      "[CV]  C=1, epsilon=1, gamma=1e-08, kernel=rbf, score=-0.068, total=   0.0s\n",
      "[CV] C=1, epsilon=1, gamma=1e-08, kernel=rbf .........................\n",
      "[CV]  C=1, epsilon=1, gamma=1e-08, kernel=rbf, score=-0.226, total=   0.0s\n",
      "[CV] C=1, epsilon=1, gamma=1e-08, kernel=rbf .........................\n",
      "[CV]  C=1, epsilon=1, gamma=1e-08, kernel=rbf, score=-0.152, total=   0.0s\n",
      "[CV] C=1, epsilon=10, gamma=1, kernel=rbf ............................\n",
      "[CV]  C=1, epsilon=10, gamma=1, kernel=rbf, score=-0.027, total=   0.0s\n",
      "[CV] C=1, epsilon=10, gamma=1, kernel=rbf ............................\n",
      "[CV]  C=1, epsilon=10, gamma=1, kernel=rbf, score=-0.197, total=   0.0s\n",
      "[CV] C=1, epsilon=10, gamma=1, kernel=rbf ............................\n",
      "[CV]  C=1, epsilon=10, gamma=1, kernel=rbf, score=-0.119, total=   0.0s\n",
      "[CV] C=1, epsilon=10, gamma=0.1, kernel=rbf ..........................\n",
      "[CV]  C=1, epsilon=10, gamma=0.1, kernel=rbf, score=-0.027, total=   0.0s\n",
      "[CV] C=1, epsilon=10, gamma=0.1, kernel=rbf ..........................\n",
      "[CV]  C=1, epsilon=10, gamma=0.1, kernel=rbf, score=-0.199, total=   0.0s\n",
      "[CV] C=1, epsilon=10, gamma=0.1, kernel=rbf ..........................\n",
      "[CV]  C=1, epsilon=10, gamma=0.1, kernel=rbf, score=-0.119, total=   0.0s\n",
      "[CV] C=1, epsilon=10, gamma=0.01, kernel=rbf .........................\n",
      "[CV]  C=1, epsilon=10, gamma=0.01, kernel=rbf, score=-0.035, total=   0.0s\n",
      "[CV] C=1, epsilon=10, gamma=0.01, kernel=rbf .........................\n",
      "[CV]  C=1, epsilon=10, gamma=0.01, kernel=rbf, score=-0.223, total=   0.0s\n",
      "[CV] C=1, epsilon=10, gamma=0.01, kernel=rbf .........................\n",
      "[CV]  C=1, epsilon=10, gamma=0.01, kernel=rbf, score=-0.140, total=   0.0s\n",
      "[CV] C=1, epsilon=10, gamma=0.001, kernel=rbf ........................\n",
      "[CV]  C=1, epsilon=10, gamma=0.001, kernel=rbf, score=-0.029, total=   0.0s\n",
      "[CV] C=1, epsilon=10, gamma=0.001, kernel=rbf ........................\n",
      "[CV]  C=1, epsilon=10, gamma=0.001, kernel=rbf, score=-0.213, total=   0.0s\n",
      "[CV] C=1, epsilon=10, gamma=0.001, kernel=rbf ........................\n",
      "[CV]  C=1, epsilon=10, gamma=0.001, kernel=rbf, score=-0.128, total=   0.0s\n",
      "[CV] C=1, epsilon=10, gamma=0.0001, kernel=rbf .......................\n",
      "[CV]  C=1, epsilon=10, gamma=0.0001, kernel=rbf, score=-0.027, total=   0.0s\n",
      "[CV] C=1, epsilon=10, gamma=0.0001, kernel=rbf .......................\n",
      "[CV]  C=1, epsilon=10, gamma=0.0001, kernel=rbf, score=-0.211, total=   0.0s\n",
      "[CV] C=1, epsilon=10, gamma=0.0001, kernel=rbf .......................\n",
      "[CV]  C=1, epsilon=10, gamma=0.0001, kernel=rbf, score=-0.127, total=   0.0s\n",
      "[CV] C=1, epsilon=10, gamma=1e-05, kernel=rbf ........................\n",
      "[CV]  C=1, epsilon=10, gamma=1e-05, kernel=rbf, score=-0.027, total=   0.0s\n",
      "[CV] C=1, epsilon=10, gamma=1e-05, kernel=rbf ........................\n",
      "[CV]  C=1, epsilon=10, gamma=1e-05, kernel=rbf, score=-0.211, total=   0.0s\n",
      "[CV] C=1, epsilon=10, gamma=1e-05, kernel=rbf ........................\n",
      "[CV]  C=1, epsilon=10, gamma=1e-05, kernel=rbf, score=-0.127, total=   0.0s\n",
      "[CV] C=1, epsilon=10, gamma=1e-06, kernel=rbf ........................\n",
      "[CV]  C=1, epsilon=10, gamma=1e-06, kernel=rbf, score=-0.027, total=   0.0s\n",
      "[CV] C=1, epsilon=10, gamma=1e-06, kernel=rbf ........................\n",
      "[CV]  C=1, epsilon=10, gamma=1e-06, kernel=rbf, score=-0.211, total=   0.0s\n",
      "[CV] C=1, epsilon=10, gamma=1e-06, kernel=rbf ........................\n",
      "[CV]  C=1, epsilon=10, gamma=1e-06, kernel=rbf, score=-0.127, total=   0.0s\n",
      "[CV] C=1, epsilon=10, gamma=1e-07, kernel=rbf ........................\n",
      "[CV]  C=1, epsilon=10, gamma=1e-07, kernel=rbf, score=-0.027, total=   0.0s\n",
      "[CV] C=1, epsilon=10, gamma=1e-07, kernel=rbf ........................\n",
      "[CV]  C=1, epsilon=10, gamma=1e-07, kernel=rbf, score=-0.211, total=   0.0s\n",
      "[CV] C=1, epsilon=10, gamma=1e-07, kernel=rbf ........................\n",
      "[CV]  C=1, epsilon=10, gamma=1e-07, kernel=rbf, score=-0.127, total=   0.0s\n",
      "[CV] C=1, epsilon=10, gamma=1e-08, kernel=rbf ........................\n",
      "[CV]  C=1, epsilon=10, gamma=1e-08, kernel=rbf, score=-0.027, total=   0.0s\n",
      "[CV] C=1, epsilon=10, gamma=1e-08, kernel=rbf ........................\n",
      "[CV]  C=1, epsilon=10, gamma=1e-08, kernel=rbf, score=-0.211, total=   0.0s\n",
      "[CV] C=1, epsilon=10, gamma=1e-08, kernel=rbf ........................\n",
      "[CV]  C=1, epsilon=10, gamma=1e-08, kernel=rbf, score=-0.127, total=   0.0s\n",
      "[CV] C=1, epsilon=100, gamma=1, kernel=rbf ...........................\n",
      "[CV]  C=1, epsilon=100, gamma=1, kernel=rbf, score=-1.161, total=   0.0s\n",
      "[CV] C=1, epsilon=100, gamma=1, kernel=rbf ...........................\n",
      "[CV]  C=1, epsilon=100, gamma=1, kernel=rbf, score=-0.627, total=   0.0s\n",
      "[CV] C=1, epsilon=100, gamma=1, kernel=rbf ...........................\n",
      "[CV]  C=1, epsilon=100, gamma=1, kernel=rbf, score=-0.000, total=   0.0s\n",
      "[CV] C=1, epsilon=100, gamma=0.1, kernel=rbf .........................\n",
      "[CV]  C=1, epsilon=100, gamma=0.1, kernel=rbf, score=-1.161, total=   0.0s\n",
      "[CV] C=1, epsilon=100, gamma=0.1, kernel=rbf .........................\n",
      "[CV]  C=1, epsilon=100, gamma=0.1, kernel=rbf, score=-0.627, total=   0.0s\n",
      "[CV] C=1, epsilon=100, gamma=0.1, kernel=rbf .........................\n",
      "[CV]  C=1, epsilon=100, gamma=0.1, kernel=rbf, score=-0.000, total=   0.0s\n",
      "[CV] C=1, epsilon=100, gamma=0.01, kernel=rbf ........................\n",
      "[CV]  C=1, epsilon=100, gamma=0.01, kernel=rbf, score=-1.161, total=   0.0s\n",
      "[CV] C=1, epsilon=100, gamma=0.01, kernel=rbf ........................\n"
     ]
    },
    {
     "name": "stdout",
     "output_type": "stream",
     "text": [
      "[CV]  C=1, epsilon=100, gamma=0.01, kernel=rbf, score=-0.627, total=   0.0s\n",
      "[CV] C=1, epsilon=100, gamma=0.01, kernel=rbf ........................\n",
      "[CV]  C=1, epsilon=100, gamma=0.01, kernel=rbf, score=-0.000, total=   0.0s\n",
      "[CV] C=1, epsilon=100, gamma=0.001, kernel=rbf .......................\n",
      "[CV]  C=1, epsilon=100, gamma=0.001, kernel=rbf, score=-1.161, total=   0.0s\n",
      "[CV] C=1, epsilon=100, gamma=0.001, kernel=rbf .......................\n",
      "[CV]  C=1, epsilon=100, gamma=0.001, kernel=rbf, score=-0.627, total=   0.0s\n",
      "[CV] C=1, epsilon=100, gamma=0.001, kernel=rbf .......................\n",
      "[CV]  C=1, epsilon=100, gamma=0.001, kernel=rbf, score=-0.000, total=   0.0s\n",
      "[CV] C=1, epsilon=100, gamma=0.0001, kernel=rbf ......................\n",
      "[CV]  C=1, epsilon=100, gamma=0.0001, kernel=rbf, score=-1.161, total=   0.0s\n",
      "[CV] C=1, epsilon=100, gamma=0.0001, kernel=rbf ......................\n",
      "[CV]  C=1, epsilon=100, gamma=0.0001, kernel=rbf, score=-0.627, total=   0.0s\n",
      "[CV] C=1, epsilon=100, gamma=0.0001, kernel=rbf ......................\n",
      "[CV]  C=1, epsilon=100, gamma=0.0001, kernel=rbf, score=-0.000, total=   0.0s\n",
      "[CV] C=1, epsilon=100, gamma=1e-05, kernel=rbf .......................\n",
      "[CV]  C=1, epsilon=100, gamma=1e-05, kernel=rbf, score=-1.161, total=   0.0s\n",
      "[CV] C=1, epsilon=100, gamma=1e-05, kernel=rbf .......................\n",
      "[CV]  C=1, epsilon=100, gamma=1e-05, kernel=rbf, score=-0.627, total=   0.0s\n",
      "[CV] C=1, epsilon=100, gamma=1e-05, kernel=rbf .......................\n",
      "[CV]  C=1, epsilon=100, gamma=1e-05, kernel=rbf, score=-0.000, total=   0.0s\n",
      "[CV] C=1, epsilon=100, gamma=1e-06, kernel=rbf .......................\n",
      "[CV]  C=1, epsilon=100, gamma=1e-06, kernel=rbf, score=-1.161, total=   0.0s\n",
      "[CV] C=1, epsilon=100, gamma=1e-06, kernel=rbf .......................\n",
      "[CV]  C=1, epsilon=100, gamma=1e-06, kernel=rbf, score=-0.627, total=   0.0s\n",
      "[CV] C=1, epsilon=100, gamma=1e-06, kernel=rbf .......................\n",
      "[CV]  C=1, epsilon=100, gamma=1e-06, kernel=rbf, score=-0.000, total=   0.0s\n",
      "[CV] C=1, epsilon=100, gamma=1e-07, kernel=rbf .......................\n",
      "[CV]  C=1, epsilon=100, gamma=1e-07, kernel=rbf, score=-1.161, total=   0.0s\n",
      "[CV] C=1, epsilon=100, gamma=1e-07, kernel=rbf .......................\n",
      "[CV]  C=1, epsilon=100, gamma=1e-07, kernel=rbf, score=-0.627, total=   0.0s\n",
      "[CV] C=1, epsilon=100, gamma=1e-07, kernel=rbf .......................\n",
      "[CV]  C=1, epsilon=100, gamma=1e-07, kernel=rbf, score=-0.000, total=   0.0s\n",
      "[CV] C=1, epsilon=100, gamma=1e-08, kernel=rbf .......................\n",
      "[CV]  C=1, epsilon=100, gamma=1e-08, kernel=rbf, score=-1.161, total=   0.0s\n",
      "[CV] C=1, epsilon=100, gamma=1e-08, kernel=rbf .......................\n",
      "[CV]  C=1, epsilon=100, gamma=1e-08, kernel=rbf, score=-0.627, total=   0.0s\n",
      "[CV] C=1, epsilon=100, gamma=1e-08, kernel=rbf .......................\n",
      "[CV]  C=1, epsilon=100, gamma=1e-08, kernel=rbf, score=-0.000, total=   0.0s\n",
      "[CV] C=1, epsilon=1000, gamma=1, kernel=rbf ..........................\n",
      "[CV]  C=1, epsilon=1000, gamma=1, kernel=rbf, score=-1.161, total=   0.0s\n",
      "[CV] C=1, epsilon=1000, gamma=1, kernel=rbf ..........................\n",
      "[CV]  C=1, epsilon=1000, gamma=1, kernel=rbf, score=-0.627, total=   0.0s\n",
      "[CV] C=1, epsilon=1000, gamma=1, kernel=rbf ..........................\n",
      "[CV]  C=1, epsilon=1000, gamma=1, kernel=rbf, score=-0.000, total=   0.0s\n",
      "[CV] C=1, epsilon=1000, gamma=0.1, kernel=rbf ........................\n",
      "[CV]  C=1, epsilon=1000, gamma=0.1, kernel=rbf, score=-1.161, total=   0.0s\n",
      "[CV] C=1, epsilon=1000, gamma=0.1, kernel=rbf ........................\n",
      "[CV]  C=1, epsilon=1000, gamma=0.1, kernel=rbf, score=-0.627, total=   0.0s\n",
      "[CV] C=1, epsilon=1000, gamma=0.1, kernel=rbf ........................\n",
      "[CV]  C=1, epsilon=1000, gamma=0.1, kernel=rbf, score=-0.000, total=   0.0s\n",
      "[CV] C=1, epsilon=1000, gamma=0.01, kernel=rbf .......................\n",
      "[CV]  C=1, epsilon=1000, gamma=0.01, kernel=rbf, score=-1.161, total=   0.0s\n",
      "[CV] C=1, epsilon=1000, gamma=0.01, kernel=rbf .......................\n",
      "[CV]  C=1, epsilon=1000, gamma=0.01, kernel=rbf, score=-0.627, total=   0.0s\n",
      "[CV] C=1, epsilon=1000, gamma=0.01, kernel=rbf .......................\n",
      "[CV]  C=1, epsilon=1000, gamma=0.01, kernel=rbf, score=-0.000, total=   0.0s\n",
      "[CV] C=1, epsilon=1000, gamma=0.001, kernel=rbf ......................\n",
      "[CV]  C=1, epsilon=1000, gamma=0.001, kernel=rbf, score=-1.161, total=   0.0s\n",
      "[CV] C=1, epsilon=1000, gamma=0.001, kernel=rbf ......................\n",
      "[CV]  C=1, epsilon=1000, gamma=0.001, kernel=rbf, score=-0.627, total=   0.0s\n",
      "[CV] C=1, epsilon=1000, gamma=0.001, kernel=rbf ......................\n",
      "[CV]  C=1, epsilon=1000, gamma=0.001, kernel=rbf, score=-0.000, total=   0.0s\n",
      "[CV] C=1, epsilon=1000, gamma=0.0001, kernel=rbf .....................\n",
      "[CV]  C=1, epsilon=1000, gamma=0.0001, kernel=rbf, score=-1.161, total=   0.0s\n",
      "[CV] C=1, epsilon=1000, gamma=0.0001, kernel=rbf .....................\n",
      "[CV]  C=1, epsilon=1000, gamma=0.0001, kernel=rbf, score=-0.627, total=   0.0s\n",
      "[CV] C=1, epsilon=1000, gamma=0.0001, kernel=rbf .....................\n",
      "[CV]  C=1, epsilon=1000, gamma=0.0001, kernel=rbf, score=-0.000, total=   0.0s\n",
      "[CV] C=1, epsilon=1000, gamma=1e-05, kernel=rbf ......................\n",
      "[CV]  C=1, epsilon=1000, gamma=1e-05, kernel=rbf, score=-1.161, total=   0.0s\n",
      "[CV] C=1, epsilon=1000, gamma=1e-05, kernel=rbf ......................\n",
      "[CV]  C=1, epsilon=1000, gamma=1e-05, kernel=rbf, score=-0.627, total=   0.0s\n",
      "[CV] C=1, epsilon=1000, gamma=1e-05, kernel=rbf ......................\n",
      "[CV]  C=1, epsilon=1000, gamma=1e-05, kernel=rbf, score=-0.000, total=   0.0s\n",
      "[CV] C=1, epsilon=1000, gamma=1e-06, kernel=rbf ......................\n",
      "[CV]  C=1, epsilon=1000, gamma=1e-06, kernel=rbf, score=-1.161, total=   0.0s\n",
      "[CV] C=1, epsilon=1000, gamma=1e-06, kernel=rbf ......................\n",
      "[CV]  C=1, epsilon=1000, gamma=1e-06, kernel=rbf, score=-0.627, total=   0.0s\n",
      "[CV] C=1, epsilon=1000, gamma=1e-06, kernel=rbf ......................\n",
      "[CV]  C=1, epsilon=1000, gamma=1e-06, kernel=rbf, score=-0.000, total=   0.0s\n",
      "[CV] C=1, epsilon=1000, gamma=1e-07, kernel=rbf ......................\n",
      "[CV]  C=1, epsilon=1000, gamma=1e-07, kernel=rbf, score=-1.161, total=   0.0s\n",
      "[CV] C=1, epsilon=1000, gamma=1e-07, kernel=rbf ......................\n",
      "[CV]  C=1, epsilon=1000, gamma=1e-07, kernel=rbf, score=-0.627, total=   0.0s\n",
      "[CV] C=1, epsilon=1000, gamma=1e-07, kernel=rbf ......................\n",
      "[CV]  C=1, epsilon=1000, gamma=1e-07, kernel=rbf, score=-0.000, total=   0.0s\n",
      "[CV] C=1, epsilon=1000, gamma=1e-08, kernel=rbf ......................\n",
      "[CV]  C=1, epsilon=1000, gamma=1e-08, kernel=rbf, score=-1.161, total=   0.0s\n",
      "[CV] C=1, epsilon=1000, gamma=1e-08, kernel=rbf ......................\n",
      "[CV]  C=1, epsilon=1000, gamma=1e-08, kernel=rbf, score=-0.627, total=   0.0s\n",
      "[CV] C=1, epsilon=1000, gamma=1e-08, kernel=rbf ......................\n",
      "[CV]  C=1, epsilon=1000, gamma=1e-08, kernel=rbf, score=-0.000, total=   0.0s\n",
      "[CV] C=10, epsilon=0.1, gamma=1, kernel=rbf ..........................\n",
      "[CV]  C=10, epsilon=0.1, gamma=1, kernel=rbf, score=-0.032, total=   0.0s\n",
      "[CV] C=10, epsilon=0.1, gamma=1, kernel=rbf ..........................\n",
      "[CV]  C=10, epsilon=0.1, gamma=1, kernel=rbf, score=-0.244, total=   0.0s\n",
      "[CV] C=10, epsilon=0.1, gamma=1, kernel=rbf ..........................\n",
      "[CV]  C=10, epsilon=0.1, gamma=1, kernel=rbf, score=-0.163, total=   0.0s\n",
      "[CV] C=10, epsilon=0.1, gamma=0.1, kernel=rbf ........................\n",
      "[CV]  C=10, epsilon=0.1, gamma=0.1, kernel=rbf, score=-0.061, total=   0.0s\n",
      "[CV] C=10, epsilon=0.1, gamma=0.1, kernel=rbf ........................\n",
      "[CV]  C=10, epsilon=0.1, gamma=0.1, kernel=rbf, score=-0.378, total=   0.0s\n",
      "[CV] C=10, epsilon=0.1, gamma=0.1, kernel=rbf ........................\n",
      "[CV]  C=10, epsilon=0.1, gamma=0.1, kernel=rbf, score=-0.160, total=   0.0s\n",
      "[CV] C=10, epsilon=0.1, gamma=0.01, kernel=rbf .......................\n",
      "[CV]  C=10, epsilon=0.1, gamma=0.01, kernel=rbf, score=-0.185, total=   0.0s\n",
      "[CV] C=10, epsilon=0.1, gamma=0.01, kernel=rbf .......................\n",
      "[CV]  C=10, epsilon=0.1, gamma=0.01, kernel=rbf, score=-0.412, total=   0.0s\n",
      "[CV] C=10, epsilon=0.1, gamma=0.01, kernel=rbf .......................\n",
      "[CV]  C=10, epsilon=0.1, gamma=0.01, kernel=rbf, score=-0.171, total=   0.0s\n",
      "[CV] C=10, epsilon=0.1, gamma=0.001, kernel=rbf ......................\n",
      "[CV]  C=10, epsilon=0.1, gamma=0.001, kernel=rbf, score=-0.116, total=   0.0s\n",
      "[CV] C=10, epsilon=0.1, gamma=0.001, kernel=rbf ......................\n",
      "[CV]  C=10, epsilon=0.1, gamma=0.001, kernel=rbf, score=-0.441, total=   0.0s\n",
      "[CV] C=10, epsilon=0.1, gamma=0.001, kernel=rbf ......................\n",
      "[CV]  C=10, epsilon=0.1, gamma=0.001, kernel=rbf, score=-0.175, total=   0.0s\n"
     ]
    },
    {
     "name": "stdout",
     "output_type": "stream",
     "text": [
      "[CV] C=10, epsilon=0.1, gamma=0.0001, kernel=rbf .....................\n",
      "[CV]  C=10, epsilon=0.1, gamma=0.0001, kernel=rbf, score=-0.074, total=   0.0s\n",
      "[CV] C=10, epsilon=0.1, gamma=0.0001, kernel=rbf .....................\n",
      "[CV]  C=10, epsilon=0.1, gamma=0.0001, kernel=rbf, score=-0.261, total=   0.0s\n",
      "[CV] C=10, epsilon=0.1, gamma=0.0001, kernel=rbf .....................\n",
      "[CV]  C=10, epsilon=0.1, gamma=0.0001, kernel=rbf, score=-0.161, total=   0.0s\n",
      "[CV] C=10, epsilon=0.1, gamma=1e-05, kernel=rbf ......................\n",
      "[CV]  C=10, epsilon=0.1, gamma=1e-05, kernel=rbf, score=-0.069, total=   0.0s\n",
      "[CV] C=10, epsilon=0.1, gamma=1e-05, kernel=rbf ......................\n",
      "[CV]  C=10, epsilon=0.1, gamma=1e-05, kernel=rbf, score=-0.230, total=   0.0s\n",
      "[CV] C=10, epsilon=0.1, gamma=1e-05, kernel=rbf ......................\n",
      "[CV]  C=10, epsilon=0.1, gamma=1e-05, kernel=rbf, score=-0.159, total=   0.0s\n",
      "[CV] C=10, epsilon=0.1, gamma=1e-06, kernel=rbf ......................\n",
      "[CV]  C=10, epsilon=0.1, gamma=1e-06, kernel=rbf, score=-0.068, total=   0.0s\n",
      "[CV] C=10, epsilon=0.1, gamma=1e-06, kernel=rbf ......................\n",
      "[CV]  C=10, epsilon=0.1, gamma=1e-06, kernel=rbf, score=-0.227, total=   0.0s\n",
      "[CV] C=10, epsilon=0.1, gamma=1e-06, kernel=rbf ......................\n",
      "[CV]  C=10, epsilon=0.1, gamma=1e-06, kernel=rbf, score=-0.159, total=   0.0s\n",
      "[CV] C=10, epsilon=0.1, gamma=1e-07, kernel=rbf ......................\n",
      "[CV]  C=10, epsilon=0.1, gamma=1e-07, kernel=rbf, score=-0.068, total=   0.0s\n",
      "[CV] C=10, epsilon=0.1, gamma=1e-07, kernel=rbf ......................\n",
      "[CV]  C=10, epsilon=0.1, gamma=1e-07, kernel=rbf, score=-0.226, total=   0.0s\n",
      "[CV] C=10, epsilon=0.1, gamma=1e-07, kernel=rbf ......................\n",
      "[CV]  C=10, epsilon=0.1, gamma=1e-07, kernel=rbf, score=-0.159, total=   0.0s\n",
      "[CV] C=10, epsilon=0.1, gamma=1e-08, kernel=rbf ......................\n",
      "[CV]  C=10, epsilon=0.1, gamma=1e-08, kernel=rbf, score=-0.068, total=   0.0s\n",
      "[CV] C=10, epsilon=0.1, gamma=1e-08, kernel=rbf ......................\n",
      "[CV]  C=10, epsilon=0.1, gamma=1e-08, kernel=rbf, score=-0.226, total=   0.0s\n",
      "[CV] C=10, epsilon=0.1, gamma=1e-08, kernel=rbf ......................\n",
      "[CV]  C=10, epsilon=0.1, gamma=1e-08, kernel=rbf, score=-0.159, total=   0.0s\n",
      "[CV] C=10, epsilon=1, gamma=1, kernel=rbf ............................\n",
      "[CV]  C=10, epsilon=1, gamma=1, kernel=rbf, score=-0.033, total=   0.0s\n",
      "[CV] C=10, epsilon=1, gamma=1, kernel=rbf ............................\n",
      "[CV]  C=10, epsilon=1, gamma=1, kernel=rbf, score=-0.238, total=   0.0s\n",
      "[CV] C=10, epsilon=1, gamma=1, kernel=rbf ............................\n",
      "[CV]  C=10, epsilon=1, gamma=1, kernel=rbf, score=-0.161, total=   0.0s\n",
      "[CV] C=10, epsilon=1, gamma=0.1, kernel=rbf ..........................\n",
      "[CV]  C=10, epsilon=1, gamma=0.1, kernel=rbf, score=-0.061, total=   0.0s\n",
      "[CV] C=10, epsilon=1, gamma=0.1, kernel=rbf ..........................\n",
      "[CV]  C=10, epsilon=1, gamma=0.1, kernel=rbf, score=-0.355, total=   0.0s\n",
      "[CV] C=10, epsilon=1, gamma=0.1, kernel=rbf ..........................\n",
      "[CV]  C=10, epsilon=1, gamma=0.1, kernel=rbf, score=-0.150, total=   0.0s\n",
      "[CV] C=10, epsilon=1, gamma=0.01, kernel=rbf .........................\n",
      "[CV]  C=10, epsilon=1, gamma=0.01, kernel=rbf, score=-0.176, total=   0.0s\n",
      "[CV] C=10, epsilon=1, gamma=0.01, kernel=rbf .........................\n",
      "[CV]  C=10, epsilon=1, gamma=0.01, kernel=rbf, score=-0.379, total=   0.0s\n",
      "[CV] C=10, epsilon=1, gamma=0.01, kernel=rbf .........................\n",
      "[CV]  C=10, epsilon=1, gamma=0.01, kernel=rbf, score=-0.169, total=   0.0s\n",
      "[CV] C=10, epsilon=1, gamma=0.001, kernel=rbf ........................\n",
      "[CV]  C=10, epsilon=1, gamma=0.001, kernel=rbf, score=-0.115, total=   0.0s\n",
      "[CV] C=10, epsilon=1, gamma=0.001, kernel=rbf ........................\n",
      "[CV]  C=10, epsilon=1, gamma=0.001, kernel=rbf, score=-0.405, total=   0.0s\n",
      "[CV] C=10, epsilon=1, gamma=0.001, kernel=rbf ........................\n",
      "[CV]  C=10, epsilon=1, gamma=0.001, kernel=rbf, score=-0.174, total=   0.0s\n",
      "[CV] C=10, epsilon=1, gamma=0.0001, kernel=rbf .......................\n",
      "[CV]  C=10, epsilon=1, gamma=0.0001, kernel=rbf, score=-0.074, total=   0.0s\n",
      "[CV] C=10, epsilon=1, gamma=0.0001, kernel=rbf .......................\n",
      "[CV]  C=10, epsilon=1, gamma=0.0001, kernel=rbf, score=-0.261, total=   0.0s\n",
      "[CV] C=10, epsilon=1, gamma=0.0001, kernel=rbf .......................\n",
      "[CV]  C=10, epsilon=1, gamma=0.0001, kernel=rbf, score=-0.155, total=   0.0s\n",
      "[CV] C=10, epsilon=1, gamma=1e-05, kernel=rbf ........................\n",
      "[CV]  C=10, epsilon=1, gamma=1e-05, kernel=rbf, score=-0.069, total=   0.0s\n",
      "[CV] C=10, epsilon=1, gamma=1e-05, kernel=rbf ........................\n",
      "[CV]  C=10, epsilon=1, gamma=1e-05, kernel=rbf, score=-0.230, total=   0.0s\n",
      "[CV] C=10, epsilon=1, gamma=1e-05, kernel=rbf ........................\n",
      "[CV]  C=10, epsilon=1, gamma=1e-05, kernel=rbf, score=-0.152, total=   0.0s\n",
      "[CV] C=10, epsilon=1, gamma=1e-06, kernel=rbf ........................\n",
      "[CV]  C=10, epsilon=1, gamma=1e-06, kernel=rbf, score=-0.068, total=   0.0s\n",
      "[CV] C=10, epsilon=1, gamma=1e-06, kernel=rbf ........................\n",
      "[CV]  C=10, epsilon=1, gamma=1e-06, kernel=rbf, score=-0.227, total=   0.0s\n",
      "[CV] C=10, epsilon=1, gamma=1e-06, kernel=rbf ........................\n",
      "[CV]  C=10, epsilon=1, gamma=1e-06, kernel=rbf, score=-0.152, total=   0.0s\n",
      "[CV] C=10, epsilon=1, gamma=1e-07, kernel=rbf ........................\n",
      "[CV]  C=10, epsilon=1, gamma=1e-07, kernel=rbf, score=-0.068, total=   0.0s\n",
      "[CV] C=10, epsilon=1, gamma=1e-07, kernel=rbf ........................\n",
      "[CV]  C=10, epsilon=1, gamma=1e-07, kernel=rbf, score=-0.226, total=   0.0s\n",
      "[CV] C=10, epsilon=1, gamma=1e-07, kernel=rbf ........................\n",
      "[CV]  C=10, epsilon=1, gamma=1e-07, kernel=rbf, score=-0.152, total=   0.0s\n",
      "[CV] C=10, epsilon=1, gamma=1e-08, kernel=rbf ........................\n",
      "[CV]  C=10, epsilon=1, gamma=1e-08, kernel=rbf, score=-0.068, total=   0.0s\n",
      "[CV] C=10, epsilon=1, gamma=1e-08, kernel=rbf ........................\n",
      "[CV]  C=10, epsilon=1, gamma=1e-08, kernel=rbf, score=-0.226, total=   0.0s\n",
      "[CV] C=10, epsilon=1, gamma=1e-08, kernel=rbf ........................\n",
      "[CV]  C=10, epsilon=1, gamma=1e-08, kernel=rbf, score=-0.152, total=   0.0s\n",
      "[CV] C=10, epsilon=10, gamma=1, kernel=rbf ...........................\n",
      "[CV]  C=10, epsilon=10, gamma=1, kernel=rbf, score=-0.012, total=   0.0s\n",
      "[CV] C=10, epsilon=10, gamma=1, kernel=rbf ...........................\n",
      "[CV]  C=10, epsilon=10, gamma=1, kernel=rbf, score=-0.126, total=   0.0s\n",
      "[CV] C=10, epsilon=10, gamma=1, kernel=rbf ...........................\n",
      "[CV]  C=10, epsilon=10, gamma=1, kernel=rbf, score=-0.129, total=   0.0s\n",
      "[CV] C=10, epsilon=10, gamma=0.1, kernel=rbf .........................\n",
      "[CV]  C=10, epsilon=10, gamma=0.1, kernel=rbf, score=-0.051, total=   0.0s\n",
      "[CV] C=10, epsilon=10, gamma=0.1, kernel=rbf .........................\n",
      "[CV]  C=10, epsilon=10, gamma=0.1, kernel=rbf, score=-0.169, total=   0.0s\n",
      "[CV] C=10, epsilon=10, gamma=0.1, kernel=rbf .........................\n",
      "[CV]  C=10, epsilon=10, gamma=0.1, kernel=rbf, score=-0.084, total=   0.0s\n",
      "[CV] C=10, epsilon=10, gamma=0.01, kernel=rbf ........................\n",
      "[CV]  C=10, epsilon=10, gamma=0.01, kernel=rbf, score=-0.094, total=   0.0s\n",
      "[CV] C=10, epsilon=10, gamma=0.01, kernel=rbf ........................\n",
      "[CV]  C=10, epsilon=10, gamma=0.01, kernel=rbf, score=-0.191, total=   0.0s\n",
      "[CV] C=10, epsilon=10, gamma=0.01, kernel=rbf ........................\n",
      "[CV]  C=10, epsilon=10, gamma=0.01, kernel=rbf, score=-0.170, total=   0.0s\n",
      "[CV] C=10, epsilon=10, gamma=0.001, kernel=rbf .......................\n",
      "[CV]  C=10, epsilon=10, gamma=0.001, kernel=rbf, score=-0.046, total=   0.0s\n",
      "[CV] C=10, epsilon=10, gamma=0.001, kernel=rbf .......................\n",
      "[CV]  C=10, epsilon=10, gamma=0.001, kernel=rbf, score=-0.237, total=   0.0s\n",
      "[CV] C=10, epsilon=10, gamma=0.001, kernel=rbf .......................\n",
      "[CV]  C=10, epsilon=10, gamma=0.001, kernel=rbf, score=-0.135, total=   0.0s\n",
      "[CV] C=10, epsilon=10, gamma=0.0001, kernel=rbf ......................\n",
      "[CV]  C=10, epsilon=10, gamma=0.0001, kernel=rbf, score=-0.029, total=   0.0s\n",
      "[CV] C=10, epsilon=10, gamma=0.0001, kernel=rbf ......................\n",
      "[CV]  C=10, epsilon=10, gamma=0.0001, kernel=rbf, score=-0.214, total=   0.0s\n",
      "[CV] C=10, epsilon=10, gamma=0.0001, kernel=rbf ......................\n",
      "[CV]  C=10, epsilon=10, gamma=0.0001, kernel=rbf, score=-0.127, total=   0.0s\n",
      "[CV] C=10, epsilon=10, gamma=1e-05, kernel=rbf .......................\n"
     ]
    },
    {
     "name": "stdout",
     "output_type": "stream",
     "text": [
      "[CV]  C=10, epsilon=10, gamma=1e-05, kernel=rbf, score=-0.027, total=   0.0s\n",
      "[CV] C=10, epsilon=10, gamma=1e-05, kernel=rbf .......................\n",
      "[CV]  C=10, epsilon=10, gamma=1e-05, kernel=rbf, score=-0.211, total=   0.0s\n",
      "[CV] C=10, epsilon=10, gamma=1e-05, kernel=rbf .......................\n",
      "[CV]  C=10, epsilon=10, gamma=1e-05, kernel=rbf, score=-0.127, total=   0.0s\n",
      "[CV] C=10, epsilon=10, gamma=1e-06, kernel=rbf .......................\n",
      "[CV]  C=10, epsilon=10, gamma=1e-06, kernel=rbf, score=-0.027, total=   0.0s\n",
      "[CV] C=10, epsilon=10, gamma=1e-06, kernel=rbf .......................\n",
      "[CV]  C=10, epsilon=10, gamma=1e-06, kernel=rbf, score=-0.211, total=   0.0s\n",
      "[CV] C=10, epsilon=10, gamma=1e-06, kernel=rbf .......................\n",
      "[CV]  C=10, epsilon=10, gamma=1e-06, kernel=rbf, score=-0.127, total=   0.0s\n",
      "[CV] C=10, epsilon=10, gamma=1e-07, kernel=rbf .......................\n",
      "[CV]  C=10, epsilon=10, gamma=1e-07, kernel=rbf, score=-0.027, total=   0.0s\n",
      "[CV] C=10, epsilon=10, gamma=1e-07, kernel=rbf .......................\n",
      "[CV]  C=10, epsilon=10, gamma=1e-07, kernel=rbf, score=-0.211, total=   0.0s\n",
      "[CV] C=10, epsilon=10, gamma=1e-07, kernel=rbf .......................\n",
      "[CV]  C=10, epsilon=10, gamma=1e-07, kernel=rbf, score=-0.127, total=   0.0s\n",
      "[CV] C=10, epsilon=10, gamma=1e-08, kernel=rbf .......................\n",
      "[CV]  C=10, epsilon=10, gamma=1e-08, kernel=rbf, score=-0.027, total=   0.0s\n",
      "[CV] C=10, epsilon=10, gamma=1e-08, kernel=rbf .......................\n",
      "[CV]  C=10, epsilon=10, gamma=1e-08, kernel=rbf, score=-0.211, total=   0.0s\n",
      "[CV] C=10, epsilon=10, gamma=1e-08, kernel=rbf .......................\n",
      "[CV]  C=10, epsilon=10, gamma=1e-08, kernel=rbf, score=-0.127, total=   0.0s\n",
      "[CV] C=10, epsilon=100, gamma=1, kernel=rbf ..........................\n",
      "[CV]  C=10, epsilon=100, gamma=1, kernel=rbf, score=-1.161, total=   0.0s\n",
      "[CV] C=10, epsilon=100, gamma=1, kernel=rbf ..........................\n",
      "[CV]  C=10, epsilon=100, gamma=1, kernel=rbf, score=-0.627, total=   0.0s\n",
      "[CV] C=10, epsilon=100, gamma=1, kernel=rbf ..........................\n",
      "[CV]  C=10, epsilon=100, gamma=1, kernel=rbf, score=-0.000, total=   0.0s\n",
      "[CV] C=10, epsilon=100, gamma=0.1, kernel=rbf ........................\n",
      "[CV]  C=10, epsilon=100, gamma=0.1, kernel=rbf, score=-1.161, total=   0.0s\n",
      "[CV] C=10, epsilon=100, gamma=0.1, kernel=rbf ........................\n",
      "[CV]  C=10, epsilon=100, gamma=0.1, kernel=rbf, score=-0.627, total=   0.0s\n",
      "[CV] C=10, epsilon=100, gamma=0.1, kernel=rbf ........................\n",
      "[CV]  C=10, epsilon=100, gamma=0.1, kernel=rbf, score=-0.000, total=   0.0s\n",
      "[CV] C=10, epsilon=100, gamma=0.01, kernel=rbf .......................\n",
      "[CV]  C=10, epsilon=100, gamma=0.01, kernel=rbf, score=-1.161, total=   0.0s\n",
      "[CV] C=10, epsilon=100, gamma=0.01, kernel=rbf .......................\n",
      "[CV]  C=10, epsilon=100, gamma=0.01, kernel=rbf, score=-0.627, total=   0.0s\n",
      "[CV] C=10, epsilon=100, gamma=0.01, kernel=rbf .......................\n",
      "[CV]  C=10, epsilon=100, gamma=0.01, kernel=rbf, score=-0.000, total=   0.0s\n",
      "[CV] C=10, epsilon=100, gamma=0.001, kernel=rbf ......................\n",
      "[CV]  C=10, epsilon=100, gamma=0.001, kernel=rbf, score=-1.161, total=   0.0s\n",
      "[CV] C=10, epsilon=100, gamma=0.001, kernel=rbf ......................\n",
      "[CV]  C=10, epsilon=100, gamma=0.001, kernel=rbf, score=-0.627, total=   0.0s\n",
      "[CV] C=10, epsilon=100, gamma=0.001, kernel=rbf ......................\n",
      "[CV]  C=10, epsilon=100, gamma=0.001, kernel=rbf, score=-0.000, total=   0.0s\n",
      "[CV] C=10, epsilon=100, gamma=0.0001, kernel=rbf .....................\n",
      "[CV]  C=10, epsilon=100, gamma=0.0001, kernel=rbf, score=-1.161, total=   0.0s\n",
      "[CV] C=10, epsilon=100, gamma=0.0001, kernel=rbf .....................\n",
      "[CV]  C=10, epsilon=100, gamma=0.0001, kernel=rbf, score=-0.627, total=   0.0s\n",
      "[CV] C=10, epsilon=100, gamma=0.0001, kernel=rbf .....................\n",
      "[CV]  C=10, epsilon=100, gamma=0.0001, kernel=rbf, score=-0.000, total=   0.0s\n",
      "[CV] C=10, epsilon=100, gamma=1e-05, kernel=rbf ......................\n",
      "[CV]  C=10, epsilon=100, gamma=1e-05, kernel=rbf, score=-1.161, total=   0.0s\n",
      "[CV] C=10, epsilon=100, gamma=1e-05, kernel=rbf ......................\n",
      "[CV]  C=10, epsilon=100, gamma=1e-05, kernel=rbf, score=-0.627, total=   0.0s\n",
      "[CV] C=10, epsilon=100, gamma=1e-05, kernel=rbf ......................\n",
      "[CV]  C=10, epsilon=100, gamma=1e-05, kernel=rbf, score=-0.000, total=   0.0s\n",
      "[CV] C=10, epsilon=100, gamma=1e-06, kernel=rbf ......................\n",
      "[CV]  C=10, epsilon=100, gamma=1e-06, kernel=rbf, score=-1.161, total=   0.0s\n",
      "[CV] C=10, epsilon=100, gamma=1e-06, kernel=rbf ......................\n",
      "[CV]  C=10, epsilon=100, gamma=1e-06, kernel=rbf, score=-0.627, total=   0.0s\n",
      "[CV] C=10, epsilon=100, gamma=1e-06, kernel=rbf ......................\n",
      "[CV]  C=10, epsilon=100, gamma=1e-06, kernel=rbf, score=-0.000, total=   0.0s\n",
      "[CV] C=10, epsilon=100, gamma=1e-07, kernel=rbf ......................\n",
      "[CV]  C=10, epsilon=100, gamma=1e-07, kernel=rbf, score=-1.161, total=   0.0s\n",
      "[CV] C=10, epsilon=100, gamma=1e-07, kernel=rbf ......................\n",
      "[CV]  C=10, epsilon=100, gamma=1e-07, kernel=rbf, score=-0.627, total=   0.0s\n",
      "[CV] C=10, epsilon=100, gamma=1e-07, kernel=rbf ......................\n",
      "[CV]  C=10, epsilon=100, gamma=1e-07, kernel=rbf, score=-0.000, total=   0.0s\n",
      "[CV] C=10, epsilon=100, gamma=1e-08, kernel=rbf ......................\n",
      "[CV]  C=10, epsilon=100, gamma=1e-08, kernel=rbf, score=-1.161, total=   0.0s\n",
      "[CV] C=10, epsilon=100, gamma=1e-08, kernel=rbf ......................\n",
      "[CV]  C=10, epsilon=100, gamma=1e-08, kernel=rbf, score=-0.627, total=   0.0s\n",
      "[CV] C=10, epsilon=100, gamma=1e-08, kernel=rbf ......................\n",
      "[CV]  C=10, epsilon=100, gamma=1e-08, kernel=rbf, score=-0.000, total=   0.0s\n",
      "[CV] C=10, epsilon=1000, gamma=1, kernel=rbf .........................\n",
      "[CV]  C=10, epsilon=1000, gamma=1, kernel=rbf, score=-1.161, total=   0.0s\n",
      "[CV] C=10, epsilon=1000, gamma=1, kernel=rbf .........................\n",
      "[CV]  C=10, epsilon=1000, gamma=1, kernel=rbf, score=-0.627, total=   0.0s\n",
      "[CV] C=10, epsilon=1000, gamma=1, kernel=rbf .........................\n",
      "[CV]  C=10, epsilon=1000, gamma=1, kernel=rbf, score=-0.000, total=   0.0s\n",
      "[CV] C=10, epsilon=1000, gamma=0.1, kernel=rbf .......................\n",
      "[CV]  C=10, epsilon=1000, gamma=0.1, kernel=rbf, score=-1.161, total=   0.0s\n",
      "[CV] C=10, epsilon=1000, gamma=0.1, kernel=rbf .......................\n",
      "[CV]  C=10, epsilon=1000, gamma=0.1, kernel=rbf, score=-0.627, total=   0.0s\n",
      "[CV] C=10, epsilon=1000, gamma=0.1, kernel=rbf .......................\n",
      "[CV]  C=10, epsilon=1000, gamma=0.1, kernel=rbf, score=-0.000, total=   0.0s\n",
      "[CV] C=10, epsilon=1000, gamma=0.01, kernel=rbf ......................\n",
      "[CV]  C=10, epsilon=1000, gamma=0.01, kernel=rbf, score=-1.161, total=   0.0s\n",
      "[CV] C=10, epsilon=1000, gamma=0.01, kernel=rbf ......................\n",
      "[CV]  C=10, epsilon=1000, gamma=0.01, kernel=rbf, score=-0.627, total=   0.0s\n",
      "[CV] C=10, epsilon=1000, gamma=0.01, kernel=rbf ......................\n",
      "[CV]  C=10, epsilon=1000, gamma=0.01, kernel=rbf, score=-0.000, total=   0.0s\n",
      "[CV] C=10, epsilon=1000, gamma=0.001, kernel=rbf .....................\n",
      "[CV]  C=10, epsilon=1000, gamma=0.001, kernel=rbf, score=-1.161, total=   0.0s\n",
      "[CV] C=10, epsilon=1000, gamma=0.001, kernel=rbf .....................\n",
      "[CV]  C=10, epsilon=1000, gamma=0.001, kernel=rbf, score=-0.627, total=   0.0s\n",
      "[CV] C=10, epsilon=1000, gamma=0.001, kernel=rbf .....................\n",
      "[CV]  C=10, epsilon=1000, gamma=0.001, kernel=rbf, score=-0.000, total=   0.0s\n",
      "[CV] C=10, epsilon=1000, gamma=0.0001, kernel=rbf ....................\n",
      "[CV]  C=10, epsilon=1000, gamma=0.0001, kernel=rbf, score=-1.161, total=   0.0s\n",
      "[CV] C=10, epsilon=1000, gamma=0.0001, kernel=rbf ....................\n",
      "[CV]  C=10, epsilon=1000, gamma=0.0001, kernel=rbf, score=-0.627, total=   0.0s\n",
      "[CV] C=10, epsilon=1000, gamma=0.0001, kernel=rbf ....................\n",
      "[CV]  C=10, epsilon=1000, gamma=0.0001, kernel=rbf, score=-0.000, total=   0.0s\n",
      "[CV] C=10, epsilon=1000, gamma=1e-05, kernel=rbf .....................\n",
      "[CV]  C=10, epsilon=1000, gamma=1e-05, kernel=rbf, score=-1.161, total=   0.0s\n",
      "[CV] C=10, epsilon=1000, gamma=1e-05, kernel=rbf .....................\n",
      "[CV]  C=10, epsilon=1000, gamma=1e-05, kernel=rbf, score=-0.627, total=   0.0s\n",
      "[CV] C=10, epsilon=1000, gamma=1e-05, kernel=rbf .....................\n",
      "[CV]  C=10, epsilon=1000, gamma=1e-05, kernel=rbf, score=-0.000, total=   0.0s\n",
      "[CV] C=10, epsilon=1000, gamma=1e-06, kernel=rbf .....................\n"
     ]
    },
    {
     "name": "stdout",
     "output_type": "stream",
     "text": [
      "[CV]  C=10, epsilon=1000, gamma=1e-06, kernel=rbf, score=-1.161, total=   0.0s\n",
      "[CV] C=10, epsilon=1000, gamma=1e-06, kernel=rbf .....................\n",
      "[CV]  C=10, epsilon=1000, gamma=1e-06, kernel=rbf, score=-0.627, total=   0.0s\n",
      "[CV] C=10, epsilon=1000, gamma=1e-06, kernel=rbf .....................\n",
      "[CV]  C=10, epsilon=1000, gamma=1e-06, kernel=rbf, score=-0.000, total=   0.0s\n",
      "[CV] C=10, epsilon=1000, gamma=1e-07, kernel=rbf .....................\n",
      "[CV]  C=10, epsilon=1000, gamma=1e-07, kernel=rbf, score=-1.161, total=   0.0s\n",
      "[CV] C=10, epsilon=1000, gamma=1e-07, kernel=rbf .....................\n",
      "[CV]  C=10, epsilon=1000, gamma=1e-07, kernel=rbf, score=-0.627, total=   0.0s\n",
      "[CV] C=10, epsilon=1000, gamma=1e-07, kernel=rbf .....................\n",
      "[CV]  C=10, epsilon=1000, gamma=1e-07, kernel=rbf, score=-0.000, total=   0.0s\n",
      "[CV] C=10, epsilon=1000, gamma=1e-08, kernel=rbf .....................\n",
      "[CV]  C=10, epsilon=1000, gamma=1e-08, kernel=rbf, score=-1.161, total=   0.0s\n",
      "[CV] C=10, epsilon=1000, gamma=1e-08, kernel=rbf .....................\n",
      "[CV]  C=10, epsilon=1000, gamma=1e-08, kernel=rbf, score=-0.627, total=   0.0s\n",
      "[CV] C=10, epsilon=1000, gamma=1e-08, kernel=rbf .....................\n",
      "[CV]  C=10, epsilon=1000, gamma=1e-08, kernel=rbf, score=-0.000, total=   0.0s\n",
      "[CV] C=100, epsilon=0.1, gamma=1, kernel=rbf .........................\n",
      "[CV]  C=100, epsilon=0.1, gamma=1, kernel=rbf, score=-0.098, total=   0.0s\n",
      "[CV] C=100, epsilon=0.1, gamma=1, kernel=rbf .........................\n",
      "[CV]  C=100, epsilon=0.1, gamma=1, kernel=rbf, score=-0.003, total=   0.0s\n",
      "[CV] C=100, epsilon=0.1, gamma=1, kernel=rbf .........................\n",
      "[CV]  C=100, epsilon=0.1, gamma=1, kernel=rbf, score=-0.076, total=   0.0s\n",
      "[CV] C=100, epsilon=0.1, gamma=0.1, kernel=rbf .......................\n",
      "[CV]  C=100, epsilon=0.1, gamma=0.1, kernel=rbf, score=-0.443, total=   0.0s\n",
      "[CV] C=100, epsilon=0.1, gamma=0.1, kernel=rbf .......................\n",
      "[CV]  C=100, epsilon=0.1, gamma=0.1, kernel=rbf, score=-0.771, total=   0.0s\n",
      "[CV] C=100, epsilon=0.1, gamma=0.1, kernel=rbf .......................\n",
      "[CV]  C=100, epsilon=0.1, gamma=0.1, kernel=rbf, score=-0.318, total=   0.0s\n",
      "[CV] C=100, epsilon=0.1, gamma=0.01, kernel=rbf ......................\n",
      "[CV]  C=100, epsilon=0.1, gamma=0.01, kernel=rbf, score=-0.422, total=   0.0s\n",
      "[CV] C=100, epsilon=0.1, gamma=0.01, kernel=rbf ......................\n",
      "[CV]  C=100, epsilon=0.1, gamma=0.01, kernel=rbf, score=-0.493, total=   0.0s\n",
      "[CV] C=100, epsilon=0.1, gamma=0.01, kernel=rbf ......................\n",
      "[CV]  C=100, epsilon=0.1, gamma=0.01, kernel=rbf, score=-0.278, total=   0.0s\n",
      "[CV] C=100, epsilon=0.1, gamma=0.001, kernel=rbf .....................\n",
      "[CV]  C=100, epsilon=0.1, gamma=0.001, kernel=rbf, score=-0.250, total=   0.0s\n",
      "[CV] C=100, epsilon=0.1, gamma=0.001, kernel=rbf .....................\n",
      "[CV]  C=100, epsilon=0.1, gamma=0.001, kernel=rbf, score=-0.412, total=   0.0s\n",
      "[CV] C=100, epsilon=0.1, gamma=0.001, kernel=rbf .....................\n",
      "[CV]  C=100, epsilon=0.1, gamma=0.001, kernel=rbf, score=-0.199, total=   0.0s\n",
      "[CV] C=100, epsilon=0.1, gamma=0.0001, kernel=rbf ....................\n",
      "[CV]  C=100, epsilon=0.1, gamma=0.0001, kernel=rbf, score=-0.125, total=   0.0s\n",
      "[CV] C=100, epsilon=0.1, gamma=0.0001, kernel=rbf ....................\n",
      "[CV]  C=100, epsilon=0.1, gamma=0.0001, kernel=rbf, score=-0.469, total=   0.0s\n",
      "[CV] C=100, epsilon=0.1, gamma=0.0001, kernel=rbf ....................\n",
      "[CV]  C=100, epsilon=0.1, gamma=0.0001, kernel=rbf, score=-0.183, total=   0.0s\n",
      "[CV] C=100, epsilon=0.1, gamma=1e-05, kernel=rbf .....................\n",
      "[CV]  C=100, epsilon=0.1, gamma=1e-05, kernel=rbf, score=-0.074, total=   0.0s\n",
      "[CV] C=100, epsilon=0.1, gamma=1e-05, kernel=rbf .....................\n",
      "[CV]  C=100, epsilon=0.1, gamma=1e-05, kernel=rbf, score=-0.263, total=   0.0s\n",
      "[CV] C=100, epsilon=0.1, gamma=1e-05, kernel=rbf .....................\n",
      "[CV]  C=100, epsilon=0.1, gamma=1e-05, kernel=rbf, score=-0.161, total=   0.0s\n",
      "[CV] C=100, epsilon=0.1, gamma=1e-06, kernel=rbf .....................\n",
      "[CV]  C=100, epsilon=0.1, gamma=1e-06, kernel=rbf, score=-0.069, total=   0.0s\n",
      "[CV] C=100, epsilon=0.1, gamma=1e-06, kernel=rbf .....................\n",
      "[CV]  C=100, epsilon=0.1, gamma=1e-06, kernel=rbf, score=-0.230, total=   0.0s\n",
      "[CV] C=100, epsilon=0.1, gamma=1e-06, kernel=rbf .....................\n",
      "[CV]  C=100, epsilon=0.1, gamma=1e-06, kernel=rbf, score=-0.159, total=   0.0s\n",
      "[CV] C=100, epsilon=0.1, gamma=1e-07, kernel=rbf .....................\n",
      "[CV]  C=100, epsilon=0.1, gamma=1e-07, kernel=rbf, score=-0.068, total=   0.0s\n",
      "[CV] C=100, epsilon=0.1, gamma=1e-07, kernel=rbf .....................\n",
      "[CV]  C=100, epsilon=0.1, gamma=1e-07, kernel=rbf, score=-0.227, total=   0.0s\n",
      "[CV] C=100, epsilon=0.1, gamma=1e-07, kernel=rbf .....................\n",
      "[CV]  C=100, epsilon=0.1, gamma=1e-07, kernel=rbf, score=-0.159, total=   0.0s\n",
      "[CV] C=100, epsilon=0.1, gamma=1e-08, kernel=rbf .....................\n",
      "[CV]  C=100, epsilon=0.1, gamma=1e-08, kernel=rbf, score=-0.068, total=   0.0s\n",
      "[CV] C=100, epsilon=0.1, gamma=1e-08, kernel=rbf .....................\n",
      "[CV]  C=100, epsilon=0.1, gamma=1e-08, kernel=rbf, score=-0.226, total=   0.0s\n",
      "[CV] C=100, epsilon=0.1, gamma=1e-08, kernel=rbf .....................\n",
      "[CV]  C=100, epsilon=0.1, gamma=1e-08, kernel=rbf, score=-0.159, total=   0.0s\n",
      "[CV] C=100, epsilon=1, gamma=1, kernel=rbf ...........................\n",
      "[CV]  C=100, epsilon=1, gamma=1, kernel=rbf, score=-0.100, total=   0.0s\n",
      "[CV] C=100, epsilon=1, gamma=1, kernel=rbf ...........................\n",
      "[CV]  C=100, epsilon=1, gamma=1, kernel=rbf, score=-0.003, total=   0.0s\n",
      "[CV] C=100, epsilon=1, gamma=1, kernel=rbf ...........................\n",
      "[CV]  C=100, epsilon=1, gamma=1, kernel=rbf, score=-0.074, total=   0.0s\n",
      "[CV] C=100, epsilon=1, gamma=0.1, kernel=rbf .........................\n",
      "[CV]  C=100, epsilon=1, gamma=0.1, kernel=rbf, score=-0.434, total=   0.0s\n",
      "[CV] C=100, epsilon=1, gamma=0.1, kernel=rbf .........................\n",
      "[CV]  C=100, epsilon=1, gamma=0.1, kernel=rbf, score=-0.749, total=   0.0s\n",
      "[CV] C=100, epsilon=1, gamma=0.1, kernel=rbf .........................\n",
      "[CV]  C=100, epsilon=1, gamma=0.1, kernel=rbf, score=-0.314, total=   0.0s\n",
      "[CV] C=100, epsilon=1, gamma=0.01, kernel=rbf ........................\n",
      "[CV]  C=100, epsilon=1, gamma=0.01, kernel=rbf, score=-0.417, total=   0.0s\n",
      "[CV] C=100, epsilon=1, gamma=0.01, kernel=rbf ........................\n",
      "[CV]  C=100, epsilon=1, gamma=0.01, kernel=rbf, score=-0.494, total=   0.0s\n",
      "[CV] C=100, epsilon=1, gamma=0.01, kernel=rbf ........................\n",
      "[CV]  C=100, epsilon=1, gamma=0.01, kernel=rbf, score=-0.273, total=   0.0s\n",
      "[CV] C=100, epsilon=1, gamma=0.001, kernel=rbf .......................\n",
      "[CV]  C=100, epsilon=1, gamma=0.001, kernel=rbf, score=-0.239, total=   0.0s\n",
      "[CV] C=100, epsilon=1, gamma=0.001, kernel=rbf .......................\n",
      "[CV]  C=100, epsilon=1, gamma=0.001, kernel=rbf, score=-0.406, total=   0.0s\n",
      "[CV] C=100, epsilon=1, gamma=0.001, kernel=rbf .......................\n",
      "[CV]  C=100, epsilon=1, gamma=0.001, kernel=rbf, score=-0.194, total=   0.0s\n",
      "[CV] C=100, epsilon=1, gamma=0.0001, kernel=rbf ......................\n",
      "[CV]  C=100, epsilon=1, gamma=0.0001, kernel=rbf, score=-0.110, total=   0.0s\n",
      "[CV] C=100, epsilon=1, gamma=0.0001, kernel=rbf ......................\n",
      "[CV]  C=100, epsilon=1, gamma=0.0001, kernel=rbf, score=-0.433, total=   0.0s\n",
      "[CV] C=100, epsilon=1, gamma=0.0001, kernel=rbf ......................\n",
      "[CV]  C=100, epsilon=1, gamma=0.0001, kernel=rbf, score=-0.170, total=   0.0s\n",
      "[CV] C=100, epsilon=1, gamma=1e-05, kernel=rbf .......................\n",
      "[CV]  C=100, epsilon=1, gamma=1e-05, kernel=rbf, score=-0.074, total=   0.0s\n",
      "[CV] C=100, epsilon=1, gamma=1e-05, kernel=rbf .......................\n",
      "[CV]  C=100, epsilon=1, gamma=1e-05, kernel=rbf, score=-0.263, total=   0.0s\n",
      "[CV] C=100, epsilon=1, gamma=1e-05, kernel=rbf .......................\n",
      "[CV]  C=100, epsilon=1, gamma=1e-05, kernel=rbf, score=-0.155, total=   0.0s\n",
      "[CV] C=100, epsilon=1, gamma=1e-06, kernel=rbf .......................\n",
      "[CV]  C=100, epsilon=1, gamma=1e-06, kernel=rbf, score=-0.069, total=   0.0s\n",
      "[CV] C=100, epsilon=1, gamma=1e-06, kernel=rbf .......................\n",
      "[CV]  C=100, epsilon=1, gamma=1e-06, kernel=rbf, score=-0.230, total=   0.0s\n",
      "[CV] C=100, epsilon=1, gamma=1e-06, kernel=rbf .......................\n",
      "[CV]  C=100, epsilon=1, gamma=1e-06, kernel=rbf, score=-0.152, total=   0.0s\n",
      "[CV] C=100, epsilon=1, gamma=1e-07, kernel=rbf .......................\n",
      "[CV]  C=100, epsilon=1, gamma=1e-07, kernel=rbf, score=-0.068, total=   0.0s\n",
      "[CV] C=100, epsilon=1, gamma=1e-07, kernel=rbf .......................\n",
      "[CV]  C=100, epsilon=1, gamma=1e-07, kernel=rbf, score=-0.227, total=   0.0s\n",
      "[CV] C=100, epsilon=1, gamma=1e-07, kernel=rbf .......................\n",
      "[CV]  C=100, epsilon=1, gamma=1e-07, kernel=rbf, score=-0.152, total=   0.0s\n",
      "[CV] C=100, epsilon=1, gamma=1e-08, kernel=rbf .......................\n"
     ]
    },
    {
     "name": "stdout",
     "output_type": "stream",
     "text": [
      "[CV]  C=100, epsilon=1, gamma=1e-08, kernel=rbf, score=-0.068, total=   0.0s\n",
      "[CV] C=100, epsilon=1, gamma=1e-08, kernel=rbf .......................\n",
      "[CV]  C=100, epsilon=1, gamma=1e-08, kernel=rbf, score=-0.226, total=   0.0s\n",
      "[CV] C=100, epsilon=1, gamma=1e-08, kernel=rbf .......................\n",
      "[CV]  C=100, epsilon=1, gamma=1e-08, kernel=rbf, score=-0.152, total=   0.0s\n",
      "[CV] C=100, epsilon=10, gamma=1, kernel=rbf ..........................\n",
      "[CV]  C=100, epsilon=10, gamma=1, kernel=rbf, score=-0.133, total=   0.0s\n",
      "[CV] C=100, epsilon=10, gamma=1, kernel=rbf ..........................\n",
      "[CV]  C=100, epsilon=10, gamma=1, kernel=rbf, score=-0.006, total=   0.0s\n",
      "[CV] C=100, epsilon=10, gamma=1, kernel=rbf ..........................\n",
      "[CV]  C=100, epsilon=10, gamma=1, kernel=rbf, score=-0.060, total=   0.0s\n",
      "[CV] C=100, epsilon=10, gamma=0.1, kernel=rbf ........................\n",
      "[CV]  C=100, epsilon=10, gamma=0.1, kernel=rbf, score=-0.293, total=   0.0s\n",
      "[CV] C=100, epsilon=10, gamma=0.1, kernel=rbf ........................\n",
      "[CV]  C=100, epsilon=10, gamma=0.1, kernel=rbf, score=-0.562, total=   0.0s\n",
      "[CV] C=100, epsilon=10, gamma=0.1, kernel=rbf ........................\n",
      "[CV]  C=100, epsilon=10, gamma=0.1, kernel=rbf, score=-0.252, total=   0.0s\n",
      "[CV] C=100, epsilon=10, gamma=0.01, kernel=rbf .......................\n",
      "[CV]  C=100, epsilon=10, gamma=0.01, kernel=rbf, score=-0.313, total=   0.0s\n",
      "[CV] C=100, epsilon=10, gamma=0.01, kernel=rbf .......................\n",
      "[CV]  C=100, epsilon=10, gamma=0.01, kernel=rbf, score=-0.309, total=   0.0s\n",
      "[CV] C=100, epsilon=10, gamma=0.01, kernel=rbf .......................\n",
      "[CV]  C=100, epsilon=10, gamma=0.01, kernel=rbf, score=-0.189, total=   0.0s\n",
      "[CV] C=100, epsilon=10, gamma=0.001, kernel=rbf ......................\n",
      "[CV]  C=100, epsilon=10, gamma=0.001, kernel=rbf, score=-0.157, total=   0.0s\n",
      "[CV] C=100, epsilon=10, gamma=0.001, kernel=rbf ......................\n",
      "[CV]  C=100, epsilon=10, gamma=0.001, kernel=rbf, score=-0.280, total=   0.0s\n",
      "[CV] C=100, epsilon=10, gamma=0.001, kernel=rbf ......................\n",
      "[CV]  C=100, epsilon=10, gamma=0.001, kernel=rbf, score=-0.202, total=   0.0s\n",
      "[CV] C=100, epsilon=10, gamma=0.0001, kernel=rbf .....................\n",
      "[CV]  C=100, epsilon=10, gamma=0.0001, kernel=rbf, score=-0.044, total=   0.0s\n",
      "[CV] C=100, epsilon=10, gamma=0.0001, kernel=rbf .....................\n",
      "[CV]  C=100, epsilon=10, gamma=0.0001, kernel=rbf, score=-0.239, total=   0.0s\n",
      "[CV] C=100, epsilon=10, gamma=0.0001, kernel=rbf .....................\n",
      "[CV]  C=100, epsilon=10, gamma=0.0001, kernel=rbf, score=-0.131, total=   0.0s\n",
      "[CV] C=100, epsilon=10, gamma=1e-05, kernel=rbf ......................\n",
      "[CV]  C=100, epsilon=10, gamma=1e-05, kernel=rbf, score=-0.029, total=   0.0s\n",
      "[CV] C=100, epsilon=10, gamma=1e-05, kernel=rbf ......................\n",
      "[CV]  C=100, epsilon=10, gamma=1e-05, kernel=rbf, score=-0.214, total=   0.0s\n",
      "[CV] C=100, epsilon=10, gamma=1e-05, kernel=rbf ......................\n",
      "[CV]  C=100, epsilon=10, gamma=1e-05, kernel=rbf, score=-0.127, total=   0.0s\n",
      "[CV] C=100, epsilon=10, gamma=1e-06, kernel=rbf ......................\n",
      "[CV]  C=100, epsilon=10, gamma=1e-06, kernel=rbf, score=-0.027, total=   0.0s\n",
      "[CV] C=100, epsilon=10, gamma=1e-06, kernel=rbf ......................\n",
      "[CV]  C=100, epsilon=10, gamma=1e-06, kernel=rbf, score=-0.211, total=   0.0s\n",
      "[CV] C=100, epsilon=10, gamma=1e-06, kernel=rbf ......................\n",
      "[CV]  C=100, epsilon=10, gamma=1e-06, kernel=rbf, score=-0.127, total=   0.0s\n",
      "[CV] C=100, epsilon=10, gamma=1e-07, kernel=rbf ......................\n",
      "[CV]  C=100, epsilon=10, gamma=1e-07, kernel=rbf, score=-0.027, total=   0.0s\n",
      "[CV] C=100, epsilon=10, gamma=1e-07, kernel=rbf ......................\n",
      "[CV]  C=100, epsilon=10, gamma=1e-07, kernel=rbf, score=-0.211, total=   0.0s\n",
      "[CV] C=100, epsilon=10, gamma=1e-07, kernel=rbf ......................\n",
      "[CV]  C=100, epsilon=10, gamma=1e-07, kernel=rbf, score=-0.127, total=   0.0s\n",
      "[CV] C=100, epsilon=10, gamma=1e-08, kernel=rbf ......................\n",
      "[CV]  C=100, epsilon=10, gamma=1e-08, kernel=rbf, score=-0.027, total=   0.0s\n",
      "[CV] C=100, epsilon=10, gamma=1e-08, kernel=rbf ......................\n",
      "[CV]  C=100, epsilon=10, gamma=1e-08, kernel=rbf, score=-0.211, total=   0.0s\n",
      "[CV] C=100, epsilon=10, gamma=1e-08, kernel=rbf ......................\n",
      "[CV]  C=100, epsilon=10, gamma=1e-08, kernel=rbf, score=-0.127, total=   0.0s\n",
      "[CV] C=100, epsilon=100, gamma=1, kernel=rbf .........................\n",
      "[CV]  C=100, epsilon=100, gamma=1, kernel=rbf, score=-1.161, total=   0.0s\n",
      "[CV] C=100, epsilon=100, gamma=1, kernel=rbf .........................\n",
      "[CV]  C=100, epsilon=100, gamma=1, kernel=rbf, score=-0.627, total=   0.0s\n",
      "[CV] C=100, epsilon=100, gamma=1, kernel=rbf .........................\n",
      "[CV]  C=100, epsilon=100, gamma=1, kernel=rbf, score=-0.000, total=   0.0s\n",
      "[CV] C=100, epsilon=100, gamma=0.1, kernel=rbf .......................\n",
      "[CV]  C=100, epsilon=100, gamma=0.1, kernel=rbf, score=-1.161, total=   0.0s\n",
      "[CV] C=100, epsilon=100, gamma=0.1, kernel=rbf .......................\n",
      "[CV]  C=100, epsilon=100, gamma=0.1, kernel=rbf, score=-0.627, total=   0.0s\n",
      "[CV] C=100, epsilon=100, gamma=0.1, kernel=rbf .......................\n",
      "[CV]  C=100, epsilon=100, gamma=0.1, kernel=rbf, score=-0.000, total=   0.0s\n",
      "[CV] C=100, epsilon=100, gamma=0.01, kernel=rbf ......................\n",
      "[CV]  C=100, epsilon=100, gamma=0.01, kernel=rbf, score=-1.161, total=   0.0s\n",
      "[CV] C=100, epsilon=100, gamma=0.01, kernel=rbf ......................\n",
      "[CV]  C=100, epsilon=100, gamma=0.01, kernel=rbf, score=-0.627, total=   0.0s\n",
      "[CV] C=100, epsilon=100, gamma=0.01, kernel=rbf ......................\n",
      "[CV]  C=100, epsilon=100, gamma=0.01, kernel=rbf, score=-0.000, total=   0.0s\n",
      "[CV] C=100, epsilon=100, gamma=0.001, kernel=rbf .....................\n",
      "[CV]  C=100, epsilon=100, gamma=0.001, kernel=rbf, score=-1.161, total=   0.0s\n",
      "[CV] C=100, epsilon=100, gamma=0.001, kernel=rbf .....................\n",
      "[CV]  C=100, epsilon=100, gamma=0.001, kernel=rbf, score=-0.627, total=   0.0s\n",
      "[CV] C=100, epsilon=100, gamma=0.001, kernel=rbf .....................\n",
      "[CV]  C=100, epsilon=100, gamma=0.001, kernel=rbf, score=-0.000, total=   0.0s\n",
      "[CV] C=100, epsilon=100, gamma=0.0001, kernel=rbf ....................\n",
      "[CV]  C=100, epsilon=100, gamma=0.0001, kernel=rbf, score=-1.161, total=   0.0s\n",
      "[CV] C=100, epsilon=100, gamma=0.0001, kernel=rbf ....................\n",
      "[CV]  C=100, epsilon=100, gamma=0.0001, kernel=rbf, score=-0.627, total=   0.0s\n",
      "[CV] C=100, epsilon=100, gamma=0.0001, kernel=rbf ....................\n",
      "[CV]  C=100, epsilon=100, gamma=0.0001, kernel=rbf, score=-0.000, total=   0.0s\n",
      "[CV] C=100, epsilon=100, gamma=1e-05, kernel=rbf .....................\n",
      "[CV]  C=100, epsilon=100, gamma=1e-05, kernel=rbf, score=-1.161, total=   0.0s\n",
      "[CV] C=100, epsilon=100, gamma=1e-05, kernel=rbf .....................\n",
      "[CV]  C=100, epsilon=100, gamma=1e-05, kernel=rbf, score=-0.627, total=   0.0s\n",
      "[CV] C=100, epsilon=100, gamma=1e-05, kernel=rbf .....................\n",
      "[CV]  C=100, epsilon=100, gamma=1e-05, kernel=rbf, score=-0.000, total=   0.0s\n",
      "[CV] C=100, epsilon=100, gamma=1e-06, kernel=rbf .....................\n",
      "[CV]  C=100, epsilon=100, gamma=1e-06, kernel=rbf, score=-1.161, total=   0.0s\n",
      "[CV] C=100, epsilon=100, gamma=1e-06, kernel=rbf .....................\n",
      "[CV]  C=100, epsilon=100, gamma=1e-06, kernel=rbf, score=-0.627, total=   0.0s\n",
      "[CV] C=100, epsilon=100, gamma=1e-06, kernel=rbf .....................\n",
      "[CV]  C=100, epsilon=100, gamma=1e-06, kernel=rbf, score=-0.000, total=   0.0s\n",
      "[CV] C=100, epsilon=100, gamma=1e-07, kernel=rbf .....................\n",
      "[CV]  C=100, epsilon=100, gamma=1e-07, kernel=rbf, score=-1.161, total=   0.0s\n",
      "[CV] C=100, epsilon=100, gamma=1e-07, kernel=rbf .....................\n",
      "[CV]  C=100, epsilon=100, gamma=1e-07, kernel=rbf, score=-0.627, total=   0.0s\n",
      "[CV] C=100, epsilon=100, gamma=1e-07, kernel=rbf .....................\n",
      "[CV]  C=100, epsilon=100, gamma=1e-07, kernel=rbf, score=-0.000, total=   0.0s\n",
      "[CV] C=100, epsilon=100, gamma=1e-08, kernel=rbf .....................\n",
      "[CV]  C=100, epsilon=100, gamma=1e-08, kernel=rbf, score=-1.161, total=   0.0s\n",
      "[CV] C=100, epsilon=100, gamma=1e-08, kernel=rbf .....................\n",
      "[CV]  C=100, epsilon=100, gamma=1e-08, kernel=rbf, score=-0.627, total=   0.0s\n",
      "[CV] C=100, epsilon=100, gamma=1e-08, kernel=rbf .....................\n",
      "[CV]  C=100, epsilon=100, gamma=1e-08, kernel=rbf, score=-0.000, total=   0.0s\n",
      "[CV] C=100, epsilon=1000, gamma=1, kernel=rbf ........................\n",
      "[CV]  C=100, epsilon=1000, gamma=1, kernel=rbf, score=-1.161, total=   0.0s\n"
     ]
    },
    {
     "name": "stdout",
     "output_type": "stream",
     "text": [
      "[CV] C=100, epsilon=1000, gamma=1, kernel=rbf ........................\n",
      "[CV]  C=100, epsilon=1000, gamma=1, kernel=rbf, score=-0.627, total=   0.0s\n",
      "[CV] C=100, epsilon=1000, gamma=1, kernel=rbf ........................\n",
      "[CV]  C=100, epsilon=1000, gamma=1, kernel=rbf, score=-0.000, total=   0.0s\n",
      "[CV] C=100, epsilon=1000, gamma=0.1, kernel=rbf ......................\n",
      "[CV]  C=100, epsilon=1000, gamma=0.1, kernel=rbf, score=-1.161, total=   0.0s\n",
      "[CV] C=100, epsilon=1000, gamma=0.1, kernel=rbf ......................\n",
      "[CV]  C=100, epsilon=1000, gamma=0.1, kernel=rbf, score=-0.627, total=   0.0s\n",
      "[CV] C=100, epsilon=1000, gamma=0.1, kernel=rbf ......................\n",
      "[CV]  C=100, epsilon=1000, gamma=0.1, kernel=rbf, score=-0.000, total=   0.0s\n",
      "[CV] C=100, epsilon=1000, gamma=0.01, kernel=rbf .....................\n",
      "[CV]  C=100, epsilon=1000, gamma=0.01, kernel=rbf, score=-1.161, total=   0.0s\n",
      "[CV] C=100, epsilon=1000, gamma=0.01, kernel=rbf .....................\n",
      "[CV]  C=100, epsilon=1000, gamma=0.01, kernel=rbf, score=-0.627, total=   0.0s\n",
      "[CV] C=100, epsilon=1000, gamma=0.01, kernel=rbf .....................\n",
      "[CV]  C=100, epsilon=1000, gamma=0.01, kernel=rbf, score=-0.000, total=   0.0s\n",
      "[CV] C=100, epsilon=1000, gamma=0.001, kernel=rbf ....................\n",
      "[CV]  C=100, epsilon=1000, gamma=0.001, kernel=rbf, score=-1.161, total=   0.0s\n",
      "[CV] C=100, epsilon=1000, gamma=0.001, kernel=rbf ....................\n",
      "[CV]  C=100, epsilon=1000, gamma=0.001, kernel=rbf, score=-0.627, total=   0.0s\n",
      "[CV] C=100, epsilon=1000, gamma=0.001, kernel=rbf ....................\n",
      "[CV]  C=100, epsilon=1000, gamma=0.001, kernel=rbf, score=-0.000, total=   0.0s\n",
      "[CV] C=100, epsilon=1000, gamma=0.0001, kernel=rbf ...................\n",
      "[CV]  C=100, epsilon=1000, gamma=0.0001, kernel=rbf, score=-1.161, total=   0.0s\n",
      "[CV] C=100, epsilon=1000, gamma=0.0001, kernel=rbf ...................\n",
      "[CV]  C=100, epsilon=1000, gamma=0.0001, kernel=rbf, score=-0.627, total=   0.0s\n",
      "[CV] C=100, epsilon=1000, gamma=0.0001, kernel=rbf ...................\n",
      "[CV]  C=100, epsilon=1000, gamma=0.0001, kernel=rbf, score=-0.000, total=   0.0s\n",
      "[CV] C=100, epsilon=1000, gamma=1e-05, kernel=rbf ....................\n",
      "[CV]  C=100, epsilon=1000, gamma=1e-05, kernel=rbf, score=-1.161, total=   0.0s\n",
      "[CV] C=100, epsilon=1000, gamma=1e-05, kernel=rbf ....................\n",
      "[CV]  C=100, epsilon=1000, gamma=1e-05, kernel=rbf, score=-0.627, total=   0.0s\n",
      "[CV] C=100, epsilon=1000, gamma=1e-05, kernel=rbf ....................\n",
      "[CV]  C=100, epsilon=1000, gamma=1e-05, kernel=rbf, score=-0.000, total=   0.0s\n",
      "[CV] C=100, epsilon=1000, gamma=1e-06, kernel=rbf ....................\n",
      "[CV]  C=100, epsilon=1000, gamma=1e-06, kernel=rbf, score=-1.161, total=   0.0s\n",
      "[CV] C=100, epsilon=1000, gamma=1e-06, kernel=rbf ....................\n",
      "[CV]  C=100, epsilon=1000, gamma=1e-06, kernel=rbf, score=-0.627, total=   0.0s\n",
      "[CV] C=100, epsilon=1000, gamma=1e-06, kernel=rbf ....................\n",
      "[CV]  C=100, epsilon=1000, gamma=1e-06, kernel=rbf, score=-0.000, total=   0.0s\n",
      "[CV] C=100, epsilon=1000, gamma=1e-07, kernel=rbf ....................\n",
      "[CV]  C=100, epsilon=1000, gamma=1e-07, kernel=rbf, score=-1.161, total=   0.0s\n",
      "[CV] C=100, epsilon=1000, gamma=1e-07, kernel=rbf ....................\n",
      "[CV]  C=100, epsilon=1000, gamma=1e-07, kernel=rbf, score=-0.627, total=   0.0s\n",
      "[CV] C=100, epsilon=1000, gamma=1e-07, kernel=rbf ....................\n",
      "[CV]  C=100, epsilon=1000, gamma=1e-07, kernel=rbf, score=-0.000, total=   0.0s\n",
      "[CV] C=100, epsilon=1000, gamma=1e-08, kernel=rbf ....................\n",
      "[CV]  C=100, epsilon=1000, gamma=1e-08, kernel=rbf, score=-1.161, total=   0.0s\n",
      "[CV] C=100, epsilon=1000, gamma=1e-08, kernel=rbf ....................\n",
      "[CV]  C=100, epsilon=1000, gamma=1e-08, kernel=rbf, score=-0.627, total=   0.0s\n",
      "[CV] C=100, epsilon=1000, gamma=1e-08, kernel=rbf ....................\n",
      "[CV]  C=100, epsilon=1000, gamma=1e-08, kernel=rbf, score=-0.000, total=   0.0s\n",
      "[CV] C=1000, epsilon=0.1, gamma=1, kernel=rbf ........................\n",
      "[CV]  C=1000, epsilon=0.1, gamma=1, kernel=rbf, score=-0.101, total=   0.0s\n",
      "[CV] C=1000, epsilon=0.1, gamma=1, kernel=rbf ........................\n",
      "[CV]  C=1000, epsilon=0.1, gamma=1, kernel=rbf, score=-0.003, total=   0.0s\n",
      "[CV] C=1000, epsilon=0.1, gamma=1, kernel=rbf ........................\n",
      "[CV]  C=1000, epsilon=0.1, gamma=1, kernel=rbf, score=-0.076, total=   0.0s\n",
      "[CV] C=1000, epsilon=0.1, gamma=0.1, kernel=rbf ......................\n",
      "[CV]  C=1000, epsilon=0.1, gamma=0.1, kernel=rbf, score=-0.782, total=   0.0s\n",
      "[CV] C=1000, epsilon=0.1, gamma=0.1, kernel=rbf ......................\n",
      "[CV]  C=1000, epsilon=0.1, gamma=0.1, kernel=rbf, score=-0.947, total=   0.0s\n",
      "[CV] C=1000, epsilon=0.1, gamma=0.1, kernel=rbf ......................\n",
      "[CV]  C=1000, epsilon=0.1, gamma=0.1, kernel=rbf, score=-0.538, total=   0.0s\n",
      "[CV] C=1000, epsilon=0.1, gamma=0.01, kernel=rbf .....................\n",
      "[CV]  C=1000, epsilon=0.1, gamma=0.01, kernel=rbf, score=-0.612, total=   0.0s\n",
      "[CV] C=1000, epsilon=0.1, gamma=0.01, kernel=rbf .....................\n",
      "[CV]  C=1000, epsilon=0.1, gamma=0.01, kernel=rbf, score=-1.715, total=   0.0s\n",
      "[CV] C=1000, epsilon=0.1, gamma=0.01, kernel=rbf .....................\n",
      "[CV]  C=1000, epsilon=0.1, gamma=0.01, kernel=rbf, score=-0.440, total=   0.0s\n",
      "[CV] C=1000, epsilon=0.1, gamma=0.001, kernel=rbf ....................\n",
      "[CV]  C=1000, epsilon=0.1, gamma=0.001, kernel=rbf, score=-0.471, total=   0.0s\n",
      "[CV] C=1000, epsilon=0.1, gamma=0.001, kernel=rbf ....................\n",
      "[CV]  C=1000, epsilon=0.1, gamma=0.001, kernel=rbf, score=-0.471, total=   0.0s\n",
      "[CV] C=1000, epsilon=0.1, gamma=0.001, kernel=rbf ....................\n",
      "[CV]  C=1000, epsilon=0.1, gamma=0.001, kernel=rbf, score=-0.126, total=   0.0s\n",
      "[CV] C=1000, epsilon=0.1, gamma=0.0001, kernel=rbf ...................\n",
      "[CV]  C=1000, epsilon=0.1, gamma=0.0001, kernel=rbf, score=-0.176, total=   0.0s\n",
      "[CV] C=1000, epsilon=0.1, gamma=0.0001, kernel=rbf ...................\n",
      "[CV]  C=1000, epsilon=0.1, gamma=0.0001, kernel=rbf, score=-0.409, total=   0.0s\n",
      "[CV] C=1000, epsilon=0.1, gamma=0.0001, kernel=rbf ...................\n",
      "[CV]  C=1000, epsilon=0.1, gamma=0.0001, kernel=rbf, score=-0.190, total=   0.0s\n",
      "[CV] C=1000, epsilon=0.1, gamma=1e-05, kernel=rbf ....................\n",
      "[CV]  C=1000, epsilon=0.1, gamma=1e-05, kernel=rbf, score=-0.124, total=   0.0s\n",
      "[CV] C=1000, epsilon=0.1, gamma=1e-05, kernel=rbf ....................\n",
      "[CV]  C=1000, epsilon=0.1, gamma=1e-05, kernel=rbf, score=-0.472, total=   0.0s\n",
      "[CV] C=1000, epsilon=0.1, gamma=1e-05, kernel=rbf ....................\n",
      "[CV]  C=1000, epsilon=0.1, gamma=1e-05, kernel=rbf, score=-0.184, total=   0.0s\n",
      "[CV] C=1000, epsilon=0.1, gamma=1e-06, kernel=rbf ....................\n",
      "[CV]  C=1000, epsilon=0.1, gamma=1e-06, kernel=rbf, score=-0.074, total=   0.0s\n",
      "[CV] C=1000, epsilon=0.1, gamma=1e-06, kernel=rbf ....................\n",
      "[CV]  C=1000, epsilon=0.1, gamma=1e-06, kernel=rbf, score=-0.263, total=   0.0s\n",
      "[CV] C=1000, epsilon=0.1, gamma=1e-06, kernel=rbf ....................\n",
      "[CV]  C=1000, epsilon=0.1, gamma=1e-06, kernel=rbf, score=-0.161, total=   0.0s\n",
      "[CV] C=1000, epsilon=0.1, gamma=1e-07, kernel=rbf ....................\n",
      "[CV]  C=1000, epsilon=0.1, gamma=1e-07, kernel=rbf, score=-0.069, total=   0.0s\n",
      "[CV] C=1000, epsilon=0.1, gamma=1e-07, kernel=rbf ....................\n",
      "[CV]  C=1000, epsilon=0.1, gamma=1e-07, kernel=rbf, score=-0.230, total=   0.0s\n",
      "[CV] C=1000, epsilon=0.1, gamma=1e-07, kernel=rbf ....................\n",
      "[CV]  C=1000, epsilon=0.1, gamma=1e-07, kernel=rbf, score=-0.159, total=   0.0s\n",
      "[CV] C=1000, epsilon=0.1, gamma=1e-08, kernel=rbf ....................\n",
      "[CV]  C=1000, epsilon=0.1, gamma=1e-08, kernel=rbf, score=-0.068, total=   0.0s\n",
      "[CV] C=1000, epsilon=0.1, gamma=1e-08, kernel=rbf ....................\n",
      "[CV]  C=1000, epsilon=0.1, gamma=1e-08, kernel=rbf, score=-0.227, total=   0.0s\n",
      "[CV] C=1000, epsilon=0.1, gamma=1e-08, kernel=rbf ....................\n",
      "[CV]  C=1000, epsilon=0.1, gamma=1e-08, kernel=rbf, score=-0.159, total=   0.0s\n",
      "[CV] C=1000, epsilon=1, gamma=1, kernel=rbf ..........................\n",
      "[CV]  C=1000, epsilon=1, gamma=1, kernel=rbf, score=-0.102, total=   0.0s\n",
      "[CV] C=1000, epsilon=1, gamma=1, kernel=rbf ..........................\n",
      "[CV]  C=1000, epsilon=1, gamma=1, kernel=rbf, score=-0.002, total=   0.0s\n",
      "[CV] C=1000, epsilon=1, gamma=1, kernel=rbf ..........................\n",
      "[CV]  C=1000, epsilon=1, gamma=1, kernel=rbf, score=-0.074, total=   0.0s\n",
      "[CV] C=1000, epsilon=1, gamma=0.1, kernel=rbf ........................\n",
      "[CV]  C=1000, epsilon=1, gamma=0.1, kernel=rbf, score=-0.751, total=   0.0s\n",
      "[CV] C=1000, epsilon=1, gamma=0.1, kernel=rbf ........................\n",
      "[CV]  C=1000, epsilon=1, gamma=0.1, kernel=rbf, score=-0.910, total=   0.0s\n",
      "[CV] C=1000, epsilon=1, gamma=0.1, kernel=rbf ........................\n"
     ]
    },
    {
     "name": "stdout",
     "output_type": "stream",
     "text": [
      "[CV]  C=1000, epsilon=1, gamma=0.1, kernel=rbf, score=-0.521, total=   0.0s\n",
      "[CV] C=1000, epsilon=1, gamma=0.01, kernel=rbf .......................\n",
      "[CV]  C=1000, epsilon=1, gamma=0.01, kernel=rbf, score=-0.599, total=   0.0s\n",
      "[CV] C=1000, epsilon=1, gamma=0.01, kernel=rbf .......................\n",
      "[CV]  C=1000, epsilon=1, gamma=0.01, kernel=rbf, score=-1.683, total=   0.0s\n",
      "[CV] C=1000, epsilon=1, gamma=0.01, kernel=rbf .......................\n",
      "[CV]  C=1000, epsilon=1, gamma=0.01, kernel=rbf, score=-0.419, total=   0.0s\n",
      "[CV] C=1000, epsilon=1, gamma=0.001, kernel=rbf ......................\n",
      "[CV]  C=1000, epsilon=1, gamma=0.001, kernel=rbf, score=-0.451, total=   0.0s\n",
      "[CV] C=1000, epsilon=1, gamma=0.001, kernel=rbf ......................\n",
      "[CV]  C=1000, epsilon=1, gamma=0.001, kernel=rbf, score=-0.486, total=   0.0s\n",
      "[CV] C=1000, epsilon=1, gamma=0.001, kernel=rbf ......................\n",
      "[CV]  C=1000, epsilon=1, gamma=0.001, kernel=rbf, score=-0.155, total=   0.0s\n",
      "[CV] C=1000, epsilon=1, gamma=0.0001, kernel=rbf .....................\n",
      "[CV]  C=1000, epsilon=1, gamma=0.0001, kernel=rbf, score=-0.164, total=   0.0s\n",
      "[CV] C=1000, epsilon=1, gamma=0.0001, kernel=rbf .....................\n",
      "[CV]  C=1000, epsilon=1, gamma=0.0001, kernel=rbf, score=-0.379, total=   0.0s\n",
      "[CV] C=1000, epsilon=1, gamma=0.0001, kernel=rbf .....................\n",
      "[CV]  C=1000, epsilon=1, gamma=0.0001, kernel=rbf, score=-0.188, total=   0.0s\n",
      "[CV] C=1000, epsilon=1, gamma=1e-05, kernel=rbf ......................\n",
      "[CV]  C=1000, epsilon=1, gamma=1e-05, kernel=rbf, score=-0.110, total=   0.0s\n",
      "[CV] C=1000, epsilon=1, gamma=1e-05, kernel=rbf ......................\n",
      "[CV]  C=1000, epsilon=1, gamma=1e-05, kernel=rbf, score=-0.436, total=   0.0s\n",
      "[CV] C=1000, epsilon=1, gamma=1e-05, kernel=rbf ......................\n",
      "[CV]  C=1000, epsilon=1, gamma=1e-05, kernel=rbf, score=-0.169, total=   0.0s\n",
      "[CV] C=1000, epsilon=1, gamma=1e-06, kernel=rbf ......................\n",
      "[CV]  C=1000, epsilon=1, gamma=1e-06, kernel=rbf, score=-0.074, total=   0.0s\n",
      "[CV] C=1000, epsilon=1, gamma=1e-06, kernel=rbf ......................\n",
      "[CV]  C=1000, epsilon=1, gamma=1e-06, kernel=rbf, score=-0.263, total=   0.0s\n",
      "[CV] C=1000, epsilon=1, gamma=1e-06, kernel=rbf ......................\n",
      "[CV]  C=1000, epsilon=1, gamma=1e-06, kernel=rbf, score=-0.156, total=   0.0s\n",
      "[CV] C=1000, epsilon=1, gamma=1e-07, kernel=rbf ......................\n",
      "[CV]  C=1000, epsilon=1, gamma=1e-07, kernel=rbf, score=-0.069, total=   0.0s\n",
      "[CV] C=1000, epsilon=1, gamma=1e-07, kernel=rbf ......................\n",
      "[CV]  C=1000, epsilon=1, gamma=1e-07, kernel=rbf, score=-0.230, total=   0.0s\n",
      "[CV] C=1000, epsilon=1, gamma=1e-07, kernel=rbf ......................\n",
      "[CV]  C=1000, epsilon=1, gamma=1e-07, kernel=rbf, score=-0.152, total=   0.0s\n",
      "[CV] C=1000, epsilon=1, gamma=1e-08, kernel=rbf ......................\n",
      "[CV]  C=1000, epsilon=1, gamma=1e-08, kernel=rbf, score=-0.068, total=   0.0s\n",
      "[CV] C=1000, epsilon=1, gamma=1e-08, kernel=rbf ......................\n",
      "[CV]  C=1000, epsilon=1, gamma=1e-08, kernel=rbf, score=-0.227, total=   0.0s\n",
      "[CV] C=1000, epsilon=1, gamma=1e-08, kernel=rbf ......................\n",
      "[CV]  C=1000, epsilon=1, gamma=1e-08, kernel=rbf, score=-0.152, total=   0.0s\n",
      "[CV] C=1000, epsilon=10, gamma=1, kernel=rbf .........................\n",
      "[CV]  C=1000, epsilon=10, gamma=1, kernel=rbf, score=-0.133, total=   0.0s\n",
      "[CV] C=1000, epsilon=10, gamma=1, kernel=rbf .........................\n",
      "[CV]  C=1000, epsilon=10, gamma=1, kernel=rbf, score=-0.006, total=   0.0s\n",
      "[CV] C=1000, epsilon=10, gamma=1, kernel=rbf .........................\n",
      "[CV]  C=1000, epsilon=10, gamma=1, kernel=rbf, score=-0.060, total=   0.0s\n",
      "[CV] C=1000, epsilon=10, gamma=0.1, kernel=rbf .......................\n",
      "[CV]  C=1000, epsilon=10, gamma=0.1, kernel=rbf, score=-0.537, total=   0.0s\n",
      "[CV] C=1000, epsilon=10, gamma=0.1, kernel=rbf .......................\n",
      "[CV]  C=1000, epsilon=10, gamma=0.1, kernel=rbf, score=-0.652, total=   0.0s\n",
      "[CV] C=1000, epsilon=10, gamma=0.1, kernel=rbf .......................\n",
      "[CV]  C=1000, epsilon=10, gamma=0.1, kernel=rbf, score=-0.371, total=   0.0s\n",
      "[CV] C=1000, epsilon=10, gamma=0.01, kernel=rbf ......................\n",
      "[CV]  C=1000, epsilon=10, gamma=0.01, kernel=rbf, score=-0.595, total=   0.0s\n",
      "[CV] C=1000, epsilon=10, gamma=0.01, kernel=rbf ......................\n",
      "[CV]  C=1000, epsilon=10, gamma=0.01, kernel=rbf, score=-1.268, total=   0.0s\n",
      "[CV] C=1000, epsilon=10, gamma=0.01, kernel=rbf ......................\n",
      "[CV]  C=1000, epsilon=10, gamma=0.01, kernel=rbf, score=-0.425, total=   0.0s\n",
      "[CV] C=1000, epsilon=10, gamma=0.001, kernel=rbf .....................\n",
      "[CV]  C=1000, epsilon=10, gamma=0.001, kernel=rbf, score=-0.360, total=   0.0s\n",
      "[CV] C=1000, epsilon=10, gamma=0.001, kernel=rbf .....................\n",
      "[CV]  C=1000, epsilon=10, gamma=0.001, kernel=rbf, score=-0.549, total=   0.0s\n",
      "[CV] C=1000, epsilon=10, gamma=0.001, kernel=rbf .....................\n",
      "[CV]  C=1000, epsilon=10, gamma=0.001, kernel=rbf, score=-0.194, total=   0.0s\n",
      "[CV] C=1000, epsilon=10, gamma=0.0001, kernel=rbf ....................\n",
      "[CV]  C=1000, epsilon=10, gamma=0.0001, kernel=rbf, score=-0.155, total=   0.0s\n",
      "[CV] C=1000, epsilon=10, gamma=0.0001, kernel=rbf ....................\n",
      "[CV]  C=1000, epsilon=10, gamma=0.0001, kernel=rbf, score=-0.308, total=   0.0s\n",
      "[CV] C=1000, epsilon=10, gamma=0.0001, kernel=rbf ....................\n",
      "[CV]  C=1000, epsilon=10, gamma=0.0001, kernel=rbf, score=-0.172, total=   0.0s\n",
      "[CV] C=1000, epsilon=10, gamma=1e-05, kernel=rbf .....................\n",
      "[CV]  C=1000, epsilon=10, gamma=1e-05, kernel=rbf, score=-0.044, total=   0.0s\n",
      "[CV] C=1000, epsilon=10, gamma=1e-05, kernel=rbf .....................\n",
      "[CV]  C=1000, epsilon=10, gamma=1e-05, kernel=rbf, score=-0.240, total=   0.0s\n",
      "[CV] C=1000, epsilon=10, gamma=1e-05, kernel=rbf .....................\n",
      "[CV]  C=1000, epsilon=10, gamma=1e-05, kernel=rbf, score=-0.130, total=   0.0s\n",
      "[CV] C=1000, epsilon=10, gamma=1e-06, kernel=rbf .....................\n",
      "[CV]  C=1000, epsilon=10, gamma=1e-06, kernel=rbf, score=-0.029, total=   0.0s\n",
      "[CV] C=1000, epsilon=10, gamma=1e-06, kernel=rbf .....................\n",
      "[CV]  C=1000, epsilon=10, gamma=1e-06, kernel=rbf, score=-0.214, total=   0.0s\n",
      "[CV] C=1000, epsilon=10, gamma=1e-06, kernel=rbf .....................\n",
      "[CV]  C=1000, epsilon=10, gamma=1e-06, kernel=rbf, score=-0.127, total=   0.0s\n",
      "[CV] C=1000, epsilon=10, gamma=1e-07, kernel=rbf .....................\n",
      "[CV]  C=1000, epsilon=10, gamma=1e-07, kernel=rbf, score=-0.027, total=   0.0s\n",
      "[CV] C=1000, epsilon=10, gamma=1e-07, kernel=rbf .....................\n",
      "[CV]  C=1000, epsilon=10, gamma=1e-07, kernel=rbf, score=-0.211, total=   0.0s\n",
      "[CV] C=1000, epsilon=10, gamma=1e-07, kernel=rbf .....................\n",
      "[CV]  C=1000, epsilon=10, gamma=1e-07, kernel=rbf, score=-0.127, total=   0.0s\n",
      "[CV] C=1000, epsilon=10, gamma=1e-08, kernel=rbf .....................\n",
      "[CV]  C=1000, epsilon=10, gamma=1e-08, kernel=rbf, score=-0.027, total=   0.0s\n",
      "[CV] C=1000, epsilon=10, gamma=1e-08, kernel=rbf .....................\n",
      "[CV]  C=1000, epsilon=10, gamma=1e-08, kernel=rbf, score=-0.211, total=   0.0s\n",
      "[CV] C=1000, epsilon=10, gamma=1e-08, kernel=rbf .....................\n",
      "[CV]  C=1000, epsilon=10, gamma=1e-08, kernel=rbf, score=-0.127, total=   0.0s\n",
      "[CV] C=1000, epsilon=100, gamma=1, kernel=rbf ........................\n",
      "[CV]  C=1000, epsilon=100, gamma=1, kernel=rbf, score=-1.161, total=   0.0s\n",
      "[CV] C=1000, epsilon=100, gamma=1, kernel=rbf ........................\n",
      "[CV]  C=1000, epsilon=100, gamma=1, kernel=rbf, score=-0.627, total=   0.0s\n",
      "[CV] C=1000, epsilon=100, gamma=1, kernel=rbf ........................\n",
      "[CV]  C=1000, epsilon=100, gamma=1, kernel=rbf, score=-0.000, total=   0.0s\n",
      "[CV] C=1000, epsilon=100, gamma=0.1, kernel=rbf ......................\n",
      "[CV]  C=1000, epsilon=100, gamma=0.1, kernel=rbf, score=-1.161, total=   0.0s\n",
      "[CV] C=1000, epsilon=100, gamma=0.1, kernel=rbf ......................\n",
      "[CV]  C=1000, epsilon=100, gamma=0.1, kernel=rbf, score=-0.627, total=   0.0s\n",
      "[CV] C=1000, epsilon=100, gamma=0.1, kernel=rbf ......................\n",
      "[CV]  C=1000, epsilon=100, gamma=0.1, kernel=rbf, score=-0.000, total=   0.0s\n",
      "[CV] C=1000, epsilon=100, gamma=0.01, kernel=rbf .....................\n",
      "[CV]  C=1000, epsilon=100, gamma=0.01, kernel=rbf, score=-1.161, total=   0.0s\n",
      "[CV] C=1000, epsilon=100, gamma=0.01, kernel=rbf .....................\n",
      "[CV]  C=1000, epsilon=100, gamma=0.01, kernel=rbf, score=-0.627, total=   0.0s\n",
      "[CV] C=1000, epsilon=100, gamma=0.01, kernel=rbf .....................\n",
      "[CV]  C=1000, epsilon=100, gamma=0.01, kernel=rbf, score=-0.000, total=   0.0s\n",
      "[CV] C=1000, epsilon=100, gamma=0.001, kernel=rbf ....................\n",
      "[CV]  C=1000, epsilon=100, gamma=0.001, kernel=rbf, score=-1.161, total=   0.0s\n",
      "[CV] C=1000, epsilon=100, gamma=0.001, kernel=rbf ....................\n",
      "[CV]  C=1000, epsilon=100, gamma=0.001, kernel=rbf, score=-0.627, total=   0.0s\n",
      "[CV] C=1000, epsilon=100, gamma=0.001, kernel=rbf ....................\n"
     ]
    },
    {
     "name": "stdout",
     "output_type": "stream",
     "text": [
      "[CV]  C=1000, epsilon=100, gamma=0.001, kernel=rbf, score=-0.000, total=   0.0s\n",
      "[CV] C=1000, epsilon=100, gamma=0.0001, kernel=rbf ...................\n",
      "[CV]  C=1000, epsilon=100, gamma=0.0001, kernel=rbf, score=-1.161, total=   0.0s\n",
      "[CV] C=1000, epsilon=100, gamma=0.0001, kernel=rbf ...................\n",
      "[CV]  C=1000, epsilon=100, gamma=0.0001, kernel=rbf, score=-0.627, total=   0.0s\n",
      "[CV] C=1000, epsilon=100, gamma=0.0001, kernel=rbf ...................\n",
      "[CV]  C=1000, epsilon=100, gamma=0.0001, kernel=rbf, score=-0.000, total=   0.0s\n",
      "[CV] C=1000, epsilon=100, gamma=1e-05, kernel=rbf ....................\n",
      "[CV]  C=1000, epsilon=100, gamma=1e-05, kernel=rbf, score=-1.161, total=   0.0s\n",
      "[CV] C=1000, epsilon=100, gamma=1e-05, kernel=rbf ....................\n",
      "[CV]  C=1000, epsilon=100, gamma=1e-05, kernel=rbf, score=-0.627, total=   0.0s\n",
      "[CV] C=1000, epsilon=100, gamma=1e-05, kernel=rbf ....................\n",
      "[CV]  C=1000, epsilon=100, gamma=1e-05, kernel=rbf, score=-0.000, total=   0.0s\n",
      "[CV] C=1000, epsilon=100, gamma=1e-06, kernel=rbf ....................\n",
      "[CV]  C=1000, epsilon=100, gamma=1e-06, kernel=rbf, score=-1.161, total=   0.0s\n",
      "[CV] C=1000, epsilon=100, gamma=1e-06, kernel=rbf ....................\n",
      "[CV]  C=1000, epsilon=100, gamma=1e-06, kernel=rbf, score=-0.627, total=   0.0s\n",
      "[CV] C=1000, epsilon=100, gamma=1e-06, kernel=rbf ....................\n",
      "[CV]  C=1000, epsilon=100, gamma=1e-06, kernel=rbf, score=-0.000, total=   0.0s\n",
      "[CV] C=1000, epsilon=100, gamma=1e-07, kernel=rbf ....................\n",
      "[CV]  C=1000, epsilon=100, gamma=1e-07, kernel=rbf, score=-1.161, total=   0.0s\n",
      "[CV] C=1000, epsilon=100, gamma=1e-07, kernel=rbf ....................\n",
      "[CV]  C=1000, epsilon=100, gamma=1e-07, kernel=rbf, score=-0.627, total=   0.0s\n",
      "[CV] C=1000, epsilon=100, gamma=1e-07, kernel=rbf ....................\n",
      "[CV]  C=1000, epsilon=100, gamma=1e-07, kernel=rbf, score=-0.000, total=   0.0s\n",
      "[CV] C=1000, epsilon=100, gamma=1e-08, kernel=rbf ....................\n",
      "[CV]  C=1000, epsilon=100, gamma=1e-08, kernel=rbf, score=-1.161, total=   0.0s\n",
      "[CV] C=1000, epsilon=100, gamma=1e-08, kernel=rbf ....................\n",
      "[CV]  C=1000, epsilon=100, gamma=1e-08, kernel=rbf, score=-0.627, total=   0.0s\n",
      "[CV] C=1000, epsilon=100, gamma=1e-08, kernel=rbf ....................\n",
      "[CV]  C=1000, epsilon=100, gamma=1e-08, kernel=rbf, score=-0.000, total=   0.0s\n",
      "[CV] C=1000, epsilon=1000, gamma=1, kernel=rbf .......................\n",
      "[CV]  C=1000, epsilon=1000, gamma=1, kernel=rbf, score=-1.161, total=   0.0s\n",
      "[CV] C=1000, epsilon=1000, gamma=1, kernel=rbf .......................\n",
      "[CV]  C=1000, epsilon=1000, gamma=1, kernel=rbf, score=-0.627, total=   0.0s\n",
      "[CV] C=1000, epsilon=1000, gamma=1, kernel=rbf .......................\n",
      "[CV]  C=1000, epsilon=1000, gamma=1, kernel=rbf, score=-0.000, total=   0.0s\n",
      "[CV] C=1000, epsilon=1000, gamma=0.1, kernel=rbf .....................\n",
      "[CV]  C=1000, epsilon=1000, gamma=0.1, kernel=rbf, score=-1.161, total=   0.0s\n",
      "[CV] C=1000, epsilon=1000, gamma=0.1, kernel=rbf .....................\n",
      "[CV]  C=1000, epsilon=1000, gamma=0.1, kernel=rbf, score=-0.627, total=   0.0s\n",
      "[CV] C=1000, epsilon=1000, gamma=0.1, kernel=rbf .....................\n",
      "[CV]  C=1000, epsilon=1000, gamma=0.1, kernel=rbf, score=-0.000, total=   0.0s\n",
      "[CV] C=1000, epsilon=1000, gamma=0.01, kernel=rbf ....................\n",
      "[CV]  C=1000, epsilon=1000, gamma=0.01, kernel=rbf, score=-1.161, total=   0.0s\n",
      "[CV] C=1000, epsilon=1000, gamma=0.01, kernel=rbf ....................\n",
      "[CV]  C=1000, epsilon=1000, gamma=0.01, kernel=rbf, score=-0.627, total=   0.0s\n",
      "[CV] C=1000, epsilon=1000, gamma=0.01, kernel=rbf ....................\n",
      "[CV]  C=1000, epsilon=1000, gamma=0.01, kernel=rbf, score=-0.000, total=   0.0s\n",
      "[CV] C=1000, epsilon=1000, gamma=0.001, kernel=rbf ...................\n",
      "[CV]  C=1000, epsilon=1000, gamma=0.001, kernel=rbf, score=-1.161, total=   0.0s\n",
      "[CV] C=1000, epsilon=1000, gamma=0.001, kernel=rbf ...................\n",
      "[CV]  C=1000, epsilon=1000, gamma=0.001, kernel=rbf, score=-0.627, total=   0.0s\n",
      "[CV] C=1000, epsilon=1000, gamma=0.001, kernel=rbf ...................\n",
      "[CV]  C=1000, epsilon=1000, gamma=0.001, kernel=rbf, score=-0.000, total=   0.0s\n",
      "[CV] C=1000, epsilon=1000, gamma=0.0001, kernel=rbf ..................\n",
      "[CV]  C=1000, epsilon=1000, gamma=0.0001, kernel=rbf, score=-1.161, total=   0.0s\n",
      "[CV] C=1000, epsilon=1000, gamma=0.0001, kernel=rbf ..................\n",
      "[CV]  C=1000, epsilon=1000, gamma=0.0001, kernel=rbf, score=-0.627, total=   0.0s\n",
      "[CV] C=1000, epsilon=1000, gamma=0.0001, kernel=rbf ..................\n",
      "[CV]  C=1000, epsilon=1000, gamma=0.0001, kernel=rbf, score=-0.000, total=   0.0s\n",
      "[CV] C=1000, epsilon=1000, gamma=1e-05, kernel=rbf ...................\n",
      "[CV]  C=1000, epsilon=1000, gamma=1e-05, kernel=rbf, score=-1.161, total=   0.0s\n",
      "[CV] C=1000, epsilon=1000, gamma=1e-05, kernel=rbf ...................\n",
      "[CV]  C=1000, epsilon=1000, gamma=1e-05, kernel=rbf, score=-0.627, total=   0.0s\n",
      "[CV] C=1000, epsilon=1000, gamma=1e-05, kernel=rbf ...................\n",
      "[CV]  C=1000, epsilon=1000, gamma=1e-05, kernel=rbf, score=-0.000, total=   0.0s\n",
      "[CV] C=1000, epsilon=1000, gamma=1e-06, kernel=rbf ...................\n",
      "[CV]  C=1000, epsilon=1000, gamma=1e-06, kernel=rbf, score=-1.161, total=   0.0s\n",
      "[CV] C=1000, epsilon=1000, gamma=1e-06, kernel=rbf ...................\n",
      "[CV]  C=1000, epsilon=1000, gamma=1e-06, kernel=rbf, score=-0.627, total=   0.0s\n",
      "[CV] C=1000, epsilon=1000, gamma=1e-06, kernel=rbf ...................\n",
      "[CV]  C=1000, epsilon=1000, gamma=1e-06, kernel=rbf, score=-0.000, total=   0.0s\n",
      "[CV] C=1000, epsilon=1000, gamma=1e-07, kernel=rbf ...................\n",
      "[CV]  C=1000, epsilon=1000, gamma=1e-07, kernel=rbf, score=-1.161, total=   0.0s\n",
      "[CV] C=1000, epsilon=1000, gamma=1e-07, kernel=rbf ...................\n",
      "[CV]  C=1000, epsilon=1000, gamma=1e-07, kernel=rbf, score=-0.627, total=   0.0s\n",
      "[CV] C=1000, epsilon=1000, gamma=1e-07, kernel=rbf ...................\n",
      "[CV]  C=1000, epsilon=1000, gamma=1e-07, kernel=rbf, score=-0.000, total=   0.0s\n",
      "[CV] C=1000, epsilon=1000, gamma=1e-08, kernel=rbf ...................\n",
      "[CV]  C=1000, epsilon=1000, gamma=1e-08, kernel=rbf, score=-1.161, total=   0.0s\n",
      "[CV] C=1000, epsilon=1000, gamma=1e-08, kernel=rbf ...................\n",
      "[CV]  C=1000, epsilon=1000, gamma=1e-08, kernel=rbf, score=-0.627, total=   0.0s\n",
      "[CV] C=1000, epsilon=1000, gamma=1e-08, kernel=rbf ...................\n",
      "[CV]  C=1000, epsilon=1000, gamma=1e-08, kernel=rbf, score=-0.000, total=   0.0s\n",
      "[CV] C=10000, epsilon=0.1, gamma=1, kernel=rbf .......................\n",
      "[CV]  C=10000, epsilon=0.1, gamma=1, kernel=rbf, score=-0.101, total=   0.0s\n",
      "[CV] C=10000, epsilon=0.1, gamma=1, kernel=rbf .......................\n",
      "[CV]  C=10000, epsilon=0.1, gamma=1, kernel=rbf, score=-0.003, total=   0.0s\n",
      "[CV] C=10000, epsilon=0.1, gamma=1, kernel=rbf .......................\n",
      "[CV]  C=10000, epsilon=0.1, gamma=1, kernel=rbf, score=-0.076, total=   0.0s\n",
      "[CV] C=10000, epsilon=0.1, gamma=0.1, kernel=rbf .....................\n",
      "[CV]  C=10000, epsilon=0.1, gamma=0.1, kernel=rbf, score=-0.782, total=   0.0s\n",
      "[CV] C=10000, epsilon=0.1, gamma=0.1, kernel=rbf .....................\n",
      "[CV]  C=10000, epsilon=0.1, gamma=0.1, kernel=rbf, score=-0.947, total=   0.0s\n",
      "[CV] C=10000, epsilon=0.1, gamma=0.1, kernel=rbf .....................\n",
      "[CV]  C=10000, epsilon=0.1, gamma=0.1, kernel=rbf, score=-0.538, total=   0.0s\n",
      "[CV] C=10000, epsilon=0.1, gamma=0.01, kernel=rbf ....................\n",
      "[CV]  C=10000, epsilon=0.1, gamma=0.01, kernel=rbf, score=-2.142, total=   0.0s\n",
      "[CV] C=10000, epsilon=0.1, gamma=0.01, kernel=rbf ....................\n",
      "[CV]  C=10000, epsilon=0.1, gamma=0.01, kernel=rbf, score=-3.340, total=   0.0s\n",
      "[CV] C=10000, epsilon=0.1, gamma=0.01, kernel=rbf ....................\n",
      "[CV]  C=10000, epsilon=0.1, gamma=0.01, kernel=rbf, score=-0.602, total=   0.0s\n",
      "[CV] C=10000, epsilon=0.1, gamma=0.001, kernel=rbf ...................\n",
      "[CV]  C=10000, epsilon=0.1, gamma=0.001, kernel=rbf, score=-0.220, total=   0.0s\n",
      "[CV] C=10000, epsilon=0.1, gamma=0.001, kernel=rbf ...................\n",
      "[CV]  C=10000, epsilon=0.1, gamma=0.001, kernel=rbf, score=-0.724, total=   0.0s\n",
      "[CV] C=10000, epsilon=0.1, gamma=0.001, kernel=rbf ...................\n",
      "[CV]  C=10000, epsilon=0.1, gamma=0.001, kernel=rbf, score=-0.097, total=   0.0s\n",
      "[CV] C=10000, epsilon=0.1, gamma=0.0001, kernel=rbf ..................\n"
     ]
    },
    {
     "name": "stdout",
     "output_type": "stream",
     "text": [
      "[CV]  C=10000, epsilon=0.1, gamma=0.0001, kernel=rbf, score=-0.520, total=   0.0s\n",
      "[CV] C=10000, epsilon=0.1, gamma=0.0001, kernel=rbf ..................\n",
      "[CV]  C=10000, epsilon=0.1, gamma=0.0001, kernel=rbf, score=-0.375, total=   0.0s\n",
      "[CV] C=10000, epsilon=0.1, gamma=0.0001, kernel=rbf ..................\n",
      "[CV]  C=10000, epsilon=0.1, gamma=0.0001, kernel=rbf, score=-0.177, total=   0.0s\n",
      "[CV] C=10000, epsilon=0.1, gamma=1e-05, kernel=rbf ...................\n",
      "[CV]  C=10000, epsilon=0.1, gamma=1e-05, kernel=rbf, score=-0.165, total=   0.0s\n",
      "[CV] C=10000, epsilon=0.1, gamma=1e-05, kernel=rbf ...................\n",
      "[CV]  C=10000, epsilon=0.1, gamma=1e-05, kernel=rbf, score=-0.405, total=   0.0s\n",
      "[CV] C=10000, epsilon=0.1, gamma=1e-05, kernel=rbf ...................\n",
      "[CV]  C=10000, epsilon=0.1, gamma=1e-05, kernel=rbf, score=-0.190, total=   0.0s\n",
      "[CV] C=10000, epsilon=0.1, gamma=1e-06, kernel=rbf ...................\n",
      "[CV]  C=10000, epsilon=0.1, gamma=1e-06, kernel=rbf, score=-0.124, total=   0.0s\n",
      "[CV] C=10000, epsilon=0.1, gamma=1e-06, kernel=rbf ...................\n",
      "[CV]  C=10000, epsilon=0.1, gamma=1e-06, kernel=rbf, score=-0.473, total=   0.0s\n",
      "[CV] C=10000, epsilon=0.1, gamma=1e-06, kernel=rbf ...................\n",
      "[CV]  C=10000, epsilon=0.1, gamma=1e-06, kernel=rbf, score=-0.184, total=   0.0s\n",
      "[CV] C=10000, epsilon=0.1, gamma=1e-07, kernel=rbf ...................\n",
      "[CV]  C=10000, epsilon=0.1, gamma=1e-07, kernel=rbf, score=-0.074, total=   0.0s\n",
      "[CV] C=10000, epsilon=0.1, gamma=1e-07, kernel=rbf ...................\n",
      "[CV]  C=10000, epsilon=0.1, gamma=1e-07, kernel=rbf, score=-0.263, total=   0.0s\n",
      "[CV] C=10000, epsilon=0.1, gamma=1e-07, kernel=rbf ...................\n",
      "[CV]  C=10000, epsilon=0.1, gamma=1e-07, kernel=rbf, score=-0.162, total=   0.0s\n",
      "[CV] C=10000, epsilon=0.1, gamma=1e-08, kernel=rbf ...................\n",
      "[CV]  C=10000, epsilon=0.1, gamma=1e-08, kernel=rbf, score=-0.069, total=   0.0s\n",
      "[CV] C=10000, epsilon=0.1, gamma=1e-08, kernel=rbf ...................\n",
      "[CV]  C=10000, epsilon=0.1, gamma=1e-08, kernel=rbf, score=-0.230, total=   0.0s\n",
      "[CV] C=10000, epsilon=0.1, gamma=1e-08, kernel=rbf ...................\n",
      "[CV]  C=10000, epsilon=0.1, gamma=1e-08, kernel=rbf, score=-0.159, total=   0.0s\n",
      "[CV] C=10000, epsilon=1, gamma=1, kernel=rbf .........................\n",
      "[CV]  C=10000, epsilon=1, gamma=1, kernel=rbf, score=-0.102, total=   0.0s\n",
      "[CV] C=10000, epsilon=1, gamma=1, kernel=rbf .........................\n",
      "[CV]  C=10000, epsilon=1, gamma=1, kernel=rbf, score=-0.002, total=   0.0s\n",
      "[CV] C=10000, epsilon=1, gamma=1, kernel=rbf .........................\n",
      "[CV]  C=10000, epsilon=1, gamma=1, kernel=rbf, score=-0.074, total=   0.0s\n",
      "[CV] C=10000, epsilon=1, gamma=0.1, kernel=rbf .......................\n",
      "[CV]  C=10000, epsilon=1, gamma=0.1, kernel=rbf, score=-0.751, total=   0.0s\n",
      "[CV] C=10000, epsilon=1, gamma=0.1, kernel=rbf .......................\n",
      "[CV]  C=10000, epsilon=1, gamma=0.1, kernel=rbf, score=-0.910, total=   0.0s\n",
      "[CV] C=10000, epsilon=1, gamma=0.1, kernel=rbf .......................\n",
      "[CV]  C=10000, epsilon=1, gamma=0.1, kernel=rbf, score=-0.521, total=   0.0s\n",
      "[CV] C=10000, epsilon=1, gamma=0.01, kernel=rbf ......................\n",
      "[CV]  C=10000, epsilon=1, gamma=0.01, kernel=rbf, score=-2.195, total=   0.0s\n",
      "[CV] C=10000, epsilon=1, gamma=0.01, kernel=rbf ......................\n",
      "[CV]  C=10000, epsilon=1, gamma=0.01, kernel=rbf, score=-3.286, total=   0.0s\n",
      "[CV] C=10000, epsilon=1, gamma=0.01, kernel=rbf ......................\n",
      "[CV]  C=10000, epsilon=1, gamma=0.01, kernel=rbf, score=-0.549, total=   0.0s\n",
      "[CV] C=10000, epsilon=1, gamma=0.001, kernel=rbf .....................\n",
      "[CV]  C=10000, epsilon=1, gamma=0.001, kernel=rbf, score=-0.224, total=   0.0s\n",
      "[CV] C=10000, epsilon=1, gamma=0.001, kernel=rbf .....................\n",
      "[CV]  C=10000, epsilon=1, gamma=0.001, kernel=rbf, score=-0.692, total=   0.0s\n",
      "[CV] C=10000, epsilon=1, gamma=0.001, kernel=rbf .....................\n",
      "[CV]  C=10000, epsilon=1, gamma=0.001, kernel=rbf, score=-0.067, total=   0.0s\n",
      "[CV] C=10000, epsilon=1, gamma=0.0001, kernel=rbf ....................\n",
      "[CV]  C=10000, epsilon=1, gamma=0.0001, kernel=rbf, score=-0.500, total=   0.0s\n",
      "[CV] C=10000, epsilon=1, gamma=0.0001, kernel=rbf ....................\n",
      "[CV]  C=10000, epsilon=1, gamma=0.0001, kernel=rbf, score=-0.401, total=   0.0s\n",
      "[CV] C=10000, epsilon=1, gamma=0.0001, kernel=rbf ....................\n",
      "[CV]  C=10000, epsilon=1, gamma=0.0001, kernel=rbf, score=-0.171, total=   0.0s\n",
      "[CV] C=10000, epsilon=1, gamma=1e-05, kernel=rbf .....................\n",
      "[CV]  C=10000, epsilon=1, gamma=1e-05, kernel=rbf, score=-0.154, total=   0.0s\n",
      "[CV] C=10000, epsilon=1, gamma=1e-05, kernel=rbf .....................\n",
      "[CV]  C=10000, epsilon=1, gamma=1e-05, kernel=rbf, score=-0.376, total=   0.0s\n",
      "[CV] C=10000, epsilon=1, gamma=1e-05, kernel=rbf .....................\n",
      "[CV]  C=10000, epsilon=1, gamma=1e-05, kernel=rbf, score=-0.187, total=   0.0s\n",
      "[CV] C=10000, epsilon=1, gamma=1e-06, kernel=rbf .....................\n",
      "[CV]  C=10000, epsilon=1, gamma=1e-06, kernel=rbf, score=-0.109, total=   0.0s\n",
      "[CV] C=10000, epsilon=1, gamma=1e-06, kernel=rbf .....................\n",
      "[CV]  C=10000, epsilon=1, gamma=1e-06, kernel=rbf, score=-0.436, total=   0.0s\n",
      "[CV] C=10000, epsilon=1, gamma=1e-06, kernel=rbf .....................\n",
      "[CV]  C=10000, epsilon=1, gamma=1e-06, kernel=rbf, score=-0.169, total=   0.0s\n",
      "[CV] C=10000, epsilon=1, gamma=1e-07, kernel=rbf .....................\n",
      "[CV]  C=10000, epsilon=1, gamma=1e-07, kernel=rbf, score=-0.074, total=   0.0s\n",
      "[CV] C=10000, epsilon=1, gamma=1e-07, kernel=rbf .....................\n",
      "[CV]  C=10000, epsilon=1, gamma=1e-07, kernel=rbf, score=-0.263, total=   0.0s\n",
      "[CV] C=10000, epsilon=1, gamma=1e-07, kernel=rbf .....................\n",
      "[CV]  C=10000, epsilon=1, gamma=1e-07, kernel=rbf, score=-0.156, total=   0.0s\n",
      "[CV] C=10000, epsilon=1, gamma=1e-08, kernel=rbf .....................\n",
      "[CV]  C=10000, epsilon=1, gamma=1e-08, kernel=rbf, score=-0.069, total=   0.0s\n",
      "[CV] C=10000, epsilon=1, gamma=1e-08, kernel=rbf .....................\n",
      "[CV]  C=10000, epsilon=1, gamma=1e-08, kernel=rbf, score=-0.230, total=   0.0s\n",
      "[CV] C=10000, epsilon=1, gamma=1e-08, kernel=rbf .....................\n",
      "[CV]  C=10000, epsilon=1, gamma=1e-08, kernel=rbf, score=-0.152, total=   0.0s\n",
      "[CV] C=10000, epsilon=10, gamma=1, kernel=rbf ........................\n",
      "[CV]  C=10000, epsilon=10, gamma=1, kernel=rbf, score=-0.133, total=   0.0s\n",
      "[CV] C=10000, epsilon=10, gamma=1, kernel=rbf ........................\n",
      "[CV]  C=10000, epsilon=10, gamma=1, kernel=rbf, score=-0.006, total=   0.0s\n",
      "[CV] C=10000, epsilon=10, gamma=1, kernel=rbf ........................\n",
      "[CV]  C=10000, epsilon=10, gamma=1, kernel=rbf, score=-0.060, total=   0.0s\n",
      "[CV] C=10000, epsilon=10, gamma=0.1, kernel=rbf ......................\n",
      "[CV]  C=10000, epsilon=10, gamma=0.1, kernel=rbf, score=-0.537, total=   0.0s\n",
      "[CV] C=10000, epsilon=10, gamma=0.1, kernel=rbf ......................\n",
      "[CV]  C=10000, epsilon=10, gamma=0.1, kernel=rbf, score=-0.652, total=   0.0s\n",
      "[CV] C=10000, epsilon=10, gamma=0.1, kernel=rbf ......................\n",
      "[CV]  C=10000, epsilon=10, gamma=0.1, kernel=rbf, score=-0.371, total=   0.0s\n",
      "[CV] C=10000, epsilon=10, gamma=0.01, kernel=rbf .....................\n",
      "[CV]  C=10000, epsilon=10, gamma=0.01, kernel=rbf, score=-1.756, total=   0.0s\n",
      "[CV] C=10000, epsilon=10, gamma=0.01, kernel=rbf .....................\n",
      "[CV]  C=10000, epsilon=10, gamma=0.01, kernel=rbf, score=-2.394, total=   0.0s\n",
      "[CV] C=10000, epsilon=10, gamma=0.01, kernel=rbf .....................\n",
      "[CV]  C=10000, epsilon=10, gamma=0.01, kernel=rbf, score=-0.538, total=   0.0s\n",
      "[CV] C=10000, epsilon=10, gamma=0.001, kernel=rbf ....................\n",
      "[CV]  C=10000, epsilon=10, gamma=0.001, kernel=rbf, score=-0.311, total=   0.0s\n",
      "[CV] C=10000, epsilon=10, gamma=0.001, kernel=rbf ....................\n",
      "[CV]  C=10000, epsilon=10, gamma=0.001, kernel=rbf, score=-0.598, total=   0.0s\n",
      "[CV] C=10000, epsilon=10, gamma=0.001, kernel=rbf ....................\n",
      "[CV]  C=10000, epsilon=10, gamma=0.001, kernel=rbf, score=-0.093, total=   0.0s\n",
      "[CV] C=10000, epsilon=10, gamma=0.0001, kernel=rbf ...................\n",
      "[CV]  C=10000, epsilon=10, gamma=0.0001, kernel=rbf, score=-0.389, total=   0.0s\n",
      "[CV] C=10000, epsilon=10, gamma=0.0001, kernel=rbf ...................\n",
      "[CV]  C=10000, epsilon=10, gamma=0.0001, kernel=rbf, score=-0.489, total=   0.0s\n",
      "[CV] C=10000, epsilon=10, gamma=0.0001, kernel=rbf ...................\n",
      "[CV]  C=10000, epsilon=10, gamma=0.0001, kernel=rbf, score=-0.228, total=   0.0s\n",
      "[CV] C=10000, epsilon=10, gamma=1e-05, kernel=rbf ....................\n",
      "[CV]  C=10000, epsilon=10, gamma=1e-05, kernel=rbf, score=-0.153, total=   0.0s\n",
      "[CV] C=10000, epsilon=10, gamma=1e-05, kernel=rbf ....................\n",
      "[CV]  C=10000, epsilon=10, gamma=1e-05, kernel=rbf, score=-0.313, total=   0.0s\n",
      "[CV] C=10000, epsilon=10, gamma=1e-05, kernel=rbf ....................\n",
      "[CV]  C=10000, epsilon=10, gamma=1e-05, kernel=rbf, score=-0.163, total=   0.0s\n",
      "[CV] C=10000, epsilon=10, gamma=1e-06, kernel=rbf ....................\n",
      "[CV]  C=10000, epsilon=10, gamma=1e-06, kernel=rbf, score=-0.044, total=   0.0s\n",
      "[CV] C=10000, epsilon=10, gamma=1e-06, kernel=rbf ....................\n",
      "[CV]  C=10000, epsilon=10, gamma=1e-06, kernel=rbf, score=-0.240, total=   0.0s\n",
      "[CV] C=10000, epsilon=10, gamma=1e-06, kernel=rbf ....................\n",
      "[CV]  C=10000, epsilon=10, gamma=1e-06, kernel=rbf, score=-0.130, total=   0.0s\n",
      "[CV] C=10000, epsilon=10, gamma=1e-07, kernel=rbf ....................\n",
      "[CV]  C=10000, epsilon=10, gamma=1e-07, kernel=rbf, score=-0.029, total=   0.0s\n",
      "[CV] C=10000, epsilon=10, gamma=1e-07, kernel=rbf ....................\n",
      "[CV]  C=10000, epsilon=10, gamma=1e-07, kernel=rbf, score=-0.214, total=   0.0s\n",
      "[CV] C=10000, epsilon=10, gamma=1e-07, kernel=rbf ....................\n",
      "[CV]  C=10000, epsilon=10, gamma=1e-07, kernel=rbf, score=-0.127, total=   0.0s\n",
      "[CV] C=10000, epsilon=10, gamma=1e-08, kernel=rbf ....................\n",
      "[CV]  C=10000, epsilon=10, gamma=1e-08, kernel=rbf, score=-0.027, total=   0.0s\n",
      "[CV] C=10000, epsilon=10, gamma=1e-08, kernel=rbf ....................\n",
      "[CV]  C=10000, epsilon=10, gamma=1e-08, kernel=rbf, score=-0.211, total=   0.0s\n",
      "[CV] C=10000, epsilon=10, gamma=1e-08, kernel=rbf ....................\n",
      "[CV]  C=10000, epsilon=10, gamma=1e-08, kernel=rbf, score=-0.127, total=   0.0s\n",
      "[CV] C=10000, epsilon=100, gamma=1, kernel=rbf .......................\n",
      "[CV]  C=10000, epsilon=100, gamma=1, kernel=rbf, score=-1.161, total=   0.0s\n",
      "[CV] C=10000, epsilon=100, gamma=1, kernel=rbf .......................\n",
      "[CV]  C=10000, epsilon=100, gamma=1, kernel=rbf, score=-0.627, total=   0.0s\n",
      "[CV] C=10000, epsilon=100, gamma=1, kernel=rbf .......................\n",
      "[CV]  C=10000, epsilon=100, gamma=1, kernel=rbf, score=-0.000, total=   0.0s\n",
      "[CV] C=10000, epsilon=100, gamma=0.1, kernel=rbf .....................\n",
      "[CV]  C=10000, epsilon=100, gamma=0.1, kernel=rbf, score=-1.161, total=   0.0s\n",
      "[CV] C=10000, epsilon=100, gamma=0.1, kernel=rbf .....................\n",
      "[CV]  C=10000, epsilon=100, gamma=0.1, kernel=rbf, score=-0.627, total=   0.0s\n",
      "[CV] C=10000, epsilon=100, gamma=0.1, kernel=rbf .....................\n",
      "[CV]  C=10000, epsilon=100, gamma=0.1, kernel=rbf, score=-0.000, total=   0.0s\n",
      "[CV] C=10000, epsilon=100, gamma=0.01, kernel=rbf ....................\n",
      "[CV]  C=10000, epsilon=100, gamma=0.01, kernel=rbf, score=-1.161, total=   0.0s\n",
      "[CV] C=10000, epsilon=100, gamma=0.01, kernel=rbf ....................\n",
      "[CV]  C=10000, epsilon=100, gamma=0.01, kernel=rbf, score=-0.627, total=   0.0s\n",
      "[CV] C=10000, epsilon=100, gamma=0.01, kernel=rbf ....................\n",
      "[CV]  C=10000, epsilon=100, gamma=0.01, kernel=rbf, score=-0.000, total=   0.0s\n",
      "[CV] C=10000, epsilon=100, gamma=0.001, kernel=rbf ...................\n",
      "[CV]  C=10000, epsilon=100, gamma=0.001, kernel=rbf, score=-1.161, total=   0.0s\n",
      "[CV] C=10000, epsilon=100, gamma=0.001, kernel=rbf ...................\n",
      "[CV]  C=10000, epsilon=100, gamma=0.001, kernel=rbf, score=-0.627, total=   0.0s\n",
      "[CV] C=10000, epsilon=100, gamma=0.001, kernel=rbf ...................\n",
      "[CV]  C=10000, epsilon=100, gamma=0.001, kernel=rbf, score=-0.000, total=   0.0s\n",
      "[CV] C=10000, epsilon=100, gamma=0.0001, kernel=rbf ..................\n",
      "[CV]  C=10000, epsilon=100, gamma=0.0001, kernel=rbf, score=-1.161, total=   0.0s\n",
      "[CV] C=10000, epsilon=100, gamma=0.0001, kernel=rbf ..................\n",
      "[CV]  C=10000, epsilon=100, gamma=0.0001, kernel=rbf, score=-0.627, total=   0.0s\n",
      "[CV] C=10000, epsilon=100, gamma=0.0001, kernel=rbf ..................\n",
      "[CV]  C=10000, epsilon=100, gamma=0.0001, kernel=rbf, score=-0.000, total=   0.0s\n",
      "[CV] C=10000, epsilon=100, gamma=1e-05, kernel=rbf ...................\n",
      "[CV]  C=10000, epsilon=100, gamma=1e-05, kernel=rbf, score=-1.161, total=   0.0s\n",
      "[CV] C=10000, epsilon=100, gamma=1e-05, kernel=rbf ...................\n",
      "[CV]  C=10000, epsilon=100, gamma=1e-05, kernel=rbf, score=-0.627, total=   0.0s\n",
      "[CV] C=10000, epsilon=100, gamma=1e-05, kernel=rbf ...................\n",
      "[CV]  C=10000, epsilon=100, gamma=1e-05, kernel=rbf, score=-0.000, total=   0.0s\n",
      "[CV] C=10000, epsilon=100, gamma=1e-06, kernel=rbf ...................\n",
      "[CV]  C=10000, epsilon=100, gamma=1e-06, kernel=rbf, score=-1.161, total=   0.0s\n",
      "[CV] C=10000, epsilon=100, gamma=1e-06, kernel=rbf ...................\n",
      "[CV]  C=10000, epsilon=100, gamma=1e-06, kernel=rbf, score=-0.627, total=   0.0s\n",
      "[CV] C=10000, epsilon=100, gamma=1e-06, kernel=rbf ...................\n",
      "[CV]  C=10000, epsilon=100, gamma=1e-06, kernel=rbf, score=-0.000, total=   0.0s\n",
      "[CV] C=10000, epsilon=100, gamma=1e-07, kernel=rbf ...................\n",
      "[CV]  C=10000, epsilon=100, gamma=1e-07, kernel=rbf, score=-1.161, total=   0.0s\n",
      "[CV] C=10000, epsilon=100, gamma=1e-07, kernel=rbf ...................\n",
      "[CV]  C=10000, epsilon=100, gamma=1e-07, kernel=rbf, score=-0.627, total=   0.0s\n",
      "[CV] C=10000, epsilon=100, gamma=1e-07, kernel=rbf ...................\n",
      "[CV]  C=10000, epsilon=100, gamma=1e-07, kernel=rbf, score=-0.000, total=   0.0s\n",
      "[CV] C=10000, epsilon=100, gamma=1e-08, kernel=rbf ...................\n",
      "[CV]  C=10000, epsilon=100, gamma=1e-08, kernel=rbf, score=-1.161, total=   0.0s\n",
      "[CV] C=10000, epsilon=100, gamma=1e-08, kernel=rbf ...................\n",
      "[CV]  C=10000, epsilon=100, gamma=1e-08, kernel=rbf, score=-0.627, total=   0.0s\n",
      "[CV] C=10000, epsilon=100, gamma=1e-08, kernel=rbf ...................\n",
      "[CV]  C=10000, epsilon=100, gamma=1e-08, kernel=rbf, score=-0.000, total=   0.0s\n",
      "[CV] C=10000, epsilon=1000, gamma=1, kernel=rbf ......................\n",
      "[CV]  C=10000, epsilon=1000, gamma=1, kernel=rbf, score=-1.161, total=   0.0s\n",
      "[CV] C=10000, epsilon=1000, gamma=1, kernel=rbf ......................\n",
      "[CV]  C=10000, epsilon=1000, gamma=1, kernel=rbf, score=-0.627, total=   0.0s\n",
      "[CV] C=10000, epsilon=1000, gamma=1, kernel=rbf ......................\n",
      "[CV]  C=10000, epsilon=1000, gamma=1, kernel=rbf, score=-0.000, total=   0.0s\n",
      "[CV] C=10000, epsilon=1000, gamma=0.1, kernel=rbf ....................\n",
      "[CV]  C=10000, epsilon=1000, gamma=0.1, kernel=rbf, score=-1.161, total=   0.0s\n",
      "[CV] C=10000, epsilon=1000, gamma=0.1, kernel=rbf ....................\n",
      "[CV]  C=10000, epsilon=1000, gamma=0.1, kernel=rbf, score=-0.627, total=   0.0s\n",
      "[CV] C=10000, epsilon=1000, gamma=0.1, kernel=rbf ....................\n",
      "[CV]  C=10000, epsilon=1000, gamma=0.1, kernel=rbf, score=-0.000, total=   0.0s\n",
      "[CV] C=10000, epsilon=1000, gamma=0.01, kernel=rbf ...................\n",
      "[CV]  C=10000, epsilon=1000, gamma=0.01, kernel=rbf, score=-1.161, total=   0.0s\n",
      "[CV] C=10000, epsilon=1000, gamma=0.01, kernel=rbf ...................\n",
      "[CV]  C=10000, epsilon=1000, gamma=0.01, kernel=rbf, score=-0.627, total=   0.0s\n",
      "[CV] C=10000, epsilon=1000, gamma=0.01, kernel=rbf ...................\n",
      "[CV]  C=10000, epsilon=1000, gamma=0.01, kernel=rbf, score=-0.000, total=   0.0s\n",
      "[CV] C=10000, epsilon=1000, gamma=0.001, kernel=rbf ..................\n",
      "[CV]  C=10000, epsilon=1000, gamma=0.001, kernel=rbf, score=-1.161, total=   0.0s\n",
      "[CV] C=10000, epsilon=1000, gamma=0.001, kernel=rbf ..................\n",
      "[CV]  C=10000, epsilon=1000, gamma=0.001, kernel=rbf, score=-0.627, total=   0.0s\n",
      "[CV] C=10000, epsilon=1000, gamma=0.001, kernel=rbf ..................\n",
      "[CV]  C=10000, epsilon=1000, gamma=0.001, kernel=rbf, score=-0.000, total=   0.0s\n",
      "[CV] C=10000, epsilon=1000, gamma=0.0001, kernel=rbf .................\n"
     ]
    },
    {
     "name": "stdout",
     "output_type": "stream",
     "text": [
      "[CV]  C=10000, epsilon=1000, gamma=0.0001, kernel=rbf, score=-1.161, total=   0.0s\n",
      "[CV] C=10000, epsilon=1000, gamma=0.0001, kernel=rbf .................\n",
      "[CV]  C=10000, epsilon=1000, gamma=0.0001, kernel=rbf, score=-0.627, total=   0.0s\n",
      "[CV] C=10000, epsilon=1000, gamma=0.0001, kernel=rbf .................\n",
      "[CV]  C=10000, epsilon=1000, gamma=0.0001, kernel=rbf, score=-0.000, total=   0.0s\n",
      "[CV] C=10000, epsilon=1000, gamma=1e-05, kernel=rbf ..................\n",
      "[CV]  C=10000, epsilon=1000, gamma=1e-05, kernel=rbf, score=-1.161, total=   0.0s\n",
      "[CV] C=10000, epsilon=1000, gamma=1e-05, kernel=rbf ..................\n",
      "[CV]  C=10000, epsilon=1000, gamma=1e-05, kernel=rbf, score=-0.627, total=   0.0s\n",
      "[CV] C=10000, epsilon=1000, gamma=1e-05, kernel=rbf ..................\n",
      "[CV]  C=10000, epsilon=1000, gamma=1e-05, kernel=rbf, score=-0.000, total=   0.0s\n",
      "[CV] C=10000, epsilon=1000, gamma=1e-06, kernel=rbf ..................\n",
      "[CV]  C=10000, epsilon=1000, gamma=1e-06, kernel=rbf, score=-1.161, total=   0.0s\n",
      "[CV] C=10000, epsilon=1000, gamma=1e-06, kernel=rbf ..................\n",
      "[CV]  C=10000, epsilon=1000, gamma=1e-06, kernel=rbf, score=-0.627, total=   0.0s\n",
      "[CV] C=10000, epsilon=1000, gamma=1e-06, kernel=rbf ..................\n",
      "[CV]  C=10000, epsilon=1000, gamma=1e-06, kernel=rbf, score=-0.000, total=   0.0s\n",
      "[CV] C=10000, epsilon=1000, gamma=1e-07, kernel=rbf ..................\n",
      "[CV]  C=10000, epsilon=1000, gamma=1e-07, kernel=rbf, score=-1.161, total=   0.0s\n",
      "[CV] C=10000, epsilon=1000, gamma=1e-07, kernel=rbf ..................\n",
      "[CV]  C=10000, epsilon=1000, gamma=1e-07, kernel=rbf, score=-0.627, total=   0.0s\n",
      "[CV] C=10000, epsilon=1000, gamma=1e-07, kernel=rbf ..................\n",
      "[CV]  C=10000, epsilon=1000, gamma=1e-07, kernel=rbf, score=-0.000, total=   0.0s\n",
      "[CV] C=10000, epsilon=1000, gamma=1e-08, kernel=rbf ..................\n",
      "[CV]  C=10000, epsilon=1000, gamma=1e-08, kernel=rbf, score=-1.161, total=   0.0s\n",
      "[CV] C=10000, epsilon=1000, gamma=1e-08, kernel=rbf ..................\n",
      "[CV]  C=10000, epsilon=1000, gamma=1e-08, kernel=rbf, score=-0.627, total=   0.0s\n",
      "[CV] C=10000, epsilon=1000, gamma=1e-08, kernel=rbf ..................\n",
      "[CV]  C=10000, epsilon=1000, gamma=1e-08, kernel=rbf, score=-0.000, total=   0.0s\n"
     ]
    },
    {
     "name": "stderr",
     "output_type": "stream",
     "text": [
      "[Parallel(n_jobs=1)]: Done 1215 out of 1215 | elapsed:    3.9s finished\n",
      "D:\\Programs\\Anaconda3\\lib\\site-packages\\sklearn\\model_selection\\_search.py:814: DeprecationWarning:\n",
      "\n",
      "The default of the `iid` parameter will change from True to False in version 0.22 and will be removed in 0.24. This will change numeric results when test-set sizes are unequal.\n",
      "\n"
     ]
    },
    {
     "data": {
      "text/plain": [
       "GridSearchCV(cv='warn', error_score='raise-deprecating',\n",
       "             estimator=SVR(C=1.0, cache_size=200, coef0=0.0, degree=3,\n",
       "                           epsilon=0.1, gamma='auto_deprecated', kernel='rbf',\n",
       "                           max_iter=-1, shrinking=True, tol=0.001,\n",
       "                           verbose=False),\n",
       "             iid='warn', n_jobs=None,\n",
       "             param_grid={'C': [0.0001, 0.001, 0.01, 0.1, 1, 10, 100, 1000,\n",
       "                               10000],\n",
       "                         'epsilon': [0.1, 1, 10, 100, 1000],\n",
       "                         'gamma': [1, 0.1, 0.01, 0.001, 0.0001, 1e-05, 1e-06,\n",
       "                                   1e-07, 1e-08],\n",
       "                         'kernel': ['rbf']},\n",
       "             pre_dispatch='2*n_jobs', refit=True, return_train_score=False,\n",
       "             scoring=None, verbose=5)"
      ]
     },
     "execution_count": 223,
     "metadata": {},
     "output_type": "execute_result"
    }
   ],
   "source": [
    "params={'C':[0.0001,0.001,0.01,0.1,1,10,100,1000,10000],'gamma':[1 ,0.1,0.01,0.001,0.0001,0.00001,0.000001,0.0000001,0.00000001],'kernel':['rbf'],'epsilon':[0.1,1,10,100,1000]}\n",
    "grsearch=GridSearchCV(SVR(),params,refit=True,verbose=5)\n",
    "grsearch.fit(X_train,y_train)"
   ]
  },
  {
   "cell_type": "code",
   "execution_count": 224,
   "metadata": {
    "scrolled": true
   },
   "outputs": [
    {
     "data": {
      "text/plain": [
       "{'C': 100, 'epsilon': 0.1, 'gamma': 1, 'kernel': 'rbf'}"
      ]
     },
     "execution_count": 224,
     "metadata": {},
     "output_type": "execute_result"
    }
   ],
   "source": [
    "grsearch.best_params_"
   ]
  },
  {
   "cell_type": "code",
   "execution_count": 225,
   "metadata": {},
   "outputs": [
    {
     "data": {
      "text/plain": [
       "<bound method BaseSearchCV.score of GridSearchCV(cv='warn', error_score='raise-deprecating',\n",
       "             estimator=SVR(C=1.0, cache_size=200, coef0=0.0, degree=3,\n",
       "                           epsilon=0.1, gamma='auto_deprecated', kernel='rbf',\n",
       "                           max_iter=-1, shrinking=True, tol=0.001,\n",
       "                           verbose=False),\n",
       "             iid='warn', n_jobs=None,\n",
       "             param_grid={'C': [0.0001, 0.001, 0.01, 0.1, 1, 10, 100, 1000,\n",
       "                               10000],\n",
       "                         'epsilon': [0.1, 1, 10, 100, 1000],\n",
       "                         'gamma': [1, 0.1, 0.01, 0.001, 0.0001, 1e-05, 1e-06,\n",
       "                                   1e-07, 1e-08],\n",
       "                         'kernel': ['rbf']},\n",
       "             pre_dispatch='2*n_jobs', refit=True, return_train_score=False,\n",
       "             scoring=None, verbose=5)>"
      ]
     },
     "execution_count": 225,
     "metadata": {},
     "output_type": "execute_result"
    }
   ],
   "source": [
    "grsearch.score"
   ]
  },
  {
   "cell_type": "code",
   "execution_count": 226,
   "metadata": {},
   "outputs": [],
   "source": [
    "NPredictions=grsearch.predict(X_test)"
   ]
  },
  {
   "cell_type": "code",
   "execution_count": 227,
   "metadata": {
    "scrolled": true
   },
   "outputs": [
    {
     "name": "stdout",
     "output_type": "stream",
     "text": [
      "MAE: 3.326377010722749\n",
      "MSE: 979.3953074293145\n",
      "RMSE: 3.9119115121105485\n"
     ]
    }
   ],
   "source": [
    "print('MAE:',metrics.mean_absolute_error(y_test,NPredictions)/8)\n",
    "print('MSE:', metrics.mean_squared_error(y_test, NPredictions))\n",
    "print('RMSE:', np.sqrt(metrics.mean_squared_error(y_test, NPredictions))/8)"
   ]
  },
  {
   "cell_type": "code",
   "execution_count": 228,
   "metadata": {
    "scrolled": true
   },
   "outputs": [
    {
     "data": {
      "text/plain": [
       "array([14.29026846, 14.29030014, 14.28239156, 14.19259116, 14.01282589,\n",
       "       14.11442068, 14.63971265, 14.37073334, 14.3063511 ])"
      ]
     },
     "execution_count": 228,
     "metadata": {},
     "output_type": "execute_result"
    }
   ],
   "source": [
    "grsearch.predict(NewPrediction)/8"
   ]
  },
  {
   "cell_type": "code",
   "execution_count": 229,
   "metadata": {},
   "outputs": [],
   "source": [
    "X=VPollos.drop('Pollos Vendidos',axis=1)\n",
    "y=VPollos['Pollos Vendidos']\n",
    "X_train, X_test, y_train, y_test = train_test_split(X, y, test_size=0.30,random_state=101)"
   ]
  },
  {
   "cell_type": "code",
   "execution_count": 230,
   "metadata": {
    "scrolled": true
   },
   "outputs": [
    {
     "name": "stdout",
     "output_type": "stream",
     "text": [
      "MAE: 3.1009470570167115\n",
      "MSE: 930.1287311241817\n",
      "RMSE: 3.81225149010599\n"
     ]
    },
    {
     "name": "stderr",
     "output_type": "stream",
     "text": [
      "D:\\Programs\\Anaconda3\\lib\\site-packages\\sklearn\\svm\\base.py:193: FutureWarning:\n",
      "\n",
      "The default value of gamma will change from 'auto' to 'scale' in version 0.22 to account better for unscaled features. Set gamma explicitly to 'auto' or 'scale' to avoid this warning.\n",
      "\n"
     ]
    }
   ],
   "source": [
    "nsvr=SVR()\n",
    "nsvr.fit(X_train,y_train)\n",
    "PR1=nsvr.predict(X_test)\n",
    "print('MAE:',metrics.mean_absolute_error(y_test,PR1)/8)\n",
    "print('MSE:', metrics.mean_squared_error(y_test, PR1))\n",
    "print('RMSE:', np.sqrt(metrics.mean_squared_error(y_test, PR1))/8)"
   ]
  },
  {
   "cell_type": "code",
   "execution_count": 231,
   "metadata": {
    "scrolled": true
   },
   "outputs": [
    {
     "data": {
      "text/plain": [
       "array([13.04014975, 13.05466029, 13.05608764, 12.98101086, 12.91106033,\n",
       "       12.96664064, 13.06718317, 13.1513993 , 13.09821254])"
      ]
     },
     "execution_count": 231,
     "metadata": {},
     "output_type": "execute_result"
    }
   ],
   "source": [
    "nsvr.predict(NewPrediction)/8"
   ]
  },
  {
   "cell_type": "code",
   "execution_count": 235,
   "metadata": {},
   "outputs": [
    {
     "name": "stderr",
     "output_type": "stream",
     "text": [
      "D:\\Programs\\Anaconda3\\lib\\site-packages\\sklearn\\svm\\base.py:193: FutureWarning:\n",
      "\n",
      "The default value of gamma will change from 'auto' to 'scale' in version 0.22 to account better for unscaled features. Set gamma explicitly to 'auto' or 'scale' to avoid this warning.\n",
      "\n"
     ]
    },
    {
     "data": {
      "text/plain": [
       "array([13.04014975, 13.05466029, 13.05608764, 12.98101086, 12.91106033,\n",
       "       12.96664064, 13.06718317, 13.1513993 , 13.09821254])"
      ]
     },
     "execution_count": 235,
     "metadata": {},
     "output_type": "execute_result"
    }
   ],
   "source": [
    "X=VPollos.drop('Pollos Vendidos',axis=1)\n",
    "y=VPollos['Pollos Vendidos']\n",
    "X_train, X_test, y_train, y_test = train_test_split(X, y, test_size=0.30,random_state=101)\n",
    "nsvr=SVR()\n",
    "nsvr.fit(X_train,y_train)\n",
    "PR1=nsvr.predict(X_test)\n",
    "nsvr.predict(NewPrediction)/8"
   ]
  }
 ],
 "metadata": {
  "kernelspec": {
   "display_name": "Python 3",
   "language": "python",
   "name": "python3"
  },
  "language_info": {
   "codemirror_mode": {
    "name": "ipython",
    "version": 3
   },
   "file_extension": ".py",
   "mimetype": "text/x-python",
   "name": "python",
   "nbconvert_exporter": "python",
   "pygments_lexer": "ipython3",
   "version": "3.7.4"
  }
 },
 "nbformat": 4,
 "nbformat_minor": 2
}
